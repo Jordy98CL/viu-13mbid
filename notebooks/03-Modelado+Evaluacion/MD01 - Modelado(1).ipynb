{
 "cells": [
  {
   "cell_type": "markdown",
   "metadata": {},
   "source": [
    "## Máster en Big Data y Data Science\n",
    "\n",
    "### Metodologías de gestión y diseño de proyectos de big data\n",
    "\n",
    "#### AP2 - Modelado\n",
    "\n",
    "---\n",
    "\n",
    "En esta libreta se comienzan a ejecutar las actividades correspondientes a la fase de modelado. \n",
    "\n",
    "---"
   ]
  },
  {
   "cell_type": "markdown",
   "metadata": {},
   "source": [
    "### Carga de librerias a utilizar"
   ]
  },
  {
   "cell_type": "code",
   "execution_count": 43,
   "metadata": {},
   "outputs": [],
   "source": [
    "# Se importan las librerias a utilizar\n",
    "import pandas as pd\n",
    "import numpy as np\n",
    "\n",
    "# Para registro de toda la experimentación\n",
    "import mlflow\n",
    "\n",
    "# Para la generación de los sets de train - test\n",
    "from sklearn.model_selection import train_test_split\n",
    "\n",
    "#Importaciones varias para la evaluación\n",
    "from sklearn.metrics import confusion_matrix,accuracy_score,classification_report\n",
    "from sklearn.metrics import confusion_matrix, ConfusionMatrixDisplay\n",
    "import matplotlib.pyplot as plt"
   ]
  },
  {
   "cell_type": "code",
   "execution_count": 44,
   "metadata": {},
   "outputs": [
    {
     "name": "stdout",
     "output_type": "stream",
     "text": [
      "1.3.1\n"
     ]
    }
   ],
   "source": [
    "import sklearn\n",
    "print(sklearn.__version__)"
   ]
  },
  {
   "cell_type": "markdown",
   "metadata": {},
   "source": [
    "### Lectura del dataset generado previamente"
   ]
  },
  {
   "cell_type": "code",
   "execution_count": 45,
   "metadata": {},
   "outputs": [
    {
     "data": {
      "text/html": [
       "<div>\n",
       "<style scoped>\n",
       "    .dataframe tbody tr th:only-of-type {\n",
       "        vertical-align: middle;\n",
       "    }\n",
       "\n",
       "    .dataframe tbody tr th {\n",
       "        vertical-align: top;\n",
       "    }\n",
       "\n",
       "    .dataframe thead th {\n",
       "        text-align: right;\n",
       "    }\n",
       "</style>\n",
       "<table border=\"1\" class=\"dataframe\">\n",
       "  <thead>\n",
       "    <tr style=\"text-align: right;\">\n",
       "      <th></th>\n",
       "      <th>operaciones_ult_12m</th>\n",
       "      <th>gastos_ult_12m</th>\n",
       "      <th>limite_credito_tc</th>\n",
       "      <th>antiguedad_cliente</th>\n",
       "      <th>tasa_interes</th>\n",
       "      <th>ingresos</th>\n",
       "      <th>pct_ingreso</th>\n",
       "      <th>antiguedad_empleado</th>\n",
       "      <th>edad</th>\n",
       "      <th>estado_civil_N</th>\n",
       "      <th>...</th>\n",
       "      <th>importe_solicitado</th>\n",
       "      <th>duracion_credito</th>\n",
       "      <th>situacion_vivienda</th>\n",
       "      <th>objetivo_credito</th>\n",
       "      <th>falta_pago</th>\n",
       "      <th>estado_cliente</th>\n",
       "      <th>genero</th>\n",
       "      <th>nivel_educativo</th>\n",
       "      <th>nivel_tarjeta</th>\n",
       "      <th>personas_a_cargo</th>\n",
       "    </tr>\n",
       "  </thead>\n",
       "  <tbody>\n",
       "    <tr>\n",
       "      <th>0</th>\n",
       "      <td>mayor_100</td>\n",
       "      <td>mayor_10k</td>\n",
       "      <td>3k_a_5k</td>\n",
       "      <td>2y_a_4y</td>\n",
       "      <td>hasta_7p</td>\n",
       "      <td>50k_a_100k</td>\n",
       "      <td>hasta_20</td>\n",
       "      <td>5_a_10</td>\n",
       "      <td>menor_25</td>\n",
       "      <td>C</td>\n",
       "      <td>...</td>\n",
       "      <td>11000</td>\n",
       "      <td>3</td>\n",
       "      <td>HIPOTECA</td>\n",
       "      <td>INVERSIONES</td>\n",
       "      <td>N</td>\n",
       "      <td>ACTIVO</td>\n",
       "      <td>F</td>\n",
       "      <td>SECUNDARIO_COMPLETO</td>\n",
       "      <td>Blue</td>\n",
       "      <td>3.0</td>\n",
       "    </tr>\n",
       "    <tr>\n",
       "      <th>1</th>\n",
       "      <td>15_a_30</td>\n",
       "      <td>menor_1k</td>\n",
       "      <td>3k_a_5k</td>\n",
       "      <td>2y_a_4y</td>\n",
       "      <td>15p_a_20p</td>\n",
       "      <td>20k_a_50k</td>\n",
       "      <td>hasta_20</td>\n",
       "      <td>menor_5</td>\n",
       "      <td>menor_25</td>\n",
       "      <td>S</td>\n",
       "      <td>...</td>\n",
       "      <td>1500</td>\n",
       "      <td>2</td>\n",
       "      <td>ALQUILER</td>\n",
       "      <td>MEJORAS_HOGAR</td>\n",
       "      <td>Y</td>\n",
       "      <td>PASIVO</td>\n",
       "      <td>M</td>\n",
       "      <td>DESCONOCIDO</td>\n",
       "      <td>Blue</td>\n",
       "      <td>0.0</td>\n",
       "    </tr>\n",
       "    <tr>\n",
       "      <th>2</th>\n",
       "      <td>15_a_30</td>\n",
       "      <td>2k_a_4k</td>\n",
       "      <td>5k_a_10k</td>\n",
       "      <td>2y_a_4y</td>\n",
       "      <td>7p_a_15p</td>\n",
       "      <td>20k_a_50k</td>\n",
       "      <td>20_a_40</td>\n",
       "      <td>5_a_10</td>\n",
       "      <td>menor_25</td>\n",
       "      <td>D</td>\n",
       "      <td>...</td>\n",
       "      <td>10000</td>\n",
       "      <td>2</td>\n",
       "      <td>OTROS</td>\n",
       "      <td>EDUCACIÓN</td>\n",
       "      <td>Y</td>\n",
       "      <td>PASIVO</td>\n",
       "      <td>M</td>\n",
       "      <td>POSGRADO_COMPLETO</td>\n",
       "      <td>Blue</td>\n",
       "      <td>3.0</td>\n",
       "    </tr>\n",
       "    <tr>\n",
       "      <th>3</th>\n",
       "      <td>75_a_100</td>\n",
       "      <td>2k_a_4k</td>\n",
       "      <td>menor_3k</td>\n",
       "      <td>menor_2y</td>\n",
       "      <td>7p_a_15p</td>\n",
       "      <td>20k_a_50k</td>\n",
       "      <td>20_a_40</td>\n",
       "      <td>menor_5</td>\n",
       "      <td>25_a_30</td>\n",
       "      <td>S</td>\n",
       "      <td>...</td>\n",
       "      <td>6000</td>\n",
       "      <td>4</td>\n",
       "      <td>ALQUILER</td>\n",
       "      <td>INVERSIONES</td>\n",
       "      <td>N</td>\n",
       "      <td>ACTIVO</td>\n",
       "      <td>F</td>\n",
       "      <td>UNIVERSITARIO_INCOMPLETO</td>\n",
       "      <td>Blue</td>\n",
       "      <td>2.0</td>\n",
       "    </tr>\n",
       "    <tr>\n",
       "      <th>4</th>\n",
       "      <td>50_a_75</td>\n",
       "      <td>4k_a_6k</td>\n",
       "      <td>3k_a_5k</td>\n",
       "      <td>2y_a_4y</td>\n",
       "      <td>7p_a_15p</td>\n",
       "      <td>50k_a_100k</td>\n",
       "      <td>20_a_40</td>\n",
       "      <td>menor_5</td>\n",
       "      <td>25_a_30</td>\n",
       "      <td>C</td>\n",
       "      <td>...</td>\n",
       "      <td>10000</td>\n",
       "      <td>2</td>\n",
       "      <td>HIPOTECA</td>\n",
       "      <td>EDUCACIÓN</td>\n",
       "      <td>N</td>\n",
       "      <td>ACTIVO</td>\n",
       "      <td>F</td>\n",
       "      <td>UNIVERSITARIO_INCOMPLETO</td>\n",
       "      <td>Blue</td>\n",
       "      <td>2.0</td>\n",
       "    </tr>\n",
       "  </tbody>\n",
       "</table>\n",
       "<p>5 rows × 21 columns</p>\n",
       "</div>"
      ],
      "text/plain": [
       "  operaciones_ult_12m gastos_ult_12m limite_credito_tc antiguedad_cliente  \\\n",
       "0           mayor_100      mayor_10k           3k_a_5k            2y_a_4y   \n",
       "1             15_a_30       menor_1k           3k_a_5k            2y_a_4y   \n",
       "2             15_a_30        2k_a_4k          5k_a_10k            2y_a_4y   \n",
       "3            75_a_100        2k_a_4k          menor_3k           menor_2y   \n",
       "4             50_a_75        4k_a_6k           3k_a_5k            2y_a_4y   \n",
       "\n",
       "  tasa_interes    ingresos pct_ingreso antiguedad_empleado      edad  \\\n",
       "0     hasta_7p  50k_a_100k    hasta_20              5_a_10  menor_25   \n",
       "1    15p_a_20p   20k_a_50k    hasta_20             menor_5  menor_25   \n",
       "2     7p_a_15p   20k_a_50k     20_a_40              5_a_10  menor_25   \n",
       "3     7p_a_15p   20k_a_50k     20_a_40             menor_5   25_a_30   \n",
       "4     7p_a_15p  50k_a_100k     20_a_40             menor_5   25_a_30   \n",
       "\n",
       "  estado_civil_N  ... importe_solicitado  duracion_credito  \\\n",
       "0              C  ...              11000                 3   \n",
       "1              S  ...               1500                 2   \n",
       "2              D  ...              10000                 2   \n",
       "3              S  ...               6000                 4   \n",
       "4              C  ...              10000                 2   \n",
       "\n",
       "   situacion_vivienda objetivo_credito falta_pago estado_cliente genero  \\\n",
       "0            HIPOTECA      INVERSIONES          N         ACTIVO      F   \n",
       "1            ALQUILER    MEJORAS_HOGAR          Y         PASIVO      M   \n",
       "2               OTROS        EDUCACIÓN          Y         PASIVO      M   \n",
       "3            ALQUILER      INVERSIONES          N         ACTIVO      F   \n",
       "4            HIPOTECA        EDUCACIÓN          N         ACTIVO      F   \n",
       "\n",
       "            nivel_educativo nivel_tarjeta personas_a_cargo  \n",
       "0       SECUNDARIO_COMPLETO          Blue              3.0  \n",
       "1               DESCONOCIDO          Blue              0.0  \n",
       "2         POSGRADO_COMPLETO          Blue              3.0  \n",
       "3  UNIVERSITARIO_INCOMPLETO          Blue              2.0  \n",
       "4  UNIVERSITARIO_INCOMPLETO          Blue              2.0  \n",
       "\n",
       "[5 rows x 21 columns]"
      ]
     },
     "execution_count": 45,
     "metadata": {},
     "output_type": "execute_result"
    }
   ],
   "source": [
    "# Se hace la lectura del dataset del seminario y se obtiene su cabecera\n",
    "datos = pd.read_csv('../../data/final/datos_finales.csv', sep=';')\n",
    "datos.head()"
   ]
  },
  {
   "cell_type": "markdown",
   "metadata": {},
   "source": [
    "### Revisión de meta-datos"
   ]
  },
  {
   "cell_type": "code",
   "execution_count": 46,
   "metadata": {},
   "outputs": [
    {
     "name": "stdout",
     "output_type": "stream",
     "text": [
      "Descripción del dataset 'datos_completos'\n",
      "Columnas del dataset:\n",
      "\n",
      "operaciones_ult_12m\n",
      "gastos_ult_12m\n",
      "limite_credito_tc\n",
      "antiguedad_cliente\n",
      "tasa_interes\n",
      "ingresos\n",
      "pct_ingreso\n",
      "antiguedad_empleado\n",
      "edad\n",
      "estado_civil_N\n",
      "estado_credito_N\n",
      "importe_solicitado\n",
      "duracion_credito\n",
      "situacion_vivienda\n",
      "objetivo_credito\n",
      "falta_pago\n",
      "estado_cliente\n",
      "genero\n",
      "nivel_educativo\n",
      "nivel_tarjeta\n",
      "personas_a_cargo\n",
      "\n",
      "Cantidad de filas: 10101\n"
     ]
    }
   ],
   "source": [
    "def reporte_descripcion_dataset(df):\n",
    "    columnas = df.columns\n",
    "    print(\"Columnas del dataset:\\n\")\n",
    "    for col in columnas:\n",
    "        print(col)\n",
    "    print(f\"\\nCantidad de filas: {df.shape[0]}\")\n",
    "\n",
    "print(\"Descripción del dataset 'datos_completos'\")\n",
    "reporte_descripcion_dataset(datos)"
   ]
  },
  {
   "cell_type": "markdown",
   "metadata": {},
   "source": [
    "### Armado de los sets de entrenamiento y testeo"
   ]
  },
  {
   "cell_type": "code",
   "execution_count": 48,
   "metadata": {},
   "outputs": [
    {
     "name": "stdout",
     "output_type": "stream",
     "text": [
      "Vista de los datos del atributo target: \n",
      "['N' 'Y' 'Y' 'N' 'N' 'N' 'N' 'N' 'N' 'N']\n",
      "--------------------------------------------------\n",
      "Vista parcial de los datos sin el atributo target:\n"
     ]
    },
    {
     "data": {
      "text/html": [
       "<div>\n",
       "<style scoped>\n",
       "    .dataframe tbody tr th:only-of-type {\n",
       "        vertical-align: middle;\n",
       "    }\n",
       "\n",
       "    .dataframe tbody tr th {\n",
       "        vertical-align: top;\n",
       "    }\n",
       "\n",
       "    .dataframe thead th {\n",
       "        text-align: right;\n",
       "    }\n",
       "</style>\n",
       "<table border=\"1\" class=\"dataframe\">\n",
       "  <thead>\n",
       "    <tr style=\"text-align: right;\">\n",
       "      <th></th>\n",
       "      <th>operaciones_ult_12m</th>\n",
       "      <th>gastos_ult_12m</th>\n",
       "      <th>limite_credito_tc</th>\n",
       "      <th>antiguedad_cliente</th>\n",
       "      <th>tasa_interes</th>\n",
       "      <th>ingresos</th>\n",
       "      <th>pct_ingreso</th>\n",
       "      <th>antiguedad_empleado</th>\n",
       "      <th>edad</th>\n",
       "      <th>importe_solicitado</th>\n",
       "      <th>duracion_credito</th>\n",
       "      <th>situacion_vivienda</th>\n",
       "      <th>objetivo_credito</th>\n",
       "      <th>estado_credito_N</th>\n",
       "      <th>estado_civil_N</th>\n",
       "      <th>estado_cliente</th>\n",
       "      <th>genero</th>\n",
       "      <th>nivel_educativo</th>\n",
       "      <th>personas_a_cargo</th>\n",
       "    </tr>\n",
       "  </thead>\n",
       "  <tbody>\n",
       "    <tr>\n",
       "      <th>0</th>\n",
       "      <td>mayor_100</td>\n",
       "      <td>mayor_10k</td>\n",
       "      <td>3k_a_5k</td>\n",
       "      <td>2y_a_4y</td>\n",
       "      <td>hasta_7p</td>\n",
       "      <td>50k_a_100k</td>\n",
       "      <td>hasta_20</td>\n",
       "      <td>5_a_10</td>\n",
       "      <td>menor_25</td>\n",
       "      <td>11000</td>\n",
       "      <td>3</td>\n",
       "      <td>HIPOTECA</td>\n",
       "      <td>INVERSIONES</td>\n",
       "      <td>C</td>\n",
       "      <td>C</td>\n",
       "      <td>ACTIVO</td>\n",
       "      <td>F</td>\n",
       "      <td>SECUNDARIO_COMPLETO</td>\n",
       "      <td>3.0</td>\n",
       "    </tr>\n",
       "    <tr>\n",
       "      <th>1</th>\n",
       "      <td>15_a_30</td>\n",
       "      <td>menor_1k</td>\n",
       "      <td>3k_a_5k</td>\n",
       "      <td>2y_a_4y</td>\n",
       "      <td>15p_a_20p</td>\n",
       "      <td>20k_a_50k</td>\n",
       "      <td>hasta_20</td>\n",
       "      <td>menor_5</td>\n",
       "      <td>menor_25</td>\n",
       "      <td>1500</td>\n",
       "      <td>2</td>\n",
       "      <td>ALQUILER</td>\n",
       "      <td>MEJORAS_HOGAR</td>\n",
       "      <td>P</td>\n",
       "      <td>S</td>\n",
       "      <td>PASIVO</td>\n",
       "      <td>M</td>\n",
       "      <td>DESCONOCIDO</td>\n",
       "      <td>0.0</td>\n",
       "    </tr>\n",
       "    <tr>\n",
       "      <th>2</th>\n",
       "      <td>15_a_30</td>\n",
       "      <td>2k_a_4k</td>\n",
       "      <td>5k_a_10k</td>\n",
       "      <td>2y_a_4y</td>\n",
       "      <td>7p_a_15p</td>\n",
       "      <td>20k_a_50k</td>\n",
       "      <td>20_a_40</td>\n",
       "      <td>5_a_10</td>\n",
       "      <td>menor_25</td>\n",
       "      <td>10000</td>\n",
       "      <td>2</td>\n",
       "      <td>OTROS</td>\n",
       "      <td>EDUCACIÓN</td>\n",
       "      <td>C</td>\n",
       "      <td>D</td>\n",
       "      <td>PASIVO</td>\n",
       "      <td>M</td>\n",
       "      <td>POSGRADO_COMPLETO</td>\n",
       "      <td>3.0</td>\n",
       "    </tr>\n",
       "    <tr>\n",
       "      <th>3</th>\n",
       "      <td>75_a_100</td>\n",
       "      <td>2k_a_4k</td>\n",
       "      <td>menor_3k</td>\n",
       "      <td>menor_2y</td>\n",
       "      <td>7p_a_15p</td>\n",
       "      <td>20k_a_50k</td>\n",
       "      <td>20_a_40</td>\n",
       "      <td>menor_5</td>\n",
       "      <td>25_a_30</td>\n",
       "      <td>6000</td>\n",
       "      <td>4</td>\n",
       "      <td>ALQUILER</td>\n",
       "      <td>INVERSIONES</td>\n",
       "      <td>C</td>\n",
       "      <td>S</td>\n",
       "      <td>ACTIVO</td>\n",
       "      <td>F</td>\n",
       "      <td>UNIVERSITARIO_INCOMPLETO</td>\n",
       "      <td>2.0</td>\n",
       "    </tr>\n",
       "    <tr>\n",
       "      <th>4</th>\n",
       "      <td>50_a_75</td>\n",
       "      <td>4k_a_6k</td>\n",
       "      <td>3k_a_5k</td>\n",
       "      <td>2y_a_4y</td>\n",
       "      <td>7p_a_15p</td>\n",
       "      <td>50k_a_100k</td>\n",
       "      <td>20_a_40</td>\n",
       "      <td>menor_5</td>\n",
       "      <td>25_a_30</td>\n",
       "      <td>10000</td>\n",
       "      <td>2</td>\n",
       "      <td>HIPOTECA</td>\n",
       "      <td>EDUCACIÓN</td>\n",
       "      <td>C</td>\n",
       "      <td>C</td>\n",
       "      <td>ACTIVO</td>\n",
       "      <td>F</td>\n",
       "      <td>UNIVERSITARIO_INCOMPLETO</td>\n",
       "      <td>2.0</td>\n",
       "    </tr>\n",
       "  </tbody>\n",
       "</table>\n",
       "</div>"
      ],
      "text/plain": [
       "  operaciones_ult_12m gastos_ult_12m limite_credito_tc antiguedad_cliente  \\\n",
       "0           mayor_100      mayor_10k           3k_a_5k            2y_a_4y   \n",
       "1             15_a_30       menor_1k           3k_a_5k            2y_a_4y   \n",
       "2             15_a_30        2k_a_4k          5k_a_10k            2y_a_4y   \n",
       "3            75_a_100        2k_a_4k          menor_3k           menor_2y   \n",
       "4             50_a_75        4k_a_6k           3k_a_5k            2y_a_4y   \n",
       "\n",
       "  tasa_interes    ingresos pct_ingreso antiguedad_empleado      edad  \\\n",
       "0     hasta_7p  50k_a_100k    hasta_20              5_a_10  menor_25   \n",
       "1    15p_a_20p   20k_a_50k    hasta_20             menor_5  menor_25   \n",
       "2     7p_a_15p   20k_a_50k     20_a_40              5_a_10  menor_25   \n",
       "3     7p_a_15p   20k_a_50k     20_a_40             menor_5   25_a_30   \n",
       "4     7p_a_15p  50k_a_100k     20_a_40             menor_5   25_a_30   \n",
       "\n",
       "   importe_solicitado  duracion_credito situacion_vivienda objetivo_credito  \\\n",
       "0               11000                 3           HIPOTECA      INVERSIONES   \n",
       "1                1500                 2           ALQUILER    MEJORAS_HOGAR   \n",
       "2               10000                 2              OTROS        EDUCACIÓN   \n",
       "3                6000                 4           ALQUILER      INVERSIONES   \n",
       "4               10000                 2           HIPOTECA        EDUCACIÓN   \n",
       "\n",
       "  estado_credito_N estado_civil_N estado_cliente genero  \\\n",
       "0                C              C         ACTIVO      F   \n",
       "1                P              S         PASIVO      M   \n",
       "2                C              D         PASIVO      M   \n",
       "3                C              S         ACTIVO      F   \n",
       "4                C              C         ACTIVO      F   \n",
       "\n",
       "            nivel_educativo  personas_a_cargo  \n",
       "0       SECUNDARIO_COMPLETO               3.0  \n",
       "1               DESCONOCIDO               0.0  \n",
       "2         POSGRADO_COMPLETO               3.0  \n",
       "3  UNIVERSITARIO_INCOMPLETO               2.0  \n",
       "4  UNIVERSITARIO_INCOMPLETO               2.0  "
      ]
     },
     "execution_count": 48,
     "metadata": {},
     "output_type": "execute_result"
    }
   ],
   "source": [
    "# Se separan los atributos de datos de los de la etiqueta del dataset\n",
    "\n",
    "labels = datos.falta_pago.values\n",
    "\n",
    "features = datos[['operaciones_ult_12m', 'gastos_ult_12m', 'limite_credito_tc',\n",
    "       'antiguedad_cliente', 'tasa_interes', 'ingresos', 'pct_ingreso',\n",
    "       'antiguedad_empleado', 'edad', 'importe_solicitado', 'duracion_credito',\n",
    "       'situacion_vivienda', 'objetivo_credito', 'estado_credito_N',\n",
    "       'estado_civil_N', 'estado_cliente', 'genero',\n",
    "       'nivel_educativo', 'personas_a_cargo']]\n",
    "\n",
    "print(f\"Vista de los datos del atributo target: \\n{labels[:10]}\")\n",
    "print(\"-\"*50)\n",
    "print(\"Vista parcial de los datos sin el atributo target:\")\n",
    "features.head()"
   ]
  },
  {
   "cell_type": "code",
   "execution_count": 49,
   "metadata": {},
   "outputs": [
    {
     "data": {
      "text/html": [
       "<div>\n",
       "<style scoped>\n",
       "    .dataframe tbody tr th:only-of-type {\n",
       "        vertical-align: middle;\n",
       "    }\n",
       "\n",
       "    .dataframe tbody tr th {\n",
       "        vertical-align: top;\n",
       "    }\n",
       "\n",
       "    .dataframe thead th {\n",
       "        text-align: right;\n",
       "    }\n",
       "</style>\n",
       "<table border=\"1\" class=\"dataframe\">\n",
       "  <thead>\n",
       "    <tr style=\"text-align: right;\">\n",
       "      <th></th>\n",
       "      <th>importe_solicitado</th>\n",
       "      <th>duracion_credito</th>\n",
       "      <th>personas_a_cargo</th>\n",
       "      <th>operaciones_ult_12m_15_a_30</th>\n",
       "      <th>operaciones_ult_12m_30_a_50</th>\n",
       "      <th>operaciones_ult_12m_50_a_75</th>\n",
       "      <th>operaciones_ult_12m_75_a_100</th>\n",
       "      <th>operaciones_ult_12m_mayor_100</th>\n",
       "      <th>operaciones_ult_12m_menor_15</th>\n",
       "      <th>gastos_ult_12m_2k_a_4k</th>\n",
       "      <th>...</th>\n",
       "      <th>estado_cliente_ACTIVO</th>\n",
       "      <th>estado_cliente_PASIVO</th>\n",
       "      <th>genero_F</th>\n",
       "      <th>genero_M</th>\n",
       "      <th>nivel_educativo_DESCONOCIDO</th>\n",
       "      <th>nivel_educativo_POSGRADO_COMPLETO</th>\n",
       "      <th>nivel_educativo_POSGRADO_INCOMPLETO</th>\n",
       "      <th>nivel_educativo_SECUNDARIO_COMPLETO</th>\n",
       "      <th>nivel_educativo_UNIVERSITARIO_COMPLETO</th>\n",
       "      <th>nivel_educativo_UNIVERSITARIO_INCOMPLETO</th>\n",
       "    </tr>\n",
       "  </thead>\n",
       "  <tbody>\n",
       "    <tr>\n",
       "      <th>0</th>\n",
       "      <td>11000</td>\n",
       "      <td>3</td>\n",
       "      <td>3.0</td>\n",
       "      <td>False</td>\n",
       "      <td>False</td>\n",
       "      <td>False</td>\n",
       "      <td>False</td>\n",
       "      <td>True</td>\n",
       "      <td>False</td>\n",
       "      <td>False</td>\n",
       "      <td>...</td>\n",
       "      <td>True</td>\n",
       "      <td>False</td>\n",
       "      <td>True</td>\n",
       "      <td>False</td>\n",
       "      <td>False</td>\n",
       "      <td>False</td>\n",
       "      <td>False</td>\n",
       "      <td>True</td>\n",
       "      <td>False</td>\n",
       "      <td>False</td>\n",
       "    </tr>\n",
       "    <tr>\n",
       "      <th>1</th>\n",
       "      <td>1500</td>\n",
       "      <td>2</td>\n",
       "      <td>0.0</td>\n",
       "      <td>True</td>\n",
       "      <td>False</td>\n",
       "      <td>False</td>\n",
       "      <td>False</td>\n",
       "      <td>False</td>\n",
       "      <td>False</td>\n",
       "      <td>False</td>\n",
       "      <td>...</td>\n",
       "      <td>False</td>\n",
       "      <td>True</td>\n",
       "      <td>False</td>\n",
       "      <td>True</td>\n",
       "      <td>True</td>\n",
       "      <td>False</td>\n",
       "      <td>False</td>\n",
       "      <td>False</td>\n",
       "      <td>False</td>\n",
       "      <td>False</td>\n",
       "    </tr>\n",
       "    <tr>\n",
       "      <th>2</th>\n",
       "      <td>10000</td>\n",
       "      <td>2</td>\n",
       "      <td>3.0</td>\n",
       "      <td>True</td>\n",
       "      <td>False</td>\n",
       "      <td>False</td>\n",
       "      <td>False</td>\n",
       "      <td>False</td>\n",
       "      <td>False</td>\n",
       "      <td>True</td>\n",
       "      <td>...</td>\n",
       "      <td>False</td>\n",
       "      <td>True</td>\n",
       "      <td>False</td>\n",
       "      <td>True</td>\n",
       "      <td>False</td>\n",
       "      <td>True</td>\n",
       "      <td>False</td>\n",
       "      <td>False</td>\n",
       "      <td>False</td>\n",
       "      <td>False</td>\n",
       "    </tr>\n",
       "    <tr>\n",
       "      <th>3</th>\n",
       "      <td>6000</td>\n",
       "      <td>4</td>\n",
       "      <td>2.0</td>\n",
       "      <td>False</td>\n",
       "      <td>False</td>\n",
       "      <td>False</td>\n",
       "      <td>True</td>\n",
       "      <td>False</td>\n",
       "      <td>False</td>\n",
       "      <td>True</td>\n",
       "      <td>...</td>\n",
       "      <td>True</td>\n",
       "      <td>False</td>\n",
       "      <td>True</td>\n",
       "      <td>False</td>\n",
       "      <td>False</td>\n",
       "      <td>False</td>\n",
       "      <td>False</td>\n",
       "      <td>False</td>\n",
       "      <td>False</td>\n",
       "      <td>True</td>\n",
       "    </tr>\n",
       "    <tr>\n",
       "      <th>4</th>\n",
       "      <td>10000</td>\n",
       "      <td>2</td>\n",
       "      <td>2.0</td>\n",
       "      <td>False</td>\n",
       "      <td>False</td>\n",
       "      <td>True</td>\n",
       "      <td>False</td>\n",
       "      <td>False</td>\n",
       "      <td>False</td>\n",
       "      <td>False</td>\n",
       "      <td>...</td>\n",
       "      <td>True</td>\n",
       "      <td>False</td>\n",
       "      <td>True</td>\n",
       "      <td>False</td>\n",
       "      <td>False</td>\n",
       "      <td>False</td>\n",
       "      <td>False</td>\n",
       "      <td>False</td>\n",
       "      <td>False</td>\n",
       "      <td>True</td>\n",
       "    </tr>\n",
       "  </tbody>\n",
       "</table>\n",
       "<p>5 rows × 65 columns</p>\n",
       "</div>"
      ],
      "text/plain": [
       "   importe_solicitado  duracion_credito  personas_a_cargo  \\\n",
       "0               11000                 3               3.0   \n",
       "1                1500                 2               0.0   \n",
       "2               10000                 2               3.0   \n",
       "3                6000                 4               2.0   \n",
       "4               10000                 2               2.0   \n",
       "\n",
       "   operaciones_ult_12m_15_a_30  operaciones_ult_12m_30_a_50  \\\n",
       "0                        False                        False   \n",
       "1                         True                        False   \n",
       "2                         True                        False   \n",
       "3                        False                        False   \n",
       "4                        False                        False   \n",
       "\n",
       "   operaciones_ult_12m_50_a_75  operaciones_ult_12m_75_a_100  \\\n",
       "0                        False                         False   \n",
       "1                        False                         False   \n",
       "2                        False                         False   \n",
       "3                        False                          True   \n",
       "4                         True                         False   \n",
       "\n",
       "   operaciones_ult_12m_mayor_100  operaciones_ult_12m_menor_15  \\\n",
       "0                           True                         False   \n",
       "1                          False                         False   \n",
       "2                          False                         False   \n",
       "3                          False                         False   \n",
       "4                          False                         False   \n",
       "\n",
       "   gastos_ult_12m_2k_a_4k  ...  estado_cliente_ACTIVO  estado_cliente_PASIVO  \\\n",
       "0                   False  ...                   True                  False   \n",
       "1                   False  ...                  False                   True   \n",
       "2                    True  ...                  False                   True   \n",
       "3                    True  ...                   True                  False   \n",
       "4                   False  ...                   True                  False   \n",
       "\n",
       "   genero_F  genero_M  nivel_educativo_DESCONOCIDO  \\\n",
       "0      True     False                        False   \n",
       "1     False      True                         True   \n",
       "2     False      True                        False   \n",
       "3      True     False                        False   \n",
       "4      True     False                        False   \n",
       "\n",
       "   nivel_educativo_POSGRADO_COMPLETO  nivel_educativo_POSGRADO_INCOMPLETO  \\\n",
       "0                              False                                False   \n",
       "1                              False                                False   \n",
       "2                               True                                False   \n",
       "3                              False                                False   \n",
       "4                              False                                False   \n",
       "\n",
       "   nivel_educativo_SECUNDARIO_COMPLETO  \\\n",
       "0                                 True   \n",
       "1                                False   \n",
       "2                                False   \n",
       "3                                False   \n",
       "4                                False   \n",
       "\n",
       "   nivel_educativo_UNIVERSITARIO_COMPLETO  \\\n",
       "0                                   False   \n",
       "1                                   False   \n",
       "2                                   False   \n",
       "3                                   False   \n",
       "4                                   False   \n",
       "\n",
       "   nivel_educativo_UNIVERSITARIO_INCOMPLETO  \n",
       "0                                     False  \n",
       "1                                     False  \n",
       "2                                     False  \n",
       "3                                      True  \n",
       "4                                      True  \n",
       "\n",
       "[5 rows x 65 columns]"
      ]
     },
     "execution_count": 49,
     "metadata": {},
     "output_type": "execute_result"
    }
   ],
   "source": [
    "# Se pasa a binarizar los atributos\n",
    "\n",
    "data = pd.get_dummies(features)\n",
    "data.head()"
   ]
  },
  {
   "cell_type": "code",
   "execution_count": 50,
   "metadata": {},
   "outputs": [],
   "source": [
    "# Para evitar problemas con mlfow se hace una conversión de integer a double \n",
    "# de los atributos: 'importe_solicitado', 'duracion_credito', 'estado_credito'\n",
    "\n",
    "# Se filtran las columnas del tipo integer\n",
    "integer_columns = data.select_dtypes(include='int').columns\n",
    "\n",
    "# Convert integer columns to double\n",
    "data[integer_columns] = data[integer_columns].astype('float')"
   ]
  },
  {
   "cell_type": "code",
   "execution_count": 51,
   "metadata": {},
   "outputs": [
    {
     "name": "stdout",
     "output_type": "stream",
     "text": [
      "Un registro de entrenamiento: \n",
      "importe_solicitado                          5000.0\n",
      "duracion_credito                               4.0\n",
      "personas_a_cargo                               3.0\n",
      "operaciones_ult_12m_15_a_30                  False\n",
      "operaciones_ult_12m_30_a_50                  False\n",
      "                                             ...  \n",
      "nivel_educativo_POSGRADO_COMPLETO            False\n",
      "nivel_educativo_POSGRADO_INCOMPLETO          False\n",
      "nivel_educativo_SECUNDARIO_COMPLETO          False\n",
      "nivel_educativo_UNIVERSITARIO_COMPLETO        True\n",
      "nivel_educativo_UNIVERSITARIO_INCOMPLETO     False\n",
      "Name: 7405, Length: 65, dtype: object\n",
      "--------------------------------------------------\n",
      "Label del registro: \n",
      "N\n",
      "\n",
      "##################################################\n",
      "##################################################\n",
      "\n",
      "Un registro de testeo: \n",
      "importe_solicitado                          8000.0\n",
      "duracion_credito                               3.0\n",
      "personas_a_cargo                               0.0\n",
      "operaciones_ult_12m_15_a_30                  False\n",
      "operaciones_ult_12m_30_a_50                  False\n",
      "                                             ...  \n",
      "nivel_educativo_POSGRADO_COMPLETO            False\n",
      "nivel_educativo_POSGRADO_INCOMPLETO           True\n",
      "nivel_educativo_SECUNDARIO_COMPLETO          False\n",
      "nivel_educativo_UNIVERSITARIO_COMPLETO       False\n",
      "nivel_educativo_UNIVERSITARIO_INCOMPLETO     False\n",
      "Name: 8912, Length: 65, dtype: object\n",
      "--------------------------------------------------\n",
      "Label del registro: \n",
      "N\n"
     ]
    }
   ],
   "source": [
    "# Se reparten los datos disponibles en conjuntos para entrenamiento y testeo\n",
    "\n",
    "train_data, test_data, train_labels, test_labels = train_test_split(data, labels) \n",
    "\n",
    "# Toma por defecto 75% (entrenamiento) - 25% (testeo)\n",
    "\n",
    "# Vista de los datos de entrenamiento para una fila\n",
    "\n",
    "print(f\"Un registro de entrenamiento: \\n{train_data.iloc[1]}\")\n",
    "print(\"-\"*50)\n",
    "print(f\"Label del registro: \\n{train_labels[1]}\\n\")\n",
    "\n",
    "print(\"#\"*50)\n",
    "print(\"#\"*50)\n",
    "\n",
    "# Vista de los datos de testeo para una fila\n",
    "\n",
    "print(f\"\\nUn registro de testeo: \\n{test_data.iloc[1]}\")\n",
    "print(\"-\"*50)\n",
    "print(f\"Label del registro: \\n{test_labels[1]}\")"
   ]
  },
  {
   "cell_type": "code",
   "execution_count": 52,
   "metadata": {},
   "outputs": [],
   "source": [
    "# Configuración de la evaluación\n",
    "\n",
    "def evaluar_modelo(modelo, test_data, test_labels):\n",
    "    prediction = modelo.predict(test_data)\n",
    "    print('Rendimiento obtenido:',accuracy_score(test_labels,prediction))\n",
    "    print('Reporte de indicadores:\\n',classification_report(test_labels,prediction))\n",
    "    print('Matriz de confusión:')\n",
    "    cm = confusion_matrix(test_labels, prediction, labels=modelo.classes_)\n",
    "    disp = ConfusionMatrixDisplay(confusion_matrix=cm,\n",
    "                                   display_labels=modelo.classes_)\n",
    "    disp.plot()\n",
    "    plt.show()"
   ]
  },
  {
   "cell_type": "code",
   "execution_count": 53,
   "metadata": {},
   "outputs": [],
   "source": [
    "# Para obtener todos los parámetros y no solo los modificados\n",
    "\n",
    "from sklearn import set_config\n",
    "\n",
    "set_config(print_changed_only=False)"
   ]
  },
  {
   "cell_type": "markdown",
   "metadata": {},
   "source": [
    "### Generación de modelos\n"
   ]
  },
  {
   "cell_type": "markdown",
   "metadata": {},
   "source": [
    "### Prueba #1"
   ]
  },
  {
   "cell_type": "markdown",
   "metadata": {},
   "source": [
    "ZeroR"
   ]
  },
  {
   "cell_type": "code",
   "execution_count": 33,
   "metadata": {},
   "outputs": [
    {
     "name": "stderr",
     "output_type": "stream",
     "text": [
      "2023/12/01 09:10:37 INFO mlflow.utils.autologging_utils: Created MLflow autologging run with ID '34e62c63a4f94e38aa0e4f219e4225bc', which will track hyperparameters, performance metrics, model artifacts, and lineage information for the current sklearn workflow\n",
      "c:\\Users\\usuario\\anaconda3\\envs\\VIU-13MBID\\Lib\\site-packages\\sklearn\\metrics\\_classification.py:1469: UndefinedMetricWarning: Precision is ill-defined and being set to 0.0 in labels with no predicted samples. Use `zero_division` parameter to control this behavior.\n",
      "  _warn_prf(average, modifier, msg_start, len(result))\n"
     ]
    },
    {
     "data": {
      "text/html": [
       "<style>#sk-container-id-7 {color: black;}#sk-container-id-7 pre{padding: 0;}#sk-container-id-7 div.sk-toggleable {background-color: white;}#sk-container-id-7 label.sk-toggleable__label {cursor: pointer;display: block;width: 100%;margin-bottom: 0;padding: 0.3em;box-sizing: border-box;text-align: center;}#sk-container-id-7 label.sk-toggleable__label-arrow:before {content: \"▸\";float: left;margin-right: 0.25em;color: #696969;}#sk-container-id-7 label.sk-toggleable__label-arrow:hover:before {color: black;}#sk-container-id-7 div.sk-estimator:hover label.sk-toggleable__label-arrow:before {color: black;}#sk-container-id-7 div.sk-toggleable__content {max-height: 0;max-width: 0;overflow: hidden;text-align: left;background-color: #f0f8ff;}#sk-container-id-7 div.sk-toggleable__content pre {margin: 0.2em;color: black;border-radius: 0.25em;background-color: #f0f8ff;}#sk-container-id-7 input.sk-toggleable__control:checked~div.sk-toggleable__content {max-height: 200px;max-width: 100%;overflow: auto;}#sk-container-id-7 input.sk-toggleable__control:checked~label.sk-toggleable__label-arrow:before {content: \"▾\";}#sk-container-id-7 div.sk-estimator input.sk-toggleable__control:checked~label.sk-toggleable__label {background-color: #d4ebff;}#sk-container-id-7 div.sk-label input.sk-toggleable__control:checked~label.sk-toggleable__label {background-color: #d4ebff;}#sk-container-id-7 input.sk-hidden--visually {border: 0;clip: rect(1px 1px 1px 1px);clip: rect(1px, 1px, 1px, 1px);height: 1px;margin: -1px;overflow: hidden;padding: 0;position: absolute;width: 1px;}#sk-container-id-7 div.sk-estimator {font-family: monospace;background-color: #f0f8ff;border: 1px dotted black;border-radius: 0.25em;box-sizing: border-box;margin-bottom: 0.5em;}#sk-container-id-7 div.sk-estimator:hover {background-color: #d4ebff;}#sk-container-id-7 div.sk-parallel-item::after {content: \"\";width: 100%;border-bottom: 1px solid gray;flex-grow: 1;}#sk-container-id-7 div.sk-label:hover label.sk-toggleable__label {background-color: #d4ebff;}#sk-container-id-7 div.sk-serial::before {content: \"\";position: absolute;border-left: 1px solid gray;box-sizing: border-box;top: 0;bottom: 0;left: 50%;z-index: 0;}#sk-container-id-7 div.sk-serial {display: flex;flex-direction: column;align-items: center;background-color: white;padding-right: 0.2em;padding-left: 0.2em;position: relative;}#sk-container-id-7 div.sk-item {position: relative;z-index: 1;}#sk-container-id-7 div.sk-parallel {display: flex;align-items: stretch;justify-content: center;background-color: white;position: relative;}#sk-container-id-7 div.sk-item::before, #sk-container-id-7 div.sk-parallel-item::before {content: \"\";position: absolute;border-left: 1px solid gray;box-sizing: border-box;top: 0;bottom: 0;left: 50%;z-index: -1;}#sk-container-id-7 div.sk-parallel-item {display: flex;flex-direction: column;z-index: 1;position: relative;background-color: white;}#sk-container-id-7 div.sk-parallel-item:first-child::after {align-self: flex-end;width: 50%;}#sk-container-id-7 div.sk-parallel-item:last-child::after {align-self: flex-start;width: 50%;}#sk-container-id-7 div.sk-parallel-item:only-child::after {width: 0;}#sk-container-id-7 div.sk-dashed-wrapped {border: 1px dashed gray;margin: 0 0.4em 0.5em 0.4em;box-sizing: border-box;padding-bottom: 0.4em;background-color: white;}#sk-container-id-7 div.sk-label label {font-family: monospace;font-weight: bold;display: inline-block;line-height: 1.2em;}#sk-container-id-7 div.sk-label-container {text-align: center;}#sk-container-id-7 div.sk-container {/* jupyter's `normalize.less` sets `[hidden] { display: none; }` but bootstrap.min.css set `[hidden] { display: none !important; }` so we also need the `!important` here to be able to override the default hidden behavior on the sphinx rendered scikit-learn.org. See: https://github.com/scikit-learn/scikit-learn/issues/21755 */display: inline-block !important;position: relative;}#sk-container-id-7 div.sk-text-repr-fallback {display: none;}</style><div id=\"sk-container-id-7\" class=\"sk-top-container\"><div class=\"sk-text-repr-fallback\"><pre>DummyClassifier(constant=None, random_state=None, strategy=&#x27;prior&#x27;)</pre><b>In a Jupyter environment, please rerun this cell to show the HTML representation or trust the notebook. <br />On GitHub, the HTML representation is unable to render, please try loading this page with nbviewer.org.</b></div><div class=\"sk-container\" hidden><div class=\"sk-item\"><div class=\"sk-estimator sk-toggleable\"><input class=\"sk-toggleable__control sk-hidden--visually\" id=\"sk-estimator-id-7\" type=\"checkbox\" checked><label for=\"sk-estimator-id-7\" class=\"sk-toggleable__label sk-toggleable__label-arrow\">DummyClassifier</label><div class=\"sk-toggleable__content\"><pre>DummyClassifier(constant=None, random_state=None, strategy=&#x27;prior&#x27;)</pre></div></div></div></div></div>"
      ],
      "text/plain": [
       "DummyClassifier(constant=None, random_state=None, strategy='prior')"
      ]
     },
     "execution_count": 33,
     "metadata": {},
     "output_type": "execute_result"
    }
   ],
   "source": [
    "from sklearn.dummy import DummyClassifier\n",
    "\n",
    "clf = DummyClassifier()\n",
    "clf.fit(train_data, train_labels)"
   ]
  },
  {
   "cell_type": "code",
   "execution_count": 34,
   "metadata": {},
   "outputs": [
    {
     "name": "stdout",
     "output_type": "stream",
     "text": [
      "Rendimiento obtenido: 0.8305621536025336\n",
      "Vista de una muestra de valores de predicción y datos de testeo:\n",
      "['N' 'N' 'N' 'N' 'N' 'N' 'N' 'N' 'N' 'N']\n",
      "['N' 'N' 'N' 'N' 'N' 'N' 'Y' 'N' 'N' 'N']\n"
     ]
    }
   ],
   "source": [
    "prediction = clf.predict(test_data)\n",
    "\n",
    "print('Rendimiento obtenido:',accuracy_score(test_labels, prediction))\n",
    "print('Vista de una muestra de valores de predicción y datos de testeo:')\n",
    "print(prediction[:10])\n",
    "print(test_labels[:10])"
   ]
  },
  {
   "cell_type": "markdown",
   "metadata": {},
   "source": [
    "----\n",
    "Se pasa a configurar la serie de experimentos en **mlflow**"
   ]
  },
  {
   "cell_type": "code",
   "execution_count": 35,
   "metadata": {},
   "outputs": [
    {
     "name": "stderr",
     "output_type": "stream",
     "text": [
      "WARNING:root:Malformed experiment 'mlruns'. Detailed error Yaml file 'C:\\Users\\usuario\\Desktop\\BIG DATA\\013MBID(proceso)\\013mbid\\viu-13mbid\\notebooks\\03-Modelado+Evaluacion\\mlruns\\mlruns\\meta.yaml' does not exist.\n",
      "Traceback (most recent call last):\n",
      "  File \"c:\\Users\\usuario\\anaconda3\\envs\\VIU-13MBID\\Lib\\site-packages\\mlflow\\store\\tracking\\file_store.py\", line 303, in search_experiments\n",
      "    exp = self._get_experiment(exp_id, view_type)\n",
      "          ^^^^^^^^^^^^^^^^^^^^^^^^^^^^^^^^^^^^^^^\n",
      "  File \"c:\\Users\\usuario\\anaconda3\\envs\\VIU-13MBID\\Lib\\site-packages\\mlflow\\store\\tracking\\file_store.py\", line 396, in _get_experiment\n",
      "    meta = FileStore._read_yaml(experiment_dir, FileStore.META_DATA_FILE_NAME)\n",
      "           ^^^^^^^^^^^^^^^^^^^^^^^^^^^^^^^^^^^^^^^^^^^^^^^^^^^^^^^^^^^^^^^^^^^\n",
      "  File \"c:\\Users\\usuario\\anaconda3\\envs\\VIU-13MBID\\Lib\\site-packages\\mlflow\\store\\tracking\\file_store.py\", line 1304, in _read_yaml\n",
      "    return _read_helper(root, file_name, attempts_remaining=retries)\n",
      "           ^^^^^^^^^^^^^^^^^^^^^^^^^^^^^^^^^^^^^^^^^^^^^^^^^^^^^^^^^\n",
      "  File \"c:\\Users\\usuario\\anaconda3\\envs\\VIU-13MBID\\Lib\\site-packages\\mlflow\\store\\tracking\\file_store.py\", line 1297, in _read_helper\n",
      "    result = read_yaml(root, file_name)\n",
      "             ^^^^^^^^^^^^^^^^^^^^^^^^^^\n",
      "  File \"c:\\Users\\usuario\\anaconda3\\envs\\VIU-13MBID\\Lib\\site-packages\\mlflow\\utils\\file_utils.py\", line 285, in read_yaml\n",
      "    raise MissingConfigException(f\"Yaml file '{file_path}' does not exist.\")\n",
      "mlflow.exceptions.MissingConfigException: Yaml file 'C:\\Users\\usuario\\Desktop\\BIG DATA\\013MBID(proceso)\\013mbid\\viu-13mbid\\notebooks\\03-Modelado+Evaluacion\\mlruns\\mlruns\\meta.yaml' does not exist.\n",
      "2023/12/01 09:11:00 WARNING mlflow.utils.autologging_utils: You are using an unsupported version of sklearn. If you encounter errors during autologging, try upgrading / downgrading sklearn to a supported version, or try upgrading MLflow.\n"
     ]
    },
    {
     "name": "stderr",
     "output_type": "stream",
     "text": [
      "2023/12/01 09:11:00 INFO mlflow.tracking.fluent: Autologging successfully enabled for sklearn.\n"
     ]
    }
   ],
   "source": [
    "# Se establece un nombre para identificar la serie de experimentos\n",
    "\n",
    "mlflow.set_experiment(experiment_name=\"Prueba #1\")\n",
    "mlflow.autolog()"
   ]
  },
  {
   "cell_type": "markdown",
   "metadata": {},
   "source": [
    "#### Regresión Logística"
   ]
  },
  {
   "cell_type": "code",
   "execution_count": 36,
   "metadata": {},
   "outputs": [],
   "source": [
    "from sklearn.linear_model import LogisticRegression\n",
    "\n",
    "with mlflow.start_run(run_name='Logistic Regression'):\n",
    "    lreg = LogisticRegression(solver = 'liblinear')\n",
    "\n",
    "    lreg.fit(train_data, train_labels)"
   ]
  },
  {
   "cell_type": "code",
   "execution_count": 38,
   "metadata": {},
   "outputs": [
    {
     "name": "stdout",
     "output_type": "stream",
     "text": [
      "Rendimiento obtenido: 0.8812351543942993\n",
      "Reporte de indicadores:\n",
      "               precision    recall  f1-score   support\n",
      "\n",
      "           N       0.92      0.94      0.93      2098\n",
      "           Y       0.67      0.59      0.63       428\n",
      "\n",
      "    accuracy                           0.88      2526\n",
      "   macro avg       0.79      0.77      0.78      2526\n",
      "weighted avg       0.88      0.88      0.88      2526\n",
      "\n",
      "Matriz de confusión:\n"
     ]
    },
    {
     "data": {
      "image/png": "[encoded data removed]",
      "text/plain": [
       "<Figure size 640x480 with 2 Axes>"
      ]
     },
     "metadata": {},
     "output_type": "display_data"
    }
   ],
   "source": [
    "evaluar_modelo(lreg, test_data, test_labels)"
   ]
  },
  {
   "cell_type": "markdown",
   "metadata": {},
   "source": [
    "#### KNN"
   ]
  },
  {
   "cell_type": "code",
   "execution_count": 39,
   "metadata": {},
   "outputs": [],
   "source": [
    "from sklearn.neighbors import KNeighborsClassifier\n",
    "\n",
    "with mlflow.start_run(run_name='KNN'):\n",
    "    knn = KNeighborsClassifier(n_neighbors=50, \n",
    "                               algorithm = 'ball_tree', \n",
    "                               leaf_size = 25)\n",
    "\n",
    "    knn.fit(train_data, train_labels)"
   ]
  },
  {
   "cell_type": "code",
   "execution_count": 40,
   "metadata": {},
   "outputs": [
    {
     "name": "stdout",
     "output_type": "stream",
     "text": [
      "Rendimiento obtenido: 0.8333333333333334\n",
      "Reporte de indicadores:\n",
      "               precision    recall  f1-score   support\n",
      "\n",
      "           N       0.83      1.00      0.91      2098\n",
      "           Y       0.77      0.02      0.05       428\n",
      "\n",
      "    accuracy                           0.83      2526\n",
      "   macro avg       0.80      0.51      0.48      2526\n",
      "weighted avg       0.82      0.83      0.76      2526\n",
      "\n",
      "Matriz de confusión:\n"
     ]
    },
    {
     "data": {
      "image/png": "[encoded data removed]",
      "text/plain": [
       "<Figure size 640x480 with 2 Axes>"
      ]
     },
     "metadata": {},
     "output_type": "display_data"
    }
   ],
   "source": [
    "evaluar_modelo(knn, test_data, test_labels)"
   ]
  },
  {
   "cell_type": "markdown",
   "metadata": {},
   "source": [
    "#### Árboles de Decisión (TDIDT)"
   ]
  },
  {
   "cell_type": "code",
   "execution_count": 41,
   "metadata": {},
   "outputs": [],
   "source": [
    "from sklearn.tree import DecisionTreeClassifier\n",
    "\n",
    "with mlflow.start_run(run_name='Decision Tree'):\n",
    "    dtc = DecisionTreeClassifier(max_depth=3, \n",
    "                                 criterion='entropy', \n",
    "                                 min_samples_split=10)\n",
    "\n",
    "    dtc.fit(train_data, train_labels)"
   ]
  },
  {
   "cell_type": "code",
   "execution_count": 42,
   "metadata": {},
   "outputs": [
    {
     "name": "stdout",
     "output_type": "stream",
     "text": [
      "Rendimiento obtenido: 0.885193982581156\n",
      "Reporte de indicadores:\n",
      "               precision    recall  f1-score   support\n",
      "\n",
      "           N       0.92      0.94      0.93      2098\n",
      "           Y       0.67      0.62      0.65       428\n",
      "\n",
      "    accuracy                           0.89      2526\n",
      "   macro avg       0.80      0.78      0.79      2526\n",
      "weighted avg       0.88      0.89      0.88      2526\n",
      "\n",
      "Matriz de confusión:\n"
     ]
    },
    {
     "data": {
      "image/png": "[encoded data removed]",
      "text/plain": [
       "<Figure size 640x480 with 2 Axes>"
      ]
     },
     "metadata": {},
     "output_type": "display_data"
    }
   ],
   "source": [
    "evaluar_modelo(dtc, test_data, test_labels)"
   ]
  },
  {
   "cell_type": "markdown",
   "metadata": {},
   "source": [
    "#### Métodos de ensamblado de modelos: RandomForest"
   ]
  },
  {
   "cell_type": "code",
   "execution_count": 43,
   "metadata": {},
   "outputs": [],
   "source": [
    "from sklearn.ensemble import RandomForestClassifier\n",
    "\n",
    "with mlflow.start_run(run_name='Random Forest'):\n",
    "    rndf = RandomForestClassifier(n_estimators=10)\n",
    "    rndf.fit(train_data, train_labels)"
   ]
  },
  {
   "cell_type": "code",
   "execution_count": 44,
   "metadata": {},
   "outputs": [
    {
     "name": "stdout",
     "output_type": "stream",
     "text": [
      "Rendimiento obtenido: 0.886381631037213\n",
      "Reporte de indicadores:\n",
      "               precision    recall  f1-score   support\n",
      "\n",
      "           N       0.91      0.96      0.93      2098\n",
      "           Y       0.72      0.53      0.61       428\n",
      "\n",
      "    accuracy                           0.89      2526\n",
      "   macro avg       0.82      0.75      0.77      2526\n",
      "weighted avg       0.88      0.89      0.88      2526\n",
      "\n",
      "Matriz de confusión:\n"
     ]
    },
    {
     "data": {
      "image/png": "[encoded data removed]",
      "text/plain": [
       "<Figure size 640x480 with 2 Axes>"
      ]
     },
     "metadata": {},
     "output_type": "display_data"
    }
   ],
   "source": [
    "evaluar_modelo(rndf, test_data, test_labels)"
   ]
  },
  {
   "cell_type": "markdown",
   "metadata": {},
   "source": [
    "----\n",
    "### Prueba #2"
   ]
  },
  {
   "cell_type": "code",
   "execution_count": 54,
   "metadata": {},
   "outputs": [],
   "source": [
    "from sklearn.model_selection import RandomizedSearchCV\n",
    "from sklearn.neighbors import KNeighborsRegressor\n",
    "from sklearn.metrics import accuracy_score\n",
    "from scipy.stats import randint\n",
    "from scipy.stats import uniform"
   ]
  },
  {
   "cell_type": "code",
   "execution_count": 55,
   "metadata": {},
   "outputs": [
    {
     "name": "stderr",
     "output_type": "stream",
     "text": [
      "WARNING:root:Malformed experiment 'mlruns'. Detailed error Yaml file 'C:\\Users\\usuario\\Desktop\\BIG DATA\\013MBID(proceso)\\013mbid\\viu-13mbid\\notebooks\\03-Modelado+Evaluacion\\mlruns\\mlruns\\meta.yaml' does not exist.\n",
      "Traceback (most recent call last):\n",
      "  File \"c:\\Users\\usuario\\anaconda3\\envs\\VIU-13MBID\\Lib\\site-packages\\mlflow\\store\\tracking\\file_store.py\", line 303, in search_experiments\n",
      "    exp = self._get_experiment(exp_id, view_type)\n",
      "          ^^^^^^^^^^^^^^^^^^^^^^^^^^^^^^^^^^^^^^^\n",
      "  File \"c:\\Users\\usuario\\anaconda3\\envs\\VIU-13MBID\\Lib\\site-packages\\mlflow\\store\\tracking\\file_store.py\", line 396, in _get_experiment\n",
      "    meta = FileStore._read_yaml(experiment_dir, FileStore.META_DATA_FILE_NAME)\n",
      "           ^^^^^^^^^^^^^^^^^^^^^^^^^^^^^^^^^^^^^^^^^^^^^^^^^^^^^^^^^^^^^^^^^^^\n",
      "  File \"c:\\Users\\usuario\\anaconda3\\envs\\VIU-13MBID\\Lib\\site-packages\\mlflow\\store\\tracking\\file_store.py\", line 1304, in _read_yaml\n",
      "    return _read_helper(root, file_name, attempts_remaining=retries)\n",
      "           ^^^^^^^^^^^^^^^^^^^^^^^^^^^^^^^^^^^^^^^^^^^^^^^^^^^^^^^^^\n",
      "  File \"c:\\Users\\usuario\\anaconda3\\envs\\VIU-13MBID\\Lib\\site-packages\\mlflow\\store\\tracking\\file_store.py\", line 1297, in _read_helper\n",
      "    result = read_yaml(root, file_name)\n",
      "             ^^^^^^^^^^^^^^^^^^^^^^^^^^\n",
      "  File \"c:\\Users\\usuario\\anaconda3\\envs\\VIU-13MBID\\Lib\\site-packages\\mlflow\\utils\\file_utils.py\", line 285, in read_yaml\n",
      "    raise MissingConfigException(f\"Yaml file '{file_path}' does not exist.\")\n",
      "mlflow.exceptions.MissingConfigException: Yaml file 'C:\\Users\\usuario\\Desktop\\BIG DATA\\013MBID(proceso)\\013mbid\\viu-13mbid\\notebooks\\03-Modelado+Evaluacion\\mlruns\\mlruns\\meta.yaml' does not exist.\n",
      "2023/12/01 18:37:10 WARNING mlflow.utils.autologging_utils: You are using an unsupported version of xgboost. If you encounter errors during autologging, try upgrading / downgrading xgboost to a supported version, or try upgrading MLflow.\n",
      "2023/12/01 18:37:10 INFO mlflow.tracking.fluent: Autologging successfully enabled for xgboost.\n",
      "2023/12/01 18:37:10 WARNING mlflow.utils.autologging_utils: You are using an unsupported version of sklearn. If you encounter errors during autologging, try upgrading / downgrading sklearn to a supported version, or try upgrading MLflow.\n"
     ]
    },
    {
     "name": "stderr",
     "output_type": "stream",
     "text": [
      "2023/12/01 18:37:11 INFO mlflow.tracking.fluent: Autologging successfully enabled for sklearn.\n"
     ]
    }
   ],
   "source": [
    "mlflow.set_experiment(experiment_name=\"Prueba #2\")\n",
    "mlflow.autolog()"
   ]
  },
  {
   "cell_type": "markdown",
   "metadata": {},
   "source": [
    "#### Regresión Logística con parametrización RandomizedSearch"
   ]
  },
  {
   "cell_type": "markdown",
   "metadata": {},
   "source": [
    "En el siguiente apartado se realiza un proceso de optimización de hiperparámetros mediante el uso de herramientas propiamente desarrolladas para ese fin. Scikit-learn proporciona 2 dos alternativas, la búsqueda aleatoria (RandomizedSearch) y la búsqueda en cuadrícula (GridSearch).\n",
    "\n",
    "Así pues, en el siguiente ejemplo(RandomizedSearch) param_dist define la cuadrícula de hiperparámetros que se probarán. n_iter especifica cuántas combinaciones aleatorias se probarán. cv es el número de divisiones en la validación cruzada."
   ]
  },
  {
   "cell_type": "code",
   "execution_count": 64,
   "metadata": {},
   "outputs": [],
   "source": [
    "param_dist = {\n",
    "    'C': uniform(0.1, 10),\n",
    "    'penalty': ['l1', 'l2']\n",
    "}\n",
    "# Configura el clasificador y el proceso de búsqueda aleatoria\n",
    "lr = LogisticRegression()\n",
    "random_search_lr = RandomizedSearchCV( lr, param_distributions=param_dist, n_iter=100, cv=5, scoring='accuracy', \n",
    "                                   verbose=1, n_jobs=-1, random_state=42)"
   ]
  },
  {
   "cell_type": "code",
   "execution_count": 65,
   "metadata": {},
   "outputs": [
    {
     "name": "stdout",
     "output_type": "stream",
     "text": [
      "Fitting 5 folds for each of 100 candidates, totalling 500 fits\n"
     ]
    },
    {
     "name": "stderr",
     "output_type": "stream",
     "text": [
      "c:\\Users\\usuario\\anaconda3\\envs\\VIU-13MBID\\Lib\\site-packages\\sklearn\\model_selection\\_validation.py:425: FitFailedWarning: \n",
      "215 fits failed out of a total of 500.\n",
      "The score on these train-test partitions for these parameters will be set to nan.\n",
      "If these failures are not expected, you can try to debug them by setting error_score='raise'.\n",
      "\n",
      "Below are more details about the failures:\n",
      "--------------------------------------------------------------------------------\n",
      "215 fits failed with the following error:\n",
      "Traceback (most recent call last):\n",
      "  File \"c:\\Users\\usuario\\anaconda3\\envs\\VIU-13MBID\\Lib\\site-packages\\sklearn\\model_selection\\_validation.py\", line 729, in _fit_and_score\n",
      "    estimator.fit(X_train, y_train, **fit_params)\n",
      "  File \"c:\\Users\\usuario\\anaconda3\\envs\\VIU-13MBID\\Lib\\site-packages\\sklearn\\base.py\", line 1152, in wrapper\n",
      "    return fit_method(estimator, *args, **kwargs)\n",
      "           ^^^^^^^^^^^^^^^^^^^^^^^^^^^^^^^^^^^^^^\n",
      "  File \"c:\\Users\\usuario\\anaconda3\\envs\\VIU-13MBID\\Lib\\site-packages\\sklearn\\linear_model\\_logistic.py\", line 1169, in fit\n",
      "    solver = _check_solver(self.solver, self.penalty, self.dual)\n",
      "             ^^^^^^^^^^^^^^^^^^^^^^^^^^^^^^^^^^^^^^^^^^^^^^^^^^^\n",
      "  File \"c:\\Users\\usuario\\anaconda3\\envs\\VIU-13MBID\\Lib\\site-packages\\sklearn\\linear_model\\_logistic.py\", line 56, in _check_solver\n",
      "    raise ValueError(\n",
      "ValueError: Solver lbfgs supports only 'l2' or 'none' penalties, got l1 penalty.\n",
      "\n",
      "  warnings.warn(some_fits_failed_message, FitFailedWarning)\n",
      "c:\\Users\\usuario\\anaconda3\\envs\\VIU-13MBID\\Lib\\site-packages\\sklearn\\model_selection\\_search.py:979: UserWarning: One or more of the test scores are non-finite: [       nan 0.8710231         nan        nan 0.86481848 0.87128713\n",
      " 0.8730033  0.8640264  0.8710231  0.86970297 0.87128713        nan\n",
      "        nan        nan 0.869967          nan        nan 0.87155116\n",
      " 0.87155116        nan        nan 0.87194719 0.87115512 0.87168317\n",
      "        nan 0.87155116        nan 0.8730033  0.86561056 0.87260726\n",
      " 0.87141914 0.86759076 0.87194719 0.86864686 0.87287129 0.87036304\n",
      " 0.87287129 0.87089109        nan        nan 0.87168317 0.87128713\n",
      " 0.87115512        nan        nan        nan 0.87075908 0.87155116\n",
      "        nan 0.87062706        nan 0.87207921        nan        nan\n",
      " 0.87273927        nan 0.8710231  0.87287129        nan        nan\n",
      " 0.87089109        nan        nan        nan        nan 0.869967\n",
      "        nan        nan 0.87221122        nan        nan        nan\n",
      " 0.86957096        nan 0.86983498 0.87273927 0.87221122 0.87009901\n",
      " 0.87194719 0.87062706 0.87181518 0.87089109        nan        nan\n",
      "        nan 0.87089109        nan        nan 0.87247525        nan\n",
      " 0.87023102 0.87062706        nan 0.87141914 0.8710231         nan\n",
      "        nan 0.87287129 0.87023102 0.86891089]\n",
      "  warnings.warn(\n",
      "c:\\Users\\usuario\\anaconda3\\envs\\VIU-13MBID\\Lib\\site-packages\\sklearn\\linear_model\\_logistic.py:460: ConvergenceWarning: lbfgs failed to converge (status=1):\n",
      "STOP: TOTAL NO. of ITERATIONS REACHED LIMIT.\n",
      "\n",
      "Increase the number of iterations (max_iter) or scale the data as shown in:\n",
      "    https://scikit-learn.org/stable/modules/preprocessing.html\n",
      "Please also refer to the documentation for alternative solver options:\n",
      "    https://scikit-learn.org/stable/modules/linear_model.html#logistic-regression\n",
      "  n_iter_i = _check_optimize_result(\n",
      "2023/12/01 11:02:25 INFO mlflow.sklearn.utils: Logging the 5 best runs, 95 runs will be omitted.\n"
     ]
    },
    {
     "data": {
      "text/html": [
       "<style>#sk-container-id-22 {color: black;}#sk-container-id-22 pre{padding: 0;}#sk-container-id-22 div.sk-toggleable {background-color: white;}#sk-container-id-22 label.sk-toggleable__label {cursor: pointer;display: block;width: 100%;margin-bottom: 0;padding: 0.3em;box-sizing: border-box;text-align: center;}#sk-container-id-22 label.sk-toggleable__label-arrow:before {content: \"▸\";float: left;margin-right: 0.25em;color: #696969;}#sk-container-id-22 label.sk-toggleable__label-arrow:hover:before {color: black;}#sk-container-id-22 div.sk-estimator:hover label.sk-toggleable__label-arrow:before {color: black;}#sk-container-id-22 div.sk-toggleable__content {max-height: 0;max-width: 0;overflow: hidden;text-align: left;background-color: #f0f8ff;}#sk-container-id-22 div.sk-toggleable__content pre {margin: 0.2em;color: black;border-radius: 0.25em;background-color: #f0f8ff;}#sk-container-id-22 input.sk-toggleable__control:checked~div.sk-toggleable__content {max-height: 200px;max-width: 100%;overflow: auto;}#sk-container-id-22 input.sk-toggleable__control:checked~label.sk-toggleable__label-arrow:before {content: \"▾\";}#sk-container-id-22 div.sk-estimator input.sk-toggleable__control:checked~label.sk-toggleable__label {background-color: #d4ebff;}#sk-container-id-22 div.sk-label input.sk-toggleable__control:checked~label.sk-toggleable__label {background-color: #d4ebff;}#sk-container-id-22 input.sk-hidden--visually {border: 0;clip: rect(1px 1px 1px 1px);clip: rect(1px, 1px, 1px, 1px);height: 1px;margin: -1px;overflow: hidden;padding: 0;position: absolute;width: 1px;}#sk-container-id-22 div.sk-estimator {font-family: monospace;background-color: #f0f8ff;border: 1px dotted black;border-radius: 0.25em;box-sizing: border-box;margin-bottom: 0.5em;}#sk-container-id-22 div.sk-estimator:hover {background-color: #d4ebff;}#sk-container-id-22 div.sk-parallel-item::after {content: \"\";width: 100%;border-bottom: 1px solid gray;flex-grow: 1;}#sk-container-id-22 div.sk-label:hover label.sk-toggleable__label {background-color: #d4ebff;}#sk-container-id-22 div.sk-serial::before {content: \"\";position: absolute;border-left: 1px solid gray;box-sizing: border-box;top: 0;bottom: 0;left: 50%;z-index: 0;}#sk-container-id-22 div.sk-serial {display: flex;flex-direction: column;align-items: center;background-color: white;padding-right: 0.2em;padding-left: 0.2em;position: relative;}#sk-container-id-22 div.sk-item {position: relative;z-index: 1;}#sk-container-id-22 div.sk-parallel {display: flex;align-items: stretch;justify-content: center;background-color: white;position: relative;}#sk-container-id-22 div.sk-item::before, #sk-container-id-22 div.sk-parallel-item::before {content: \"\";position: absolute;border-left: 1px solid gray;box-sizing: border-box;top: 0;bottom: 0;left: 50%;z-index: -1;}#sk-container-id-22 div.sk-parallel-item {display: flex;flex-direction: column;z-index: 1;position: relative;background-color: white;}#sk-container-id-22 div.sk-parallel-item:first-child::after {align-self: flex-end;width: 50%;}#sk-container-id-22 div.sk-parallel-item:last-child::after {align-self: flex-start;width: 50%;}#sk-container-id-22 div.sk-parallel-item:only-child::after {width: 0;}#sk-container-id-22 div.sk-dashed-wrapped {border: 1px dashed gray;margin: 0 0.4em 0.5em 0.4em;box-sizing: border-box;padding-bottom: 0.4em;background-color: white;}#sk-container-id-22 div.sk-label label {font-family: monospace;font-weight: bold;display: inline-block;line-height: 1.2em;}#sk-container-id-22 div.sk-label-container {text-align: center;}#sk-container-id-22 div.sk-container {/* jupyter's `normalize.less` sets `[hidden] { display: none; }` but bootstrap.min.css set `[hidden] { display: none !important; }` so we also need the `!important` here to be able to override the default hidden behavior on the sphinx rendered scikit-learn.org. See: https://github.com/scikit-learn/scikit-learn/issues/21755 */display: inline-block !important;position: relative;}#sk-container-id-22 div.sk-text-repr-fallback {display: none;}</style><div id=\"sk-container-id-22\" class=\"sk-top-container\"><div class=\"sk-text-repr-fallback\"><pre>LogisticRegression(C=7.180725777960454, class_weight=None, dual=False,\n",
       "                   fit_intercept=True, intercept_scaling=1, l1_ratio=None,\n",
       "                   max_iter=100, multi_class=&#x27;auto&#x27;, n_jobs=None, penalty=&#x27;l2&#x27;,\n",
       "                   random_state=None, solver=&#x27;lbfgs&#x27;, tol=0.0001, verbose=0,\n",
       "                   warm_start=False)</pre><b>In a Jupyter environment, please rerun this cell to show the HTML representation or trust the notebook. <br />On GitHub, the HTML representation is unable to render, please try loading this page with nbviewer.org.</b></div><div class=\"sk-container\" hidden><div class=\"sk-item\"><div class=\"sk-estimator sk-toggleable\"><input class=\"sk-toggleable__control sk-hidden--visually\" id=\"sk-estimator-id-32\" type=\"checkbox\" checked><label for=\"sk-estimator-id-32\" class=\"sk-toggleable__label sk-toggleable__label-arrow\">LogisticRegression</label><div class=\"sk-toggleable__content\"><pre>LogisticRegression(C=7.180725777960454, class_weight=None, dual=False,\n",
       "                   fit_intercept=True, intercept_scaling=1, l1_ratio=None,\n",
       "                   max_iter=100, multi_class=&#x27;auto&#x27;, n_jobs=None, penalty=&#x27;l2&#x27;,\n",
       "                   random_state=None, solver=&#x27;lbfgs&#x27;, tol=0.0001, verbose=0,\n",
       "                   warm_start=False)</pre></div></div></div></div></div>"
      ],
      "text/plain": [
       "LogisticRegression(C=7.180725777960454, class_weight=None, dual=False,\n",
       "                   fit_intercept=True, intercept_scaling=1, l1_ratio=None,\n",
       "                   max_iter=100, multi_class='auto', n_jobs=None, penalty='l2',\n",
       "                   random_state=None, solver='lbfgs', tol=0.0001, verbose=0,\n",
       "                   warm_start=False)"
      ]
     },
     "execution_count": 65,
     "metadata": {},
     "output_type": "execute_result"
    }
   ],
   "source": [
    "with mlflow.start_run(run_name='Regresión Logística (#2)'):\n",
    "    random_search_lr.fit(train_data, train_labels)\n",
    "\n",
    "random_search_lr.best_estimator_"
   ]
  },
  {
   "cell_type": "code",
   "execution_count": 66,
   "metadata": {},
   "outputs": [
    {
     "name": "stdout",
     "output_type": "stream",
     "text": [
      "Salida de resultado de la evaluación correspondientes a la Prueba #2\n",
      "Rendimiento obtenido: 0.8776722090261283\n",
      "Reporte de indicadores:\n",
      "               precision    recall  f1-score   support\n",
      "\n",
      "           N       0.92      0.93      0.93      2098\n",
      "           Y       0.65      0.60      0.62       428\n",
      "\n",
      "    accuracy                           0.88      2526\n",
      "   macro avg       0.79      0.77      0.78      2526\n",
      "weighted avg       0.87      0.88      0.88      2526\n",
      "\n",
      "Matriz de confusión:\n"
     ]
    },
    {
     "data": {
      "image/png": "[encoded data removed]",
      "text/plain": [
       "<Figure size 640x480 with 2 Axes>"
      ]
     },
     "metadata": {},
     "output_type": "display_data"
    }
   ],
   "source": [
    "print(\"Salida de resultado de la evaluación correspondientes a la Prueba #2\")\n",
    "evaluar_modelo(random_search_lr.best_estimator_, test_data, test_labels)"
   ]
  },
  {
   "cell_type": "markdown",
   "metadata": {},
   "source": [
    "#### Árboles de Decisión con parametrización RandomizedSearch"
   ]
  },
  {
   "cell_type": "code",
   "execution_count": 58,
   "metadata": {},
   "outputs": [],
   "source": [
    "from sklearn.tree import DecisionTreeClassifier\n",
    "param_dist = {\n",
    "    'max_depth': randint(1, 20), \n",
    "    'criterion': ['gini', 'entropy'],\n",
    "    'min_samples_split': randint(2, 20)\n",
    "}\n",
    "\n",
    "dtc = DecisionTreeClassifier()\n",
    "random_search_dtc = RandomizedSearchCV( dtc, param_distributions=param_dist, n_iter=100, cv=5, scoring='accuracy', \n",
    "                                   verbose=1, n_jobs=-1, random_state=42)\n"
   ]
  },
  {
   "cell_type": "code",
   "execution_count": 59,
   "metadata": {},
   "outputs": [
    {
     "name": "stdout",
     "output_type": "stream",
     "text": [
      "Fitting 5 folds for each of 100 candidates, totalling 500 fits\n"
     ]
    },
    {
     "name": "stderr",
     "output_type": "stream",
     "text": [
      "2023/12/01 18:40:02 INFO mlflow.sklearn.utils: Logging the 5 best runs, 95 runs will be omitted.\n"
     ]
    }
   ],
   "source": [
    "with mlflow.start_run(run_name='Decision Tree (#2)'):\n",
    "    random_search_dtc.fit(train_data, train_labels)\n"
   ]
  },
  {
   "cell_type": "code",
   "execution_count": 54,
   "metadata": {},
   "outputs": [
    {
     "data": {
      "text/html": [
       "<style>#sk-container-id-16 {color: black;}#sk-container-id-16 pre{padding: 0;}#sk-container-id-16 div.sk-toggleable {background-color: white;}#sk-container-id-16 label.sk-toggleable__label {cursor: pointer;display: block;width: 100%;margin-bottom: 0;padding: 0.3em;box-sizing: border-box;text-align: center;}#sk-container-id-16 label.sk-toggleable__label-arrow:before {content: \"▸\";float: left;margin-right: 0.25em;color: #696969;}#sk-container-id-16 label.sk-toggleable__label-arrow:hover:before {color: black;}#sk-container-id-16 div.sk-estimator:hover label.sk-toggleable__label-arrow:before {color: black;}#sk-container-id-16 div.sk-toggleable__content {max-height: 0;max-width: 0;overflow: hidden;text-align: left;background-color: #f0f8ff;}#sk-container-id-16 div.sk-toggleable__content pre {margin: 0.2em;color: black;border-radius: 0.25em;background-color: #f0f8ff;}#sk-container-id-16 input.sk-toggleable__control:checked~div.sk-toggleable__content {max-height: 200px;max-width: 100%;overflow: auto;}#sk-container-id-16 input.sk-toggleable__control:checked~label.sk-toggleable__label-arrow:before {content: \"▾\";}#sk-container-id-16 div.sk-estimator input.sk-toggleable__control:checked~label.sk-toggleable__label {background-color: #d4ebff;}#sk-container-id-16 div.sk-label input.sk-toggleable__control:checked~label.sk-toggleable__label {background-color: #d4ebff;}#sk-container-id-16 input.sk-hidden--visually {border: 0;clip: rect(1px 1px 1px 1px);clip: rect(1px, 1px, 1px, 1px);height: 1px;margin: -1px;overflow: hidden;padding: 0;position: absolute;width: 1px;}#sk-container-id-16 div.sk-estimator {font-family: monospace;background-color: #f0f8ff;border: 1px dotted black;border-radius: 0.25em;box-sizing: border-box;margin-bottom: 0.5em;}#sk-container-id-16 div.sk-estimator:hover {background-color: #d4ebff;}#sk-container-id-16 div.sk-parallel-item::after {content: \"\";width: 100%;border-bottom: 1px solid gray;flex-grow: 1;}#sk-container-id-16 div.sk-label:hover label.sk-toggleable__label {background-color: #d4ebff;}#sk-container-id-16 div.sk-serial::before {content: \"\";position: absolute;border-left: 1px solid gray;box-sizing: border-box;top: 0;bottom: 0;left: 50%;z-index: 0;}#sk-container-id-16 div.sk-serial {display: flex;flex-direction: column;align-items: center;background-color: white;padding-right: 0.2em;padding-left: 0.2em;position: relative;}#sk-container-id-16 div.sk-item {position: relative;z-index: 1;}#sk-container-id-16 div.sk-parallel {display: flex;align-items: stretch;justify-content: center;background-color: white;position: relative;}#sk-container-id-16 div.sk-item::before, #sk-container-id-16 div.sk-parallel-item::before {content: \"\";position: absolute;border-left: 1px solid gray;box-sizing: border-box;top: 0;bottom: 0;left: 50%;z-index: -1;}#sk-container-id-16 div.sk-parallel-item {display: flex;flex-direction: column;z-index: 1;position: relative;background-color: white;}#sk-container-id-16 div.sk-parallel-item:first-child::after {align-self: flex-end;width: 50%;}#sk-container-id-16 div.sk-parallel-item:last-child::after {align-self: flex-start;width: 50%;}#sk-container-id-16 div.sk-parallel-item:only-child::after {width: 0;}#sk-container-id-16 div.sk-dashed-wrapped {border: 1px dashed gray;margin: 0 0.4em 0.5em 0.4em;box-sizing: border-box;padding-bottom: 0.4em;background-color: white;}#sk-container-id-16 div.sk-label label {font-family: monospace;font-weight: bold;display: inline-block;line-height: 1.2em;}#sk-container-id-16 div.sk-label-container {text-align: center;}#sk-container-id-16 div.sk-container {/* jupyter's `normalize.less` sets `[hidden] { display: none; }` but bootstrap.min.css set `[hidden] { display: none !important; }` so we also need the `!important` here to be able to override the default hidden behavior on the sphinx rendered scikit-learn.org. See: https://github.com/scikit-learn/scikit-learn/issues/21755 */display: inline-block !important;position: relative;}#sk-container-id-16 div.sk-text-repr-fallback {display: none;}</style><div id=\"sk-container-id-16\" class=\"sk-top-container\"><div class=\"sk-text-repr-fallback\"><pre>DecisionTreeClassifier(ccp_alpha=0.0, class_weight=None, criterion=&#x27;entropy&#x27;,\n",
       "                       max_depth=5, max_features=None, max_leaf_nodes=None,\n",
       "                       min_impurity_decrease=0.0, min_samples_leaf=1,\n",
       "                       min_samples_split=2, min_weight_fraction_leaf=0.0,\n",
       "                       random_state=None, splitter=&#x27;best&#x27;)</pre><b>In a Jupyter environment, please rerun this cell to show the HTML representation or trust the notebook. <br />On GitHub, the HTML representation is unable to render, please try loading this page with nbviewer.org.</b></div><div class=\"sk-container\" hidden><div class=\"sk-item\"><div class=\"sk-estimator sk-toggleable\"><input class=\"sk-toggleable__control sk-hidden--visually\" id=\"sk-estimator-id-20\" type=\"checkbox\" checked><label for=\"sk-estimator-id-20\" class=\"sk-toggleable__label sk-toggleable__label-arrow\">DecisionTreeClassifier</label><div class=\"sk-toggleable__content\"><pre>DecisionTreeClassifier(ccp_alpha=0.0, class_weight=None, criterion=&#x27;entropy&#x27;,\n",
       "                       max_depth=5, max_features=None, max_leaf_nodes=None,\n",
       "                       min_impurity_decrease=0.0, min_samples_leaf=1,\n",
       "                       min_samples_split=2, min_weight_fraction_leaf=0.0,\n",
       "                       random_state=None, splitter=&#x27;best&#x27;)</pre></div></div></div></div></div>"
      ],
      "text/plain": [
       "DecisionTreeClassifier(ccp_alpha=0.0, class_weight=None, criterion='entropy',\n",
       "                       max_depth=5, max_features=None, max_leaf_nodes=None,\n",
       "                       min_impurity_decrease=0.0, min_samples_leaf=1,\n",
       "                       min_samples_split=2, min_weight_fraction_leaf=0.0,\n",
       "                       random_state=None, splitter='best')"
      ]
     },
     "execution_count": 54,
     "metadata": {},
     "output_type": "execute_result"
    }
   ],
   "source": [
    "random_search_dtc.best_estimator_"
   ]
  },
  {
   "cell_type": "code",
   "execution_count": 61,
   "metadata": {},
   "outputs": [
    {
     "name": "stdout",
     "output_type": "stream",
     "text": [
      "Salida de resultado de la evaluación correspondientes a la Prueba #2\n",
      "Rendimiento obtenido: 0.8709422011084719\n",
      "Reporte de indicadores:\n",
      "               precision    recall  f1-score   support\n",
      "\n",
      "           N       0.90      0.95      0.92      2078\n",
      "           Y       0.68      0.52      0.59       448\n",
      "\n",
      "    accuracy                           0.87      2526\n",
      "   macro avg       0.79      0.74      0.76      2526\n",
      "weighted avg       0.86      0.87      0.86      2526\n",
      "\n",
      "Matriz de confusión:\n"
     ]
    },
    {
     "data": {
      "image/png": "[encoded data removed]",
      "text/plain": [
       "<Figure size 640x480 with 2 Axes>"
      ]
     },
     "metadata": {},
     "output_type": "display_data"
    }
   ],
   "source": [
    "print(\"Salida de resultado de la evaluación correspondientes a la Prueba #2\")\n",
    "evaluar_modelo(random_search_dtc.best_estimator_, test_data, test_labels)"
   ]
  },
  {
   "cell_type": "markdown",
   "metadata": {},
   "source": [
    "Se observa una mejora en el valor del rendimiento obtenido, pasando de 0.88 a 0.89"
   ]
  },
  {
   "cell_type": "markdown",
   "metadata": {},
   "source": [
    "#### KNN con parametrización RandomizedSearch"
   ]
  },
  {
   "cell_type": "code",
   "execution_count": 56,
   "metadata": {},
   "outputs": [],
   "source": [
    "# Define el espacio de búsqueda de hiperparámetros\n",
    "param_dist = {\n",
    "    'n_neighbors': randint(1, 20), \n",
    "    'weights': ['uniform', 'distance'],\n",
    "    'p': [1, 2]\n",
    "}\n",
    "\n",
    "# Configura el clasificador y el proceso de búsqueda aleatoria\n",
    "knn = KNeighborsClassifier()\n",
    "\n",
    "random_search_KNN = RandomizedSearchCV( knn, param_distributions=param_dist, \n",
    "    n_iter= 10, cv=5, scoring='accuracy', verbose=1, n_jobs=-1, random_state=42\n",
    ")"
   ]
  },
  {
   "cell_type": "code",
   "execution_count": 57,
   "metadata": {},
   "outputs": [
    {
     "name": "stdout",
     "output_type": "stream",
     "text": [
      "Fitting 5 folds for each of 10 candidates, totalling 50 fits\n"
     ]
    },
    {
     "name": "stderr",
     "output_type": "stream",
     "text": [
      "c:\\Users\\usuario\\anaconda3\\envs\\VIU-13MBID\\Lib\\site-packages\\joblib\\externals\\loky\\backend\\context.py:136: UserWarning: Could not find the number of physical cores for the following reason:\n",
      "found 0 physical cores < 1\n",
      "Returning the number of logical cores instead. You can silence this warning by setting LOKY_MAX_CPU_COUNT to the number of cores you want to use.\n",
      "  warnings.warn(\n",
      "  File \"c:\\Users\\usuario\\anaconda3\\envs\\VIU-13MBID\\Lib\\site-packages\\joblib\\externals\\loky\\backend\\context.py\", line 282, in _count_physical_cores\n",
      "    raise ValueError(f\"found {cpu_count_physical} physical cores < 1\")\n",
      "2023/12/01 10:23:09 INFO mlflow.sklearn.utils: Logging the 5 best runs, 5 runs will be omitted.\n"
     ]
    }
   ],
   "source": [
    "with mlflow.start_run(run_name='KNN (#2)'):\n",
    "    random_search_KNN.fit(train_data, train_labels)"
   ]
  },
  {
   "cell_type": "code",
   "execution_count": 58,
   "metadata": {},
   "outputs": [
    {
     "data": {
      "text/html": [
       "<style>#sk-container-id-18 {color: black;}#sk-container-id-18 pre{padding: 0;}#sk-container-id-18 div.sk-toggleable {background-color: white;}#sk-container-id-18 label.sk-toggleable__label {cursor: pointer;display: block;width: 100%;margin-bottom: 0;padding: 0.3em;box-sizing: border-box;text-align: center;}#sk-container-id-18 label.sk-toggleable__label-arrow:before {content: \"▸\";float: left;margin-right: 0.25em;color: #696969;}#sk-container-id-18 label.sk-toggleable__label-arrow:hover:before {color: black;}#sk-container-id-18 div.sk-estimator:hover label.sk-toggleable__label-arrow:before {color: black;}#sk-container-id-18 div.sk-toggleable__content {max-height: 0;max-width: 0;overflow: hidden;text-align: left;background-color: #f0f8ff;}#sk-container-id-18 div.sk-toggleable__content pre {margin: 0.2em;color: black;border-radius: 0.25em;background-color: #f0f8ff;}#sk-container-id-18 input.sk-toggleable__control:checked~div.sk-toggleable__content {max-height: 200px;max-width: 100%;overflow: auto;}#sk-container-id-18 input.sk-toggleable__control:checked~label.sk-toggleable__label-arrow:before {content: \"▾\";}#sk-container-id-18 div.sk-estimator input.sk-toggleable__control:checked~label.sk-toggleable__label {background-color: #d4ebff;}#sk-container-id-18 div.sk-label input.sk-toggleable__control:checked~label.sk-toggleable__label {background-color: #d4ebff;}#sk-container-id-18 input.sk-hidden--visually {border: 0;clip: rect(1px 1px 1px 1px);clip: rect(1px, 1px, 1px, 1px);height: 1px;margin: -1px;overflow: hidden;padding: 0;position: absolute;width: 1px;}#sk-container-id-18 div.sk-estimator {font-family: monospace;background-color: #f0f8ff;border: 1px dotted black;border-radius: 0.25em;box-sizing: border-box;margin-bottom: 0.5em;}#sk-container-id-18 div.sk-estimator:hover {background-color: #d4ebff;}#sk-container-id-18 div.sk-parallel-item::after {content: \"\";width: 100%;border-bottom: 1px solid gray;flex-grow: 1;}#sk-container-id-18 div.sk-label:hover label.sk-toggleable__label {background-color: #d4ebff;}#sk-container-id-18 div.sk-serial::before {content: \"\";position: absolute;border-left: 1px solid gray;box-sizing: border-box;top: 0;bottom: 0;left: 50%;z-index: 0;}#sk-container-id-18 div.sk-serial {display: flex;flex-direction: column;align-items: center;background-color: white;padding-right: 0.2em;padding-left: 0.2em;position: relative;}#sk-container-id-18 div.sk-item {position: relative;z-index: 1;}#sk-container-id-18 div.sk-parallel {display: flex;align-items: stretch;justify-content: center;background-color: white;position: relative;}#sk-container-id-18 div.sk-item::before, #sk-container-id-18 div.sk-parallel-item::before {content: \"\";position: absolute;border-left: 1px solid gray;box-sizing: border-box;top: 0;bottom: 0;left: 50%;z-index: -1;}#sk-container-id-18 div.sk-parallel-item {display: flex;flex-direction: column;z-index: 1;position: relative;background-color: white;}#sk-container-id-18 div.sk-parallel-item:first-child::after {align-self: flex-end;width: 50%;}#sk-container-id-18 div.sk-parallel-item:last-child::after {align-self: flex-start;width: 50%;}#sk-container-id-18 div.sk-parallel-item:only-child::after {width: 0;}#sk-container-id-18 div.sk-dashed-wrapped {border: 1px dashed gray;margin: 0 0.4em 0.5em 0.4em;box-sizing: border-box;padding-bottom: 0.4em;background-color: white;}#sk-container-id-18 div.sk-label label {font-family: monospace;font-weight: bold;display: inline-block;line-height: 1.2em;}#sk-container-id-18 div.sk-label-container {text-align: center;}#sk-container-id-18 div.sk-container {/* jupyter's `normalize.less` sets `[hidden] { display: none; }` but bootstrap.min.css set `[hidden] { display: none !important; }` so we also need the `!important` here to be able to override the default hidden behavior on the sphinx rendered scikit-learn.org. See: https://github.com/scikit-learn/scikit-learn/issues/21755 */display: inline-block !important;position: relative;}#sk-container-id-18 div.sk-text-repr-fallback {display: none;}</style><div id=\"sk-container-id-18\" class=\"sk-top-container\"><div class=\"sk-text-repr-fallback\"><pre>KNeighborsClassifier(algorithm=&#x27;auto&#x27;, leaf_size=30, metric=&#x27;minkowski&#x27;,\n",
       "                     metric_params=None, n_jobs=None, n_neighbors=7, p=2,\n",
       "                     weights=&#x27;uniform&#x27;)</pre><b>In a Jupyter environment, please rerun this cell to show the HTML representation or trust the notebook. <br />On GitHub, the HTML representation is unable to render, please try loading this page with nbviewer.org.</b></div><div class=\"sk-container\" hidden><div class=\"sk-item\"><div class=\"sk-estimator sk-toggleable\"><input class=\"sk-toggleable__control sk-hidden--visually\" id=\"sk-estimator-id-24\" type=\"checkbox\" checked><label for=\"sk-estimator-id-24\" class=\"sk-toggleable__label sk-toggleable__label-arrow\">KNeighborsClassifier</label><div class=\"sk-toggleable__content\"><pre>KNeighborsClassifier(algorithm=&#x27;auto&#x27;, leaf_size=30, metric=&#x27;minkowski&#x27;,\n",
       "                     metric_params=None, n_jobs=None, n_neighbors=7, p=2,\n",
       "                     weights=&#x27;uniform&#x27;)</pre></div></div></div></div></div>"
      ],
      "text/plain": [
       "KNeighborsClassifier(algorithm='auto', leaf_size=30, metric='minkowski',\n",
       "                     metric_params=None, n_jobs=None, n_neighbors=7, p=2,\n",
       "                     weights='uniform')"
      ]
     },
     "execution_count": 58,
     "metadata": {},
     "output_type": "execute_result"
    }
   ],
   "source": [
    "random_search_KNN.best_estimator_"
   ]
  },
  {
   "cell_type": "code",
   "execution_count": 59,
   "metadata": {},
   "outputs": [
    {
     "name": "stdout",
     "output_type": "stream",
     "text": [
      "Salida de resultado de la evaluación correspondientes a la Prueba #2\n",
      "Rendimiento obtenido: 0.8424386381631037\n",
      "Reporte de indicadores:\n",
      "               precision    recall  f1-score   support\n",
      "\n",
      "           N       0.86      0.98      0.91      2098\n",
      "           Y       0.61      0.19      0.29       428\n",
      "\n",
      "    accuracy                           0.84      2526\n",
      "   macro avg       0.73      0.58      0.60      2526\n",
      "weighted avg       0.81      0.84      0.81      2526\n",
      "\n",
      "Matriz de confusión:\n"
     ]
    },
    {
     "data": {
      "image/png": "[encoded data removed]",
      "text/plain": [
       "<Figure size 640x480 with 2 Axes>"
      ]
     },
     "metadata": {},
     "output_type": "display_data"
    }
   ],
   "source": [
    "print(\"Salida de resultado de la evaluación correspondientes a la Prueba #2\")\n",
    "evaluar_modelo(random_search_KNN.best_estimator_, test_data, test_labels)"
   ]
  },
  {
   "cell_type": "markdown",
   "metadata": {},
   "source": [
    "#### RandomForest con parametrización RandomizedSearch"
   ]
  },
  {
   "cell_type": "code",
   "execution_count": 60,
   "metadata": {},
   "outputs": [],
   "source": [
    "# Define el espacio de búsqueda de hiperparámetros\n",
    "param_dist = {\n",
    "    'n_estimators': randint(10, 200), \n",
    "    'max_depth': randint(1, 20),\n",
    "    'min_samples_split': randint(2, 20),\n",
    "    'min_samples_leaf': randint(1, 20),\n",
    "    'max_features': ['auto', 'sqrt', 'log2']\n",
    "}\n",
    "\n",
    "# Configura el clasificador y el proceso de búsqueda aleatoria\n",
    "rfc = RandomForestClassifier()\n",
    "\n",
    "random_search_rfc = RandomizedSearchCV( rfc, param_distributions=param_dist, \n",
    "    n_iter= 50, cv=5, scoring='accuracy', verbose=1, n_jobs=-1, random_state=42\n",
    ")\n"
   ]
  },
  {
   "cell_type": "code",
   "execution_count": 61,
   "metadata": {},
   "outputs": [
    {
     "name": "stdout",
     "output_type": "stream",
     "text": [
      "Fitting 5 folds for each of 50 candidates, totalling 250 fits\n"
     ]
    },
    {
     "name": "stderr",
     "output_type": "stream",
     "text": [
      "c:\\Users\\usuario\\anaconda3\\envs\\VIU-13MBID\\Lib\\site-packages\\sklearn\\model_selection\\_validation.py:425: FitFailedWarning: \n",
      "75 fits failed out of a total of 250.\n",
      "The score on these train-test partitions for these parameters will be set to nan.\n",
      "If these failures are not expected, you can try to debug them by setting error_score='raise'.\n",
      "\n",
      "Below are more details about the failures:\n",
      "--------------------------------------------------------------------------------\n",
      "75 fits failed with the following error:\n",
      "Traceback (most recent call last):\n",
      "  File \"c:\\Users\\usuario\\anaconda3\\envs\\VIU-13MBID\\Lib\\site-packages\\sklearn\\model_selection\\_validation.py\", line 729, in _fit_and_score\n",
      "    estimator.fit(X_train, y_train, **fit_params)\n",
      "  File \"c:\\Users\\usuario\\anaconda3\\envs\\VIU-13MBID\\Lib\\site-packages\\sklearn\\base.py\", line 1145, in wrapper\n",
      "    estimator._validate_params()\n",
      "  File \"c:\\Users\\usuario\\anaconda3\\envs\\VIU-13MBID\\Lib\\site-packages\\sklearn\\base.py\", line 638, in _validate_params\n",
      "    validate_parameter_constraints(\n",
      "  File \"c:\\Users\\usuario\\anaconda3\\envs\\VIU-13MBID\\Lib\\site-packages\\sklearn\\utils\\_param_validation.py\", line 95, in validate_parameter_constraints\n",
      "    raise InvalidParameterError(\n",
      "sklearn.utils._param_validation.InvalidParameterError: The 'max_features' parameter of RandomForestClassifier must be an int in the range [1, inf), a float in the range (0.0, 1.0], a str among {'log2', 'sqrt'} or None. Got 'auto' instead.\n",
      "\n",
      "  warnings.warn(some_fits_failed_message, FitFailedWarning)\n",
      "c:\\Users\\usuario\\anaconda3\\envs\\VIU-13MBID\\Lib\\site-packages\\sklearn\\model_selection\\_search.py:979: UserWarning: One or more of the test scores are non-finite: [       nan 0.88066007 0.8559736  0.87656766        nan 0.87683168\n",
      "        nan 0.87894389 0.88237624 0.87960396 0.85491749 0.87894389\n",
      " 0.88145215 0.86772277        nan        nan        nan 0.82323432\n",
      " 0.84013201        nan 0.82323432 0.88184818 0.87683168 0.87947195\n",
      "        nan 0.86732673        nan 0.87405941 0.88013201 0.88052805\n",
      "        nan 0.87920792 0.87867987 0.87973597        nan 0.87947195\n",
      "        nan 0.88092409 0.8780198  0.87524752        nan 0.83762376\n",
      "        nan 0.87643564 0.8780198  0.87722772 0.82323432        nan\n",
      " 0.82323432 0.88092409]\n",
      "  warnings.warn(\n",
      "2023/12/01 10:36:26 INFO mlflow.sklearn.utils: Logging the 5 best runs, 45 runs will be omitted.\n"
     ]
    },
    {
     "data": {
      "text/html": [
       "<style>#sk-container-id-20 {color: black;}#sk-container-id-20 pre{padding: 0;}#sk-container-id-20 div.sk-toggleable {background-color: white;}#sk-container-id-20 label.sk-toggleable__label {cursor: pointer;display: block;width: 100%;margin-bottom: 0;padding: 0.3em;box-sizing: border-box;text-align: center;}#sk-container-id-20 label.sk-toggleable__label-arrow:before {content: \"▸\";float: left;margin-right: 0.25em;color: #696969;}#sk-container-id-20 label.sk-toggleable__label-arrow:hover:before {color: black;}#sk-container-id-20 div.sk-estimator:hover label.sk-toggleable__label-arrow:before {color: black;}#sk-container-id-20 div.sk-toggleable__content {max-height: 0;max-width: 0;overflow: hidden;text-align: left;background-color: #f0f8ff;}#sk-container-id-20 div.sk-toggleable__content pre {margin: 0.2em;color: black;border-radius: 0.25em;background-color: #f0f8ff;}#sk-container-id-20 input.sk-toggleable__control:checked~div.sk-toggleable__content {max-height: 200px;max-width: 100%;overflow: auto;}#sk-container-id-20 input.sk-toggleable__control:checked~label.sk-toggleable__label-arrow:before {content: \"▾\";}#sk-container-id-20 div.sk-estimator input.sk-toggleable__control:checked~label.sk-toggleable__label {background-color: #d4ebff;}#sk-container-id-20 div.sk-label input.sk-toggleable__control:checked~label.sk-toggleable__label {background-color: #d4ebff;}#sk-container-id-20 input.sk-hidden--visually {border: 0;clip: rect(1px 1px 1px 1px);clip: rect(1px, 1px, 1px, 1px);height: 1px;margin: -1px;overflow: hidden;padding: 0;position: absolute;width: 1px;}#sk-container-id-20 div.sk-estimator {font-family: monospace;background-color: #f0f8ff;border: 1px dotted black;border-radius: 0.25em;box-sizing: border-box;margin-bottom: 0.5em;}#sk-container-id-20 div.sk-estimator:hover {background-color: #d4ebff;}#sk-container-id-20 div.sk-parallel-item::after {content: \"\";width: 100%;border-bottom: 1px solid gray;flex-grow: 1;}#sk-container-id-20 div.sk-label:hover label.sk-toggleable__label {background-color: #d4ebff;}#sk-container-id-20 div.sk-serial::before {content: \"\";position: absolute;border-left: 1px solid gray;box-sizing: border-box;top: 0;bottom: 0;left: 50%;z-index: 0;}#sk-container-id-20 div.sk-serial {display: flex;flex-direction: column;align-items: center;background-color: white;padding-right: 0.2em;padding-left: 0.2em;position: relative;}#sk-container-id-20 div.sk-item {position: relative;z-index: 1;}#sk-container-id-20 div.sk-parallel {display: flex;align-items: stretch;justify-content: center;background-color: white;position: relative;}#sk-container-id-20 div.sk-item::before, #sk-container-id-20 div.sk-parallel-item::before {content: \"\";position: absolute;border-left: 1px solid gray;box-sizing: border-box;top: 0;bottom: 0;left: 50%;z-index: -1;}#sk-container-id-20 div.sk-parallel-item {display: flex;flex-direction: column;z-index: 1;position: relative;background-color: white;}#sk-container-id-20 div.sk-parallel-item:first-child::after {align-self: flex-end;width: 50%;}#sk-container-id-20 div.sk-parallel-item:last-child::after {align-self: flex-start;width: 50%;}#sk-container-id-20 div.sk-parallel-item:only-child::after {width: 0;}#sk-container-id-20 div.sk-dashed-wrapped {border: 1px dashed gray;margin: 0 0.4em 0.5em 0.4em;box-sizing: border-box;padding-bottom: 0.4em;background-color: white;}#sk-container-id-20 div.sk-label label {font-family: monospace;font-weight: bold;display: inline-block;line-height: 1.2em;}#sk-container-id-20 div.sk-label-container {text-align: center;}#sk-container-id-20 div.sk-container {/* jupyter's `normalize.less` sets `[hidden] { display: none; }` but bootstrap.min.css set `[hidden] { display: none !important; }` so we also need the `!important` here to be able to override the default hidden behavior on the sphinx rendered scikit-learn.org. See: https://github.com/scikit-learn/scikit-learn/issues/21755 */display: inline-block !important;position: relative;}#sk-container-id-20 div.sk-text-repr-fallback {display: none;}</style><div id=\"sk-container-id-20\" class=\"sk-top-container\"><div class=\"sk-text-repr-fallback\"><pre>RandomForestClassifier(bootstrap=True, ccp_alpha=0.0, class_weight=None,\n",
       "                       criterion=&#x27;gini&#x27;, max_depth=14, max_features=&#x27;sqrt&#x27;,\n",
       "                       max_leaf_nodes=None, max_samples=None,\n",
       "                       min_impurity_decrease=0.0, min_samples_leaf=9,\n",
       "                       min_samples_split=3, min_weight_fraction_leaf=0.0,\n",
       "                       n_estimators=93, n_jobs=None, oob_score=False,\n",
       "                       random_state=None, verbose=0, warm_start=False)</pre><b>In a Jupyter environment, please rerun this cell to show the HTML representation or trust the notebook. <br />On GitHub, the HTML representation is unable to render, please try loading this page with nbviewer.org.</b></div><div class=\"sk-container\" hidden><div class=\"sk-item\"><div class=\"sk-estimator sk-toggleable\"><input class=\"sk-toggleable__control sk-hidden--visually\" id=\"sk-estimator-id-28\" type=\"checkbox\" checked><label for=\"sk-estimator-id-28\" class=\"sk-toggleable__label sk-toggleable__label-arrow\">RandomForestClassifier</label><div class=\"sk-toggleable__content\"><pre>RandomForestClassifier(bootstrap=True, ccp_alpha=0.0, class_weight=None,\n",
       "                       criterion=&#x27;gini&#x27;, max_depth=14, max_features=&#x27;sqrt&#x27;,\n",
       "                       max_leaf_nodes=None, max_samples=None,\n",
       "                       min_impurity_decrease=0.0, min_samples_leaf=9,\n",
       "                       min_samples_split=3, min_weight_fraction_leaf=0.0,\n",
       "                       n_estimators=93, n_jobs=None, oob_score=False,\n",
       "                       random_state=None, verbose=0, warm_start=False)</pre></div></div></div></div></div>"
      ],
      "text/plain": [
       "RandomForestClassifier(bootstrap=True, ccp_alpha=0.0, class_weight=None,\n",
       "                       criterion='gini', max_depth=14, max_features='sqrt',\n",
       "                       max_leaf_nodes=None, max_samples=None,\n",
       "                       min_impurity_decrease=0.0, min_samples_leaf=9,\n",
       "                       min_samples_split=3, min_weight_fraction_leaf=0.0,\n",
       "                       n_estimators=93, n_jobs=None, oob_score=False,\n",
       "                       random_state=None, verbose=0, warm_start=False)"
      ]
     },
     "execution_count": 61,
     "metadata": {},
     "output_type": "execute_result"
    }
   ],
   "source": [
    "with mlflow.start_run(run_name='RandomForest (#2)'):\n",
    "    random_search_rfc.fit(train_data, train_labels)\n",
    "\n",
    "random_search_rfc.best_estimator_"
   ]
  },
  {
   "cell_type": "code",
   "execution_count": 62,
   "metadata": {},
   "outputs": [
    {
     "name": "stdout",
     "output_type": "stream",
     "text": [
      "Salida de resultado de la evaluación correspondientes a la Prueba #2\n",
      "Rendimiento obtenido: 0.8895486935866983\n",
      "Reporte de indicadores:\n",
      "               precision    recall  f1-score   support\n",
      "\n",
      "           N       0.92      0.95      0.93      2098\n",
      "           Y       0.71      0.60      0.65       428\n",
      "\n",
      "    accuracy                           0.89      2526\n",
      "   macro avg       0.81      0.77      0.79      2526\n",
      "weighted avg       0.88      0.89      0.89      2526\n",
      "\n",
      "Matriz de confusión:\n"
     ]
    },
    {
     "data": {
      "image/png": "[encoded data removed]",
      "text/plain": [
       "<Figure size 640x480 with 2 Axes>"
      ]
     },
     "metadata": {},
     "output_type": "display_data"
    }
   ],
   "source": [
    "print(\"Salida de resultado de la evaluación correspondientes a la Prueba #2\")\n",
    "evaluar_modelo(random_search_rfc.best_estimator_, test_data, test_labels)"
   ]
  },
  {
   "cell_type": "markdown",
   "metadata": {},
   "source": [
    "#### TODO: posibilidades de mejora de la libreta\n",
    "\n",
    "* Evaluación del clasificador a través de validación cruzada\n",
    "* Ejecutar pruebas que contemplen datos con mayor o menor grado de transformaciones aplicadas \n",
    "* Implementar clasificación con otras técnicas (por ejemplo: redes neuronales, SVM, entre otras)\n",
    "* Evaluar la combinación de técnicas, por ejemplo: clustering y sobre esos resultados aplicación de árboles de decisión para detectar patrones de agrupamiento y ahí relacionarlo con la situación de los clientes.\n",
    "* Integrar técnicas de extracción de reglas de asociación (con mayor \"legibilidad\" para usuarios no-técnicos)\n",
    "* Entre otras opciones"
   ]
  },
  {
   "cell_type": "markdown",
   "metadata": {},
   "source": [
    "----\n",
    "### Prueba #3"
   ]
  },
  {
   "cell_type": "markdown",
   "metadata": {},
   "source": [
    "En la siguiente prueba final se implementará algunos algoritmos de clasificación nuevos, y se analiza los resultados obtenidos para evaluar el rendimiento obtenido"
   ]
  },
  {
   "cell_type": "code",
   "execution_count": 11,
   "metadata": {},
   "outputs": [
    {
     "name": "stderr",
     "output_type": "stream",
     "text": [
      "WARNING:root:Malformed experiment 'mlruns'. Detailed error Yaml file 'C:\\Users\\usuario\\Desktop\\BIG DATA\\013MBID(proceso)\\013mbid\\viu-13mbid\\notebooks\\03-Modelado+Evaluacion\\mlruns\\mlruns\\meta.yaml' does not exist.\n",
      "Traceback (most recent call last):\n",
      "  File \"c:\\Users\\usuario\\anaconda3\\envs\\VIU-13MBID\\Lib\\site-packages\\mlflow\\store\\tracking\\file_store.py\", line 303, in search_experiments\n",
      "    exp = self._get_experiment(exp_id, view_type)\n",
      "          ^^^^^^^^^^^^^^^^^^^^^^^^^^^^^^^^^^^^^^^\n",
      "  File \"c:\\Users\\usuario\\anaconda3\\envs\\VIU-13MBID\\Lib\\site-packages\\mlflow\\store\\tracking\\file_store.py\", line 396, in _get_experiment\n",
      "    meta = FileStore._read_yaml(experiment_dir, FileStore.META_DATA_FILE_NAME)\n",
      "           ^^^^^^^^^^^^^^^^^^^^^^^^^^^^^^^^^^^^^^^^^^^^^^^^^^^^^^^^^^^^^^^^^^^\n",
      "  File \"c:\\Users\\usuario\\anaconda3\\envs\\VIU-13MBID\\Lib\\site-packages\\mlflow\\store\\tracking\\file_store.py\", line 1304, in _read_yaml\n",
      "    return _read_helper(root, file_name, attempts_remaining=retries)\n",
      "           ^^^^^^^^^^^^^^^^^^^^^^^^^^^^^^^^^^^^^^^^^^^^^^^^^^^^^^^^^\n",
      "  File \"c:\\Users\\usuario\\anaconda3\\envs\\VIU-13MBID\\Lib\\site-packages\\mlflow\\store\\tracking\\file_store.py\", line 1297, in _read_helper\n",
      "    result = read_yaml(root, file_name)\n",
      "             ^^^^^^^^^^^^^^^^^^^^^^^^^^\n",
      "  File \"c:\\Users\\usuario\\anaconda3\\envs\\VIU-13MBID\\Lib\\site-packages\\mlflow\\utils\\file_utils.py\", line 285, in read_yaml\n",
      "    raise MissingConfigException(f\"Yaml file '{file_path}' does not exist.\")\n",
      "mlflow.exceptions.MissingConfigException: Yaml file 'C:\\Users\\usuario\\Desktop\\BIG DATA\\013MBID(proceso)\\013mbid\\viu-13mbid\\notebooks\\03-Modelado+Evaluacion\\mlruns\\mlruns\\meta.yaml' does not exist.\n",
      "2023/12/01 15:12:56 INFO mlflow.tracking.fluent: Experiment with name 'Prueba #3' does not exist. Creating a new experiment.\n",
      "WARNING:root:Malformed experiment 'mlruns'. Detailed error Yaml file 'C:\\Users\\usuario\\Desktop\\BIG DATA\\013MBID(proceso)\\013mbid\\viu-13mbid\\notebooks\\03-Modelado+Evaluacion\\mlruns\\mlruns\\meta.yaml' does not exist.\n",
      "Traceback (most recent call last):\n",
      "  File \"c:\\Users\\usuario\\anaconda3\\envs\\VIU-13MBID\\Lib\\site-packages\\mlflow\\store\\tracking\\file_store.py\", line 303, in search_experiments\n",
      "    exp = self._get_experiment(exp_id, view_type)\n",
      "          ^^^^^^^^^^^^^^^^^^^^^^^^^^^^^^^^^^^^^^^\n",
      "  File \"c:\\Users\\usuario\\anaconda3\\envs\\VIU-13MBID\\Lib\\site-packages\\mlflow\\store\\tracking\\file_store.py\", line 396, in _get_experiment\n",
      "    meta = FileStore._read_yaml(experiment_dir, FileStore.META_DATA_FILE_NAME)\n",
      "           ^^^^^^^^^^^^^^^^^^^^^^^^^^^^^^^^^^^^^^^^^^^^^^^^^^^^^^^^^^^^^^^^^^^\n",
      "  File \"c:\\Users\\usuario\\anaconda3\\envs\\VIU-13MBID\\Lib\\site-packages\\mlflow\\store\\tracking\\file_store.py\", line 1304, in _read_yaml\n",
      "    return _read_helper(root, file_name, attempts_remaining=retries)\n",
      "           ^^^^^^^^^^^^^^^^^^^^^^^^^^^^^^^^^^^^^^^^^^^^^^^^^^^^^^^^^\n",
      "  File \"c:\\Users\\usuario\\anaconda3\\envs\\VIU-13MBID\\Lib\\site-packages\\mlflow\\store\\tracking\\file_store.py\", line 1297, in _read_helper\n",
      "    result = read_yaml(root, file_name)\n",
      "             ^^^^^^^^^^^^^^^^^^^^^^^^^^\n",
      "  File \"c:\\Users\\usuario\\anaconda3\\envs\\VIU-13MBID\\Lib\\site-packages\\mlflow\\utils\\file_utils.py\", line 285, in read_yaml\n",
      "    raise MissingConfigException(f\"Yaml file '{file_path}' does not exist.\")\n",
      "mlflow.exceptions.MissingConfigException: Yaml file 'C:\\Users\\usuario\\Desktop\\BIG DATA\\013MBID(proceso)\\013mbid\\viu-13mbid\\notebooks\\03-Modelado+Evaluacion\\mlruns\\mlruns\\meta.yaml' does not exist.\n",
      "2023/12/01 15:12:56 WARNING mlflow.utils.autologging_utils: You are using an unsupported version of sklearn. If you encounter errors during autologging, try upgrading / downgrading sklearn to a supported version, or try upgrading MLflow.\n"
     ]
    },
    {
     "name": "stderr",
     "output_type": "stream",
     "text": [
      "2023/12/01 15:12:57 INFO mlflow.tracking.fluent: Autologging successfully enabled for sklearn.\n"
     ]
    }
   ],
   "source": [
    "mlflow.set_experiment(experiment_name=\"Prueba #3\")\n",
    "mlflow.autolog()"
   ]
  },
  {
   "cell_type": "markdown",
   "metadata": {},
   "source": [
    "#### XGBoost "
   ]
  },
  {
   "cell_type": "code",
   "execution_count": 13,
   "metadata": {},
   "outputs": [
    {
     "name": "stderr",
     "output_type": "stream",
     "text": [
      "2023/12/01 15:13:09 WARNING mlflow.utils.autologging_utils: You are using an unsupported version of xgboost. If you encounter errors during autologging, try upgrading / downgrading xgboost to a supported version, or try upgrading MLflow.\n",
      "2023/12/01 15:13:09 INFO mlflow.tracking.fluent: Autologging successfully enabled for xgboost.\n"
     ]
    }
   ],
   "source": [
    "import xgboost as xgb"
   ]
  },
  {
   "cell_type": "code",
   "execution_count": 14,
   "metadata": {},
   "outputs": [
    {
     "data": {
      "text/plain": [
       "array(['N', 'Y', 'Y', ..., 'N', 'N', 'N'], dtype=object)"
      ]
     },
     "execution_count": 14,
     "metadata": {},
     "output_type": "execute_result"
    }
   ],
   "source": [
    "train_labels"
   ]
  },
  {
   "cell_type": "markdown",
   "metadata": {},
   "source": [
    "Para la utilización de este algoritmo es necesario realizar una transformación al conjunto de etiquetas (N,Y) para obtener valores numéricos correspondientes (0 y 1)"
   ]
  },
  {
   "cell_type": "code",
   "execution_count": 15,
   "metadata": {},
   "outputs": [],
   "source": [
    "import pandas as pd\n",
    "from sklearn.preprocessing import LabelEncoder\n",
    "\n",
    "# Crea una instancia de LabelEncoder\n",
    "label_encoder = LabelEncoder()\n",
    "\n",
    "# Aplica la transformación a las etiquetas\n",
    "train_labels_numeric = label_encoder.fit_transform(train_labels)\n",
    "test_labels_numeric= label_encoder.fit_transform(test_labels)\n",
    "# Ahora train_labels_numeric contendrá los valores numéricos correspondientes (0 y 1)\n"
   ]
  },
  {
   "cell_type": "code",
   "execution_count": 16,
   "metadata": {},
   "outputs": [
    {
     "data": {
      "text/plain": [
       "array([0, 1, 1, ..., 0, 0, 0])"
      ]
     },
     "execution_count": 16,
     "metadata": {},
     "output_type": "execute_result"
    }
   ],
   "source": [
    "train_labels_numeric"
   ]
  },
  {
   "cell_type": "code",
   "execution_count": 17,
   "metadata": {},
   "outputs": [
    {
     "name": "stderr",
     "output_type": "stream",
     "text": [
      "2023/12/01 15:13:23 WARNING mlflow.utils.autologging_utils: MLflow autologging encountered a warning: \"c:\\Users\\usuario\\anaconda3\\envs\\VIU-13MBID\\Lib\\site-packages\\xgboost\\core.py:160: UserWarning: [15:13:23] WARNING: C:\\buildkite-agent\\builds\\buildkite-windows-cpu-autoscaling-group-i-0750514818a16474a-1\\xgboost\\xgboost-ci-windows\\src\\c_api\\c_api.cc:1240: Saving into deprecated binary model format, please consider using `json` or `ubj`. Model format will default to JSON in XGBoost 2.2 if not specified.\"\n",
      "2023/12/01 15:13:32 WARNING mlflow.utils.autologging_utils: MLflow autologging encountered a warning: \"c:\\Users\\usuario\\anaconda3\\envs\\VIU-13MBID\\Lib\\site-packages\\_distutils_hack\\__init__.py:33: UserWarning: Setuptools is replacing distutils.\"\n"
     ]
    }
   ],
   "source": [
    "# Configura los hiperparámetros de XGBoost\n",
    "params = {\n",
    "    'objective': 'binary:logistic',\n",
    "    'max_depth': 5,\n",
    "    'learning_rate': 0.1,\n",
    "    'subsample': 0.8,\n",
    "    'colsample_bytree': 0.8,\n",
    "    'n_estimators': 100\n",
    "}\n",
    "\n",
    "# Configura el clasificador\n",
    "xgb_classifier = xgb.XGBClassifier(**params)\n",
    "\n",
    "# Ajusta el modelo con el conjunto de entrenamiento\n",
    "with mlflow.start_run(run_name='XGBoost (#3)'):\n",
    "    xgb_classifier.fit(train_data, train_labels_numeric)"
   ]
  },
  {
   "cell_type": "code",
   "execution_count": 18,
   "metadata": {},
   "outputs": [
    {
     "name": "stdout",
     "output_type": "stream",
     "text": [
      "Salida de resultado de la evaluación correspondientes a la Prueba #3\n",
      "Rendimiento obtenido: 0.885193982581156\n",
      "Reporte de indicadores:\n",
      "               precision    recall  f1-score   support\n",
      "\n",
      "           0       0.91      0.95      0.93      2102\n",
      "           1       0.70      0.55      0.62       424\n",
      "\n",
      "    accuracy                           0.89      2526\n",
      "   macro avg       0.81      0.75      0.77      2526\n",
      "weighted avg       0.88      0.89      0.88      2526\n",
      "\n",
      "Matriz de confusión:\n"
     ]
    },
    {
     "data": {
      "image/png": "[encoded data removed]",
      "text/plain": [
       "<Figure size 640x480 with 2 Axes>"
      ]
     },
     "metadata": {},
     "output_type": "display_data"
    }
   ],
   "source": [
    "print(\"Salida de resultado de la evaluación correspondientes a la Prueba #3\")\n",
    "evaluar_modelo(xgb_classifier, test_data, test_labels_numeric)"
   ]
  },
  {
   "cell_type": "markdown",
   "metadata": {},
   "source": [
    "#### AdaBoostClassifier"
   ]
  },
  {
   "cell_type": "code",
   "execution_count": 19,
   "metadata": {},
   "outputs": [],
   "source": [
    "from sklearn.ensemble import AdaBoostClassifier"
   ]
  },
  {
   "cell_type": "code",
   "execution_count": 20,
   "metadata": {},
   "outputs": [],
   "source": [
    "# Crear el modelo AdaBoostClassifier\n",
    "adaboost_model = AdaBoostClassifier(n_estimators=50, random_state=42)\n",
    "# Ajusta el modelo con el conjunto de entrenamiento\n",
    "with mlflow.start_run(run_name='AdaBoostClassifier (#3)'):\n",
    "    adaboost_model.fit(train_data, train_labels)\n"
   ]
  },
  {
   "cell_type": "code",
   "execution_count": 21,
   "metadata": {},
   "outputs": [
    {
     "name": "stdout",
     "output_type": "stream",
     "text": [
      "Salida de resultado de la evaluación correspondientes a la Prueba #3\n",
      "Rendimiento obtenido: 0.8760886777513855\n",
      "Reporte de indicadores:\n",
      "               precision    recall  f1-score   support\n",
      "\n",
      "           N       0.91      0.95      0.93      2102\n",
      "           Y       0.67      0.52      0.59       424\n",
      "\n",
      "    accuracy                           0.88      2526\n",
      "   macro avg       0.79      0.74      0.76      2526\n",
      "weighted avg       0.87      0.88      0.87      2526\n",
      "\n",
      "Matriz de confusión:\n"
     ]
    },
    {
     "data": {
      "image/png": "[encoded data removed]",
      "text/plain": [
       "<Figure size 640x480 with 2 Axes>"
      ]
     },
     "metadata": {},
     "output_type": "display_data"
    }
   ],
   "source": [
    "print(\"Salida de resultado de la evaluación correspondientes a la Prueba #3\")\n",
    "evaluar_modelo(adaboost_model, test_data, test_labels)"
   ]
  },
  {
   "cell_type": "markdown",
   "metadata": {},
   "source": [
    "#### GradientBoostingClassifier"
   ]
  },
  {
   "cell_type": "code",
   "execution_count": 22,
   "metadata": {},
   "outputs": [],
   "source": [
    "from sklearn.ensemble import GradientBoostingClassifier\n",
    "# Crear el modelo GradientBoostingClassifier\n",
    "\n",
    "# Ajusta el modelo con el conjunto de entrenamiento\n",
    "with mlflow.start_run(run_name='GradientBoostingClassifier (#3)'):\n",
    "    gradient_boost_model = GradientBoostingClassifier(loss='exponential',criterion='squared_error', n_estimators=100, learning_rate=0.1, random_state=42)\n",
    "    gradient_boost_model.fit(train_data, train_labels)\n",
    "\n"
   ]
  },
  {
   "cell_type": "code",
   "execution_count": 23,
   "metadata": {},
   "outputs": [
    {
     "name": "stdout",
     "output_type": "stream",
     "text": [
      "Salida de resultado de la evaluación correspondientes a la Prueba #3\n",
      "Rendimiento obtenido: 0.8871733966745843\n",
      "Reporte de indicadores:\n",
      "               precision    recall  f1-score   support\n",
      "\n",
      "           N       0.91      0.96      0.93      2102\n",
      "           Y       0.72      0.54      0.62       424\n",
      "\n",
      "    accuracy                           0.89      2526\n",
      "   macro avg       0.81      0.75      0.78      2526\n",
      "weighted avg       0.88      0.89      0.88      2526\n",
      "\n",
      "Matriz de confusión:\n"
     ]
    },
    {
     "data": {
      "image/png": "[encoded data removed]",
      "text/plain": [
       "<Figure size 640x480 with 2 Axes>"
      ]
     },
     "metadata": {},
     "output_type": "display_data"
    }
   ],
   "source": [
    "print(\"Salida de resultado de la evaluación correspondientes a la Prueba #3\")\n",
    "evaluar_modelo(gradient_boost_model, test_data, test_labels)"
   ]
  },
  {
   "cell_type": "code",
   "execution_count": 25,
   "metadata": {},
   "outputs": [
    {
     "data": {
      "text/plain": [
       "Index(['operaciones_ult_12m', 'gastos_ult_12m', 'limite_credito_tc',\n",
       "       'antiguedad_cliente', 'tasa_interes', 'ingresos', 'pct_ingreso',\n",
       "       'antiguedad_empleado', 'edad', 'estado_civil_N', 'estado_credito_N',\n",
       "       'importe_solicitado', 'duracion_credito', 'situacion_vivienda',\n",
       "       'objetivo_credito', 'falta_pago', 'estado_cliente', 'genero',\n",
       "       'nivel_educativo', 'nivel_tarjeta', 'personas_a_cargo'],\n",
       "      dtype='object')"
      ]
     },
     "execution_count": 25,
     "metadata": {},
     "output_type": "execute_result"
    }
   ],
   "source": [
    "datos.columns"
   ]
  },
  {
   "cell_type": "markdown",
   "metadata": {},
   "source": [
    "----\n",
    "\n",
    "### Prueba de despliegue (utilzando datos nuevos)"
   ]
  },
  {
   "cell_type": "code",
   "execution_count": 28,
   "metadata": {},
   "outputs": [
    {
     "data": {
      "text/html": [
       "<div>\n",
       "<style scoped>\n",
       "    .dataframe tbody tr th:only-of-type {\n",
       "        vertical-align: middle;\n",
       "    }\n",
       "\n",
       "    .dataframe tbody tr th {\n",
       "        vertical-align: top;\n",
       "    }\n",
       "\n",
       "    .dataframe thead th {\n",
       "        text-align: right;\n",
       "    }\n",
       "</style>\n",
       "<table border=\"1\" class=\"dataframe\">\n",
       "  <thead>\n",
       "    <tr style=\"text-align: right;\">\n",
       "      <th></th>\n",
       "      <th>id_cliente</th>\n",
       "      <th>edad</th>\n",
       "      <th>importe_solicitado</th>\n",
       "      <th>duracion_credito</th>\n",
       "      <th>antiguedad_empleado</th>\n",
       "      <th>situacion_vivienda</th>\n",
       "      <th>ingresos</th>\n",
       "      <th>objetivo_credito</th>\n",
       "      <th>pct_ingreso</th>\n",
       "      <th>tasa_interes</th>\n",
       "      <th>...</th>\n",
       "      <th>antiguedad_cliente</th>\n",
       "      <th>estado_civil</th>\n",
       "      <th>estado_cliente</th>\n",
       "      <th>gastos_ult_12m</th>\n",
       "      <th>genero</th>\n",
       "      <th>limite_credito_tc</th>\n",
       "      <th>nivel_educativo</th>\n",
       "      <th>nivel_tarjeta</th>\n",
       "      <th>operaciones_ult_12m</th>\n",
       "      <th>personas_a_cargo</th>\n",
       "    </tr>\n",
       "  </thead>\n",
       "  <tbody>\n",
       "    <tr>\n",
       "      <th>0</th>\n",
       "      <td>708510993</td>\n",
       "      <td>22</td>\n",
       "      <td>4000</td>\n",
       "      <td>4</td>\n",
       "      <td>3.0</td>\n",
       "      <td>HIPOTECA</td>\n",
       "      <td>62000</td>\n",
       "      <td>PERSONAL</td>\n",
       "      <td>0.06</td>\n",
       "      <td>6.76</td>\n",
       "      <td>...</td>\n",
       "      <td>47</td>\n",
       "      <td>SOLTERO</td>\n",
       "      <td>ACTIVO</td>\n",
       "      <td>15478.0</td>\n",
       "      <td>F</td>\n",
       "      <td>4905.0</td>\n",
       "      <td>UNIVERSITARIO_INCOMPLETO</td>\n",
       "      <td>Blue</td>\n",
       "      <td>109.0</td>\n",
       "      <td>1.0</td>\n",
       "    </tr>\n",
       "    <tr>\n",
       "      <th>1</th>\n",
       "      <td>708512051</td>\n",
       "      <td>25</td>\n",
       "      <td>10000</td>\n",
       "      <td>2</td>\n",
       "      <td>3.0</td>\n",
       "      <td>ALQUILER</td>\n",
       "      <td>120000</td>\n",
       "      <td>INVERSIONES</td>\n",
       "      <td>0.08</td>\n",
       "      <td>9.32</td>\n",
       "      <td>...</td>\n",
       "      <td>18</td>\n",
       "      <td>CASADO</td>\n",
       "      <td>ACTIVO</td>\n",
       "      <td>3950.0</td>\n",
       "      <td>M</td>\n",
       "      <td>1663.0</td>\n",
       "      <td>UNIVERSITARIO_COMPLETO</td>\n",
       "      <td>Blue</td>\n",
       "      <td>82.0</td>\n",
       "      <td>3.0</td>\n",
       "    </tr>\n",
       "    <tr>\n",
       "      <th>2</th>\n",
       "      <td>708513258</td>\n",
       "      <td>23</td>\n",
       "      <td>1700</td>\n",
       "      <td>2</td>\n",
       "      <td>2.0</td>\n",
       "      <td>HIPOTECA</td>\n",
       "      <td>45000</td>\n",
       "      <td>SALUD</td>\n",
       "      <td>0.04</td>\n",
       "      <td>14.72</td>\n",
       "      <td>...</td>\n",
       "      <td>29</td>\n",
       "      <td>CASADO</td>\n",
       "      <td>ACTIVO</td>\n",
       "      <td>3078.0</td>\n",
       "      <td>M</td>\n",
       "      <td>4323.0</td>\n",
       "      <td>UNIVERSITARIO_INCOMPLETO</td>\n",
       "      <td>Blue</td>\n",
       "      <td>58.0</td>\n",
       "      <td>1.0</td>\n",
       "    </tr>\n",
       "    <tr>\n",
       "      <th>3</th>\n",
       "      <td>708514512</td>\n",
       "      <td>25</td>\n",
       "      <td>7200</td>\n",
       "      <td>4</td>\n",
       "      <td>0.0</td>\n",
       "      <td>ALQUILER</td>\n",
       "      <td>71604</td>\n",
       "      <td>PAGO_DEUDAS</td>\n",
       "      <td>0.10</td>\n",
       "      <td>10.95</td>\n",
       "      <td>...</td>\n",
       "      <td>29</td>\n",
       "      <td>CASADO</td>\n",
       "      <td>ACTIVO</td>\n",
       "      <td>4314.0</td>\n",
       "      <td>F</td>\n",
       "      <td>3809.0</td>\n",
       "      <td>UNIVERSITARIO_INCOMPLETO</td>\n",
       "      <td>Blue</td>\n",
       "      <td>81.0</td>\n",
       "      <td>2.0</td>\n",
       "    </tr>\n",
       "    <tr>\n",
       "      <th>4</th>\n",
       "      <td>708515472</td>\n",
       "      <td>26</td>\n",
       "      <td>5000</td>\n",
       "      <td>3</td>\n",
       "      <td>5.0</td>\n",
       "      <td>HIPOTECA</td>\n",
       "      <td>52000</td>\n",
       "      <td>PAGO_DEUDAS</td>\n",
       "      <td>0.10</td>\n",
       "      <td>10.59</td>\n",
       "      <td>...</td>\n",
       "      <td>36</td>\n",
       "      <td>CASADO</td>\n",
       "      <td>ACTIVO</td>\n",
       "      <td>4216.0</td>\n",
       "      <td>F</td>\n",
       "      <td>4712.0</td>\n",
       "      <td>SECUNDARIO_COMPLETO</td>\n",
       "      <td>Blue</td>\n",
       "      <td>82.0</td>\n",
       "      <td>1.0</td>\n",
       "    </tr>\n",
       "  </tbody>\n",
       "</table>\n",
       "<p>5 rows × 21 columns</p>\n",
       "</div>"
      ],
      "text/plain": [
       "   id_cliente  edad  importe_solicitado  duracion_credito  \\\n",
       "0   708510993    22                4000                 4   \n",
       "1   708512051    25               10000                 2   \n",
       "2   708513258    23                1700                 2   \n",
       "3   708514512    25                7200                 4   \n",
       "4   708515472    26                5000                 3   \n",
       "\n",
       "   antiguedad_empleado situacion_vivienda  ingresos objetivo_credito  \\\n",
       "0                  3.0           HIPOTECA     62000         PERSONAL   \n",
       "1                  3.0           ALQUILER    120000      INVERSIONES   \n",
       "2                  2.0           HIPOTECA     45000            SALUD   \n",
       "3                  0.0           ALQUILER     71604      PAGO_DEUDAS   \n",
       "4                  5.0           HIPOTECA     52000      PAGO_DEUDAS   \n",
       "\n",
       "   pct_ingreso  tasa_interes  ...  antiguedad_cliente  estado_civil  \\\n",
       "0         0.06          6.76  ...                  47       SOLTERO   \n",
       "1         0.08          9.32  ...                  18        CASADO   \n",
       "2         0.04         14.72  ...                  29        CASADO   \n",
       "3         0.10         10.95  ...                  29        CASADO   \n",
       "4         0.10         10.59  ...                  36        CASADO   \n",
       "\n",
       "  estado_cliente gastos_ult_12m  genero limite_credito_tc  \\\n",
       "0         ACTIVO        15478.0       F            4905.0   \n",
       "1         ACTIVO         3950.0       M            1663.0   \n",
       "2         ACTIVO         3078.0       M            4323.0   \n",
       "3         ACTIVO         4314.0       F            3809.0   \n",
       "4         ACTIVO         4216.0       F            4712.0   \n",
       "\n",
       "            nivel_educativo nivel_tarjeta operaciones_ult_12m  \\\n",
       "0  UNIVERSITARIO_INCOMPLETO          Blue               109.0   \n",
       "1    UNIVERSITARIO_COMPLETO          Blue                82.0   \n",
       "2  UNIVERSITARIO_INCOMPLETO          Blue                58.0   \n",
       "3  UNIVERSITARIO_INCOMPLETO          Blue                81.0   \n",
       "4       SECUNDARIO_COMPLETO          Blue                82.0   \n",
       "\n",
       "   personas_a_cargo  \n",
       "0               1.0  \n",
       "1               3.0  \n",
       "2               1.0  \n",
       "3               2.0  \n",
       "4               1.0  \n",
       "\n",
       "[5 rows x 21 columns]"
      ]
     },
     "execution_count": 28,
     "metadata": {},
     "output_type": "execute_result"
    }
   ],
   "source": [
    "datos_nuevos = pd.read_csv('../../data/final/datos_nuevos(1).csv', sep=';')\n",
    "datos_nuevos.head(5)"
   ]
  },
  {
   "cell_type": "markdown",
   "metadata": {},
   "source": [
    "**Importante**: recordar que si se implementan operaciones de transformación sobre los datos será necesario (posiblemente) replicarlas sobre los datos nuevos para que ambos datasets sean compatibles."
   ]
  },
  {
   "cell_type": "markdown",
   "metadata": {},
   "source": [
    "#### Se tienen que aplicar las adaptaciones realizadas sobre los datos de entrenamiento"
   ]
  },
  {
   "cell_type": "code",
   "execution_count": 29,
   "metadata": {},
   "outputs": [
    {
     "data": {
      "text/html": [
       "<div>\n",
       "<style scoped>\n",
       "    .dataframe tbody tr th:only-of-type {\n",
       "        vertical-align: middle;\n",
       "    }\n",
       "\n",
       "    .dataframe tbody tr th {\n",
       "        vertical-align: top;\n",
       "    }\n",
       "\n",
       "    .dataframe thead th {\n",
       "        text-align: right;\n",
       "    }\n",
       "</style>\n",
       "<table border=\"1\" class=\"dataframe\">\n",
       "  <thead>\n",
       "    <tr style=\"text-align: right;\">\n",
       "      <th></th>\n",
       "      <th>operaciones_ult_12m</th>\n",
       "      <th>gastos_ult_12m</th>\n",
       "      <th>limite_credito_tc</th>\n",
       "      <th>antiguedad_cliente</th>\n",
       "      <th>tasa_interes</th>\n",
       "      <th>ingresos</th>\n",
       "      <th>pct_ingreso</th>\n",
       "      <th>antiguedad_empleado</th>\n",
       "      <th>edad</th>\n",
       "      <th>estado_civil</th>\n",
       "      <th>estado_credito</th>\n",
       "      <th>importe_solicitado</th>\n",
       "      <th>duracion_credito</th>\n",
       "      <th>situacion_vivienda</th>\n",
       "      <th>objetivo_credito</th>\n",
       "      <th>estado_cliente</th>\n",
       "      <th>genero</th>\n",
       "      <th>nivel_educativo</th>\n",
       "      <th>personas_a_cargo</th>\n",
       "    </tr>\n",
       "  </thead>\n",
       "  <tbody>\n",
       "    <tr>\n",
       "      <th>0</th>\n",
       "      <td>mayor_100</td>\n",
       "      <td>mayor_10k</td>\n",
       "      <td>3k_a_5k</td>\n",
       "      <td>2y_a_4y</td>\n",
       "      <td>hasta_7p</td>\n",
       "      <td>50k_a_100k</td>\n",
       "      <td>hasta_20</td>\n",
       "      <td>menor_10</td>\n",
       "      <td>menor_25</td>\n",
       "      <td>S</td>\n",
       "      <td>C</td>\n",
       "      <td>4000</td>\n",
       "      <td>4</td>\n",
       "      <td>HIPOTECA</td>\n",
       "      <td>PERSONAL</td>\n",
       "      <td>ACTIVO</td>\n",
       "      <td>F</td>\n",
       "      <td>UNIVERSITARIO_INCOMPLETO</td>\n",
       "      <td>1.0</td>\n",
       "    </tr>\n",
       "    <tr>\n",
       "      <th>1</th>\n",
       "      <td>75_a_100</td>\n",
       "      <td>2k_a_4k</td>\n",
       "      <td>menor_3k</td>\n",
       "      <td>menor_2y</td>\n",
       "      <td>7p_a_15p</td>\n",
       "      <td>mayor_100k</td>\n",
       "      <td>hasta_20</td>\n",
       "      <td>menor_10</td>\n",
       "      <td>25_a_30</td>\n",
       "      <td>C</td>\n",
       "      <td>C</td>\n",
       "      <td>10000</td>\n",
       "      <td>2</td>\n",
       "      <td>ALQUILER</td>\n",
       "      <td>INVERSIONES</td>\n",
       "      <td>ACTIVO</td>\n",
       "      <td>M</td>\n",
       "      <td>UNIVERSITARIO_COMPLETO</td>\n",
       "      <td>3.0</td>\n",
       "    </tr>\n",
       "    <tr>\n",
       "      <th>2</th>\n",
       "      <td>50_a_75</td>\n",
       "      <td>2k_a_4k</td>\n",
       "      <td>3k_a_5k</td>\n",
       "      <td>2y_a_4y</td>\n",
       "      <td>7p_a_15p</td>\n",
       "      <td>20k_a_50k</td>\n",
       "      <td>hasta_20</td>\n",
       "      <td>menor_10</td>\n",
       "      <td>menor_25</td>\n",
       "      <td>C</td>\n",
       "      <td>C</td>\n",
       "      <td>1700</td>\n",
       "      <td>2</td>\n",
       "      <td>HIPOTECA</td>\n",
       "      <td>SALUD</td>\n",
       "      <td>ACTIVO</td>\n",
       "      <td>M</td>\n",
       "      <td>UNIVERSITARIO_INCOMPLETO</td>\n",
       "      <td>1.0</td>\n",
       "    </tr>\n",
       "    <tr>\n",
       "      <th>3</th>\n",
       "      <td>75_a_100</td>\n",
       "      <td>4k_a_6k</td>\n",
       "      <td>3k_a_5k</td>\n",
       "      <td>2y_a_4y</td>\n",
       "      <td>7p_a_15p</td>\n",
       "      <td>50k_a_100k</td>\n",
       "      <td>hasta_20</td>\n",
       "      <td>menor_10</td>\n",
       "      <td>25_a_30</td>\n",
       "      <td>C</td>\n",
       "      <td>C</td>\n",
       "      <td>7200</td>\n",
       "      <td>4</td>\n",
       "      <td>ALQUILER</td>\n",
       "      <td>PAGO_DEUDAS</td>\n",
       "      <td>ACTIVO</td>\n",
       "      <td>F</td>\n",
       "      <td>UNIVERSITARIO_INCOMPLETO</td>\n",
       "      <td>2.0</td>\n",
       "    </tr>\n",
       "    <tr>\n",
       "      <th>4</th>\n",
       "      <td>75_a_100</td>\n",
       "      <td>4k_a_6k</td>\n",
       "      <td>3k_a_5k</td>\n",
       "      <td>2y_a_4y</td>\n",
       "      <td>7p_a_15p</td>\n",
       "      <td>50k_a_100k</td>\n",
       "      <td>hasta_20</td>\n",
       "      <td>5_a_10</td>\n",
       "      <td>25_a_30</td>\n",
       "      <td>C</td>\n",
       "      <td>C</td>\n",
       "      <td>5000</td>\n",
       "      <td>3</td>\n",
       "      <td>HIPOTECA</td>\n",
       "      <td>PAGO_DEUDAS</td>\n",
       "      <td>ACTIVO</td>\n",
       "      <td>F</td>\n",
       "      <td>SECUNDARIO_COMPLETO</td>\n",
       "      <td>1.0</td>\n",
       "    </tr>\n",
       "  </tbody>\n",
       "</table>\n",
       "</div>"
      ],
      "text/plain": [
       "  operaciones_ult_12m gastos_ult_12m limite_credito_tc antiguedad_cliente  \\\n",
       "0           mayor_100      mayor_10k           3k_a_5k            2y_a_4y   \n",
       "1            75_a_100        2k_a_4k          menor_3k           menor_2y   \n",
       "2             50_a_75        2k_a_4k           3k_a_5k            2y_a_4y   \n",
       "3            75_a_100        4k_a_6k           3k_a_5k            2y_a_4y   \n",
       "4            75_a_100        4k_a_6k           3k_a_5k            2y_a_4y   \n",
       "\n",
       "  tasa_interes    ingresos pct_ingreso antiguedad_empleado      edad  \\\n",
       "0     hasta_7p  50k_a_100k    hasta_20            menor_10  menor_25   \n",
       "1     7p_a_15p  mayor_100k    hasta_20            menor_10   25_a_30   \n",
       "2     7p_a_15p   20k_a_50k    hasta_20            menor_10  menor_25   \n",
       "3     7p_a_15p  50k_a_100k    hasta_20            menor_10   25_a_30   \n",
       "4     7p_a_15p  50k_a_100k    hasta_20              5_a_10   25_a_30   \n",
       "\n",
       "  estado_civil estado_credito  importe_solicitado  duracion_credito  \\\n",
       "0            S              C                4000                 4   \n",
       "1            C              C               10000                 2   \n",
       "2            C              C                1700                 2   \n",
       "3            C              C                7200                 4   \n",
       "4            C              C                5000                 3   \n",
       "\n",
       "  situacion_vivienda objetivo_credito estado_cliente genero  \\\n",
       "0           HIPOTECA         PERSONAL         ACTIVO      F   \n",
       "1           ALQUILER      INVERSIONES         ACTIVO      M   \n",
       "2           HIPOTECA            SALUD         ACTIVO      M   \n",
       "3           ALQUILER      PAGO_DEUDAS         ACTIVO      F   \n",
       "4           HIPOTECA      PAGO_DEUDAS         ACTIVO      F   \n",
       "\n",
       "            nivel_educativo  personas_a_cargo  \n",
       "0  UNIVERSITARIO_INCOMPLETO               1.0  \n",
       "1    UNIVERSITARIO_COMPLETO               3.0  \n",
       "2  UNIVERSITARIO_INCOMPLETO               1.0  \n",
       "3  UNIVERSITARIO_INCOMPLETO               2.0  \n",
       "4       SECUNDARIO_COMPLETO               1.0  "
      ]
     },
     "execution_count": 29,
     "metadata": {},
     "output_type": "execute_result"
    }
   ],
   "source": [
    "# Columna: estado_civil\n",
    "cambios_estado_civil = {\n",
    "    'CASADO' : 'C',\n",
    "    'SOLTERO' : 'S',\n",
    "    'DESCONOCIDO' : 'N',\n",
    "    'DIVORCIADO' : 'D',\n",
    "}\n",
    "\n",
    "estado_civil_N = datos_nuevos.loc[:, ('estado_civil')].map(cambios_estado_civil).rename('estado_civil')\n",
    "\n",
    "# Columna: estado_credito\n",
    "cambios_estado_credito = {\n",
    "    0: 'C',\n",
    "    1 : 'P',\n",
    "}\n",
    "\n",
    "estado_credito_N = datos_nuevos.loc[:, ('estado_credito')].map(cambios_estado_credito).rename('estado_credito')\n",
    "\n",
    "# df_final = pd.concat([estado_civil_N, estado_credito_N, df_integrado], axis=1)\n",
    "# df_final.head()\n",
    "\n",
    "# Antiguedad del empleado\n",
    "\n",
    "etiquetas_a_e = ['menor_10', '5_a_10', 'mayor_10']\n",
    "rangos_a_e = [0, 4, 10, 50]\n",
    "valor_para_nan = 'NA'\n",
    "antiguedad_empleados_N = pd.cut(datos_nuevos['antiguedad_empleado'], \n",
    "                                bins=rangos_a_e, \n",
    "                                labels=etiquetas_a_e,\n",
    "                                right=False).cat.add_categories(valor_para_nan).fillna(valor_para_nan)\n",
    "\n",
    "# antiguedad_empleados_N.value_counts()\n",
    "\n",
    "# edad\n",
    "\n",
    "etiquetas_e = ['menor_25', '25_a_30']\n",
    "rangos_e = [0, 24, 50]\n",
    "edad_N = pd.cut(datos_nuevos['edad'], \n",
    "                                bins=rangos_e, \n",
    "                                labels=etiquetas_e)\n",
    "\n",
    "# edad_N.value_counts()\n",
    "\n",
    "# pct_ingreso\n",
    "\n",
    "etiquetas_p_i = ['hasta_20', '20_a_40', '40_a_60', 'mayor_60']\n",
    "rangos_p_i = [0, 0.19, 0.39, 0.60, 0.99]\n",
    "pct_ingreso_N = pd.cut(datos_nuevos['pct_ingreso'], \n",
    "                                bins=rangos_p_i, \n",
    "                                labels=etiquetas_p_i)\n",
    "\n",
    "# pct_ingreso_N.value_counts()\n",
    "\n",
    "# ingresos\n",
    "\n",
    "etiquetas_i = ['hasta_20k', '20k_a_50k', '50k_a_100k', 'mayor_100k']\n",
    "rangos_i = [0, 19999, 49999, 99999, 999999]\n",
    "ingresos_N = pd.cut(datos_nuevos['ingresos'], \n",
    "                                bins=rangos_i, \n",
    "                                labels=etiquetas_i)\n",
    "\n",
    "# ingresos_N.value_counts()\n",
    "\n",
    "# tasa_interes\n",
    "\n",
    "etiquetas_t_i = ['hasta_7p', '7p_a_15p', '15p_a_20p', 'mayor_20p']\n",
    "rangos_t_i = [0, 6.99, 14.99, 19.99, 100]\n",
    "tasa_interes_N = pd.cut(datos_nuevos['tasa_interes'], \n",
    "                                bins=rangos_t_i, \n",
    "                                labels=etiquetas_t_i)\n",
    "\n",
    "# tasa_interes_N.value_counts()\n",
    "\n",
    "# antiguedad_cliente\n",
    "\n",
    "etiquetas_a_c = ['menor_2y', '2y_a_4y', 'mayor_4y']\n",
    "rangos_a_c = [0, 24, 48, 100]\n",
    "antiguedad_cliente_N = pd.cut(datos_nuevos['antiguedad_cliente'], \n",
    "                                bins=rangos_a_c, \n",
    "                                labels=etiquetas_a_c)\n",
    "\n",
    "# antiguedad_cliente_N.value_counts()\n",
    "\n",
    "# limite_credito_tc\n",
    "\n",
    "etiquetas_l_tc = ['menor_3k', '3k_a_5k', '5k_a_10k', 'mayor_10k']\n",
    "rangos_l_tc = [0, 2999, 4999, 9999, 100000]\n",
    "limite_credito_tc_N = pd.cut(datos_nuevos['limite_credito_tc'], \n",
    "                                bins=rangos_l_tc, \n",
    "                                labels=etiquetas_l_tc)\n",
    "\n",
    "# limite_credito_tc_N.value_counts()\n",
    "\n",
    "# gastos_ult_12m\n",
    "\n",
    "etiquetas_g_u12 = ['menor_1k', '2k_a_4k', '4k_a_6k', '6k_a_8k', '8k_a_10k', 'mayor_10k']\n",
    "rangos_g_u12 = [0, 999, 3999, 5999, 7999, 9999, 100000]\n",
    "gastos_ult_12m_N = pd.cut(datos_nuevos['gastos_ult_12m'], \n",
    "                                bins=rangos_g_u12, \n",
    "                                labels=etiquetas_g_u12)\n",
    "\n",
    "# gastos_ult_12m_N.value_counts()\n",
    "\n",
    "# operaciones_ult_12m\n",
    "\n",
    "etiquetas_o_u12 = ['menor_15', '15_a_30', '30_a_50', '50_a_75', '75_a_100', 'mayor_100']\n",
    "rangos_o_u12 = [0, 14, 29, 49, 74, 99, 1000]\n",
    "operaciones_ult_12m_N = pd.cut(datos_nuevos['operaciones_ult_12m'], \n",
    "                                bins=rangos_o_u12, \n",
    "                                labels=etiquetas_o_u12)\n",
    "\n",
    "# operaciones_ult_12m_N.value_counts()\n",
    "\n",
    "col_eliminar_final = [\n",
    "              'edad',\n",
    "              'antiguedad_empleado',\n",
    "              'antiguedad_cliente', \n",
    "              'ingresos',\n",
    "              'pct_ingreso', \n",
    "              'tasa_interes',\n",
    "              'gastos_ult_12m', \n",
    "              'limite_credito_tc', \n",
    "              'operaciones_ult_12m',\n",
    "              'nivel_tarjeta',\n",
    "              'estado_civil',\n",
    "              'estado_credito',\n",
    "              'id_cliente']\n",
    "\n",
    "datos_nuevos.drop(col_eliminar_final, inplace=True, axis=1)\n",
    "\n",
    "\n",
    "df_nuevo = pd.concat([operaciones_ult_12m_N, gastos_ult_12m_N, limite_credito_tc_N, antiguedad_cliente_N, tasa_interes_N, ingresos_N, pct_ingreso_N, antiguedad_empleados_N, edad_N, estado_civil_N, estado_credito_N, datos_nuevos], axis=1)\n",
    "df_nuevo.head(5)"
   ]
  },
  {
   "cell_type": "code",
   "execution_count": 30,
   "metadata": {},
   "outputs": [
    {
     "name": "stdout",
     "output_type": "stream",
     "text": [
      "<class 'pandas.core.frame.DataFrame'>\n",
      "RangeIndex: 112 entries, 0 to 111\n",
      "Data columns (total 65 columns):\n",
      " #   Column                                    Non-Null Count  Dtype  \n",
      "---  ------                                    --------------  -----  \n",
      " 0   importe_solicitado                        112 non-null    int64  \n",
      " 1   duracion_credito                          112 non-null    int64  \n",
      " 2   personas_a_cargo                          112 non-null    float64\n",
      " 3   operaciones_ult_12m_menor_15              112 non-null    bool   \n",
      " 4   operaciones_ult_12m_15_a_30               112 non-null    bool   \n",
      " 5   operaciones_ult_12m_30_a_50               112 non-null    bool   \n",
      " 6   operaciones_ult_12m_50_a_75               112 non-null    bool   \n",
      " 7   operaciones_ult_12m_75_a_100              112 non-null    bool   \n",
      " 8   operaciones_ult_12m_mayor_100             112 non-null    bool   \n",
      " 9   gastos_ult_12m_menor_1k                   112 non-null    bool   \n",
      " 10  gastos_ult_12m_2k_a_4k                    112 non-null    bool   \n",
      " 11  gastos_ult_12m_4k_a_6k                    112 non-null    bool   \n",
      " 12  gastos_ult_12m_6k_a_8k                    112 non-null    bool   \n",
      " 13  gastos_ult_12m_8k_a_10k                   112 non-null    bool   \n",
      " 14  gastos_ult_12m_mayor_10k                  112 non-null    bool   \n",
      " 15  limite_credito_tc_menor_3k                112 non-null    bool   \n",
      " 16  limite_credito_tc_3k_a_5k                 112 non-null    bool   \n",
      " 17  limite_credito_tc_5k_a_10k                112 non-null    bool   \n",
      " 18  limite_credito_tc_mayor_10k               112 non-null    bool   \n",
      " 19  antiguedad_cliente_menor_2y               112 non-null    bool   \n",
      " 20  antiguedad_cliente_2y_a_4y                112 non-null    bool   \n",
      " 21  antiguedad_cliente_mayor_4y               112 non-null    bool   \n",
      " 22  tasa_interes_hasta_7p                     112 non-null    bool   \n",
      " 23  tasa_interes_7p_a_15p                     112 non-null    bool   \n",
      " 24  tasa_interes_15p_a_20p                    112 non-null    bool   \n",
      " 25  tasa_interes_mayor_20p                    112 non-null    bool   \n",
      " 26  ingresos_hasta_20k                        112 non-null    bool   \n",
      " 27  ingresos_20k_a_50k                        112 non-null    bool   \n",
      " 28  ingresos_50k_a_100k                       112 non-null    bool   \n",
      " 29  ingresos_mayor_100k                       112 non-null    bool   \n",
      " 30  pct_ingreso_hasta_20                      112 non-null    bool   \n",
      " 31  pct_ingreso_20_a_40                       112 non-null    bool   \n",
      " 32  pct_ingreso_40_a_60                       112 non-null    bool   \n",
      " 33  pct_ingreso_mayor_60                      112 non-null    bool   \n",
      " 34  antiguedad_empleado_menor_10              112 non-null    bool   \n",
      " 35  antiguedad_empleado_5_a_10                112 non-null    bool   \n",
      " 36  antiguedad_empleado_mayor_10              112 non-null    bool   \n",
      " 37  antiguedad_empleado_NA                    112 non-null    bool   \n",
      " 38  edad_menor_25                             112 non-null    bool   \n",
      " 39  edad_25_a_30                              112 non-null    bool   \n",
      " 40  estado_civil_C                            112 non-null    bool   \n",
      " 41  estado_civil_D                            112 non-null    bool   \n",
      " 42  estado_civil_N                            112 non-null    bool   \n",
      " 43  estado_civil_S                            112 non-null    bool   \n",
      " 44  estado_credito_C                          112 non-null    bool   \n",
      " 45  estado_credito_P                          112 non-null    bool   \n",
      " 46  situacion_vivienda_ALQUILER               112 non-null    bool   \n",
      " 47  situacion_vivienda_HIPOTECA               112 non-null    bool   \n",
      " 48  situacion_vivienda_PROPIA                 112 non-null    bool   \n",
      " 49  objetivo_credito_EDUCACIÓN                112 non-null    bool   \n",
      " 50  objetivo_credito_INVERSIONES              112 non-null    bool   \n",
      " 51  objetivo_credito_MEJORAS_HOGAR            112 non-null    bool   \n",
      " 52  objetivo_credito_PAGO_DEUDAS              112 non-null    bool   \n",
      " 53  objetivo_credito_PERSONAL                 112 non-null    bool   \n",
      " 54  objetivo_credito_SALUD                    112 non-null    bool   \n",
      " 55  estado_cliente_ACTIVO                     112 non-null    bool   \n",
      " 56  estado_cliente_PASIVO                     112 non-null    bool   \n",
      " 57  genero_F                                  112 non-null    bool   \n",
      " 58  genero_M                                  112 non-null    bool   \n",
      " 59  nivel_educativo_DESCONOCIDO               112 non-null    bool   \n",
      " 60  nivel_educativo_POSGRADO_COMPLETO         112 non-null    bool   \n",
      " 61  nivel_educativo_POSGRADO_INCOMPLETO       112 non-null    bool   \n",
      " 62  nivel_educativo_SECUNDARIO_COMPLETO       112 non-null    bool   \n",
      " 63  nivel_educativo_UNIVERSITARIO_COMPLETO    112 non-null    bool   \n",
      " 64  nivel_educativo_UNIVERSITARIO_INCOMPLETO  112 non-null    bool   \n",
      "dtypes: bool(62), float64(1), int64(2)\n",
      "memory usage: 9.5 KB\n"
     ]
    }
   ],
   "source": [
    "nuevos_codif = pd.get_dummies(df_nuevo)\n",
    "nuevos_codif.info()"
   ]
  },
  {
   "cell_type": "code",
   "execution_count": 33,
   "metadata": {},
   "outputs": [
    {
     "data": {
      "text/plain": [
       "(112, 65)"
      ]
     },
     "execution_count": 33,
     "metadata": {},
     "output_type": "execute_result"
    }
   ],
   "source": [
    "nuevos_codif.shape"
   ]
  },
  {
   "cell_type": "code",
   "execution_count": 38,
   "metadata": {},
   "outputs": [
    {
     "data": {
      "text/plain": [
       "(10101, 65)"
      ]
     },
     "execution_count": 38,
     "metadata": {},
     "output_type": "execute_result"
    }
   ],
   "source": [
    "data.shape"
   ]
  },
  {
   "cell_type": "code",
   "execution_count": 35,
   "metadata": {},
   "outputs": [
    {
     "data": {
      "text/plain": [
       "{'antiguedad_empleado_menor_5',\n",
       " 'estado_civil_N_C',\n",
       " 'estado_civil_N_D',\n",
       " 'estado_civil_N_N',\n",
       " 'estado_civil_N_S',\n",
       " 'estado_credito_N_C',\n",
       " 'estado_credito_N_P',\n",
       " 'situacion_vivienda_OTROS'}"
      ]
     },
     "metadata": {},
     "output_type": "display_data"
    },
    {
     "name": "stdout",
     "output_type": "stream",
     "text": [
      "Datos nuevos: 73\n",
      "Datos entrenamiento: 65\n",
      "set()\n"
     ]
    }
   ],
   "source": [
    "# Dado que puede haber diferencias con el set de entrenamiento se emparejan\n",
    "\n",
    "columnas_faltantes = set(data.columns) - set(nuevos_codif.columns)\n",
    "display(columnas_faltantes)\n",
    "for columna in columnas_faltantes:\n",
    "    nuevos_codif[columna] = 0 # Se agregan las columnas faltantes con valor 0\n",
    "\n",
    "print('Datos nuevos: ' + str(len(nuevos_codif.columns)))\n",
    "print('Datos entrenamiento: ' + str(len(data.columns)))\n",
    "print(set(data.columns) - set(nuevos_codif.columns))"
   ]
  },
  {
   "cell_type": "code",
   "execution_count": 39,
   "metadata": {},
   "outputs": [
    {
     "data": {
      "text/plain": [
       "Index(['importe_solicitado', 'duracion_credito', 'personas_a_cargo',\n",
       "       'operaciones_ult_12m_15_a_30', 'operaciones_ult_12m_30_a_50',\n",
       "       'operaciones_ult_12m_50_a_75', 'operaciones_ult_12m_75_a_100',\n",
       "       'operaciones_ult_12m_mayor_100', 'operaciones_ult_12m_menor_15',\n",
       "       'gastos_ult_12m_2k_a_4k', 'gastos_ult_12m_4k_a_6k',\n",
       "       'gastos_ult_12m_6k_a_8k', 'gastos_ult_12m_8k_a_10k',\n",
       "       'gastos_ult_12m_mayor_10k', 'gastos_ult_12m_menor_1k',\n",
       "       'limite_credito_tc_3k_a_5k', 'limite_credito_tc_5k_a_10k',\n",
       "       'limite_credito_tc_mayor_10k', 'limite_credito_tc_menor_3k',\n",
       "       'antiguedad_cliente_2y_a_4y', 'antiguedad_cliente_mayor_4y',\n",
       "       'antiguedad_cliente_menor_2y', 'tasa_interes_15p_a_20p',\n",
       "       'tasa_interes_7p_a_15p', 'tasa_interes_hasta_7p',\n",
       "       'tasa_interes_mayor_20p', 'ingresos_20k_a_50k', 'ingresos_50k_a_100k',\n",
       "       'ingresos_hasta_20k', 'ingresos_mayor_100k', 'pct_ingreso_20_a_40',\n",
       "       'pct_ingreso_40_a_60', 'pct_ingreso_hasta_20', 'pct_ingreso_mayor_60',\n",
       "       'antiguedad_empleado_5_a_10', 'antiguedad_empleado_mayor_10',\n",
       "       'antiguedad_empleado_menor_5', 'edad_25_a_30', 'edad_menor_25',\n",
       "       'situacion_vivienda_ALQUILER', 'situacion_vivienda_HIPOTECA',\n",
       "       'situacion_vivienda_OTROS', 'situacion_vivienda_PROPIA',\n",
       "       'objetivo_credito_EDUCACIÓN', 'objetivo_credito_INVERSIONES',\n",
       "       'objetivo_credito_MEJORAS_HOGAR', 'objetivo_credito_PAGO_DEUDAS',\n",
       "       'objetivo_credito_PERSONAL', 'objetivo_credito_SALUD',\n",
       "       'estado_credito_N_C', 'estado_credito_N_P', 'estado_civil_N_C',\n",
       "       'estado_civil_N_D', 'estado_civil_N_N', 'estado_civil_N_S',\n",
       "       'estado_cliente_ACTIVO', 'estado_cliente_PASIVO', 'genero_F',\n",
       "       'genero_M', 'nivel_educativo_DESCONOCIDO',\n",
       "       'nivel_educativo_POSGRADO_COMPLETO',\n",
       "       'nivel_educativo_POSGRADO_INCOMPLETO',\n",
       "       'nivel_educativo_SECUNDARIO_COMPLETO',\n",
       "       'nivel_educativo_UNIVERSITARIO_COMPLETO',\n",
       "       'nivel_educativo_UNIVERSITARIO_INCOMPLETO'],\n",
       "      dtype='object')"
      ]
     },
     "execution_count": 39,
     "metadata": {},
     "output_type": "execute_result"
    }
   ],
   "source": [
    "nuevos_codif = nuevos_codif[data.columns]\n",
    "nuevos_codif.columns"
   ]
  },
  {
   "cell_type": "markdown",
   "metadata": {},
   "source": [
    "Realizamos la predicción con el mejor modelo entrenado y con los nuevos datos"
   ]
  },
  {
   "cell_type": "code",
   "execution_count": 62,
   "metadata": {},
   "outputs": [
    {
     "name": "stderr",
     "output_type": "stream",
     "text": [
      "2023/12/01 18:41:23 WARNING mlflow.utils.autologging_utils: MLflow autologging encountered a warning: \"c:\\Users\\usuario\\anaconda3\\envs\\VIU-13MBID\\Lib\\site-packages\\mlflow\\data\\pandas_dataset.py:116: UserWarning: Hint: Inferred schema contains integer column(s). Integer columns in Python cannot represent missing values. If your input data contains missing values at inference time, it will be encoded as floats and will cause a schema enforcement error. The best way to avoid this problem is to infer the model schema based on a realistic data sample (training dataset) that includes missing values. Alternatively, you can declare integer columns as doubles (float64) whenever these columns may have missing values. See `Handling Integers With Missing Values <https://www.mlflow.org/docs/latest/models.html#handling-integers-with-missing-values>`_ for more details.\"\n"
     ]
    }
   ],
   "source": [
    "# Se hace la predicción con los nuevos datos\n",
    "\n",
    "prediccion_nuevos = random_search_dtc.predict(nuevos_codif)\n",
    "\n",
    "prediccionDF = pd.DataFrame(prediccion_nuevos)"
   ]
  },
  {
   "cell_type": "code",
   "execution_count": 63,
   "metadata": {},
   "outputs": [
    {
     "data": {
      "text/plain": [
       "prediccion_mora\n",
       "N    87\n",
       "Y    25\n",
       "Name: count, dtype: int64"
      ]
     },
     "execution_count": 63,
     "metadata": {},
     "output_type": "execute_result"
    }
   ],
   "source": [
    "# Se agrega la nueva columna\n",
    "datos_nuevos['prediccion_mora'] = prediccionDF\n",
    "datos_nuevos['prediccion_mora'].value_counts()"
   ]
  }
 ],
 "metadata": {
  "kernelspec": {
   "display_name": "Python 3 (ipykernel)",
   "language": "python",
   "name": "python3"
  },
  "language_info": {
   "codemirror_mode": {
    "name": "ipython",
    "version": 3
   },
   "file_extension": ".py",
   "mimetype": "text/x-python",
   "name": "python",
   "nbconvert_exporter": "python",
   "pygments_lexer": "ipython3",
   "version": "3.11.5"
  }
 },
 "nbformat": 4,
 "nbformat_minor": 2
}
