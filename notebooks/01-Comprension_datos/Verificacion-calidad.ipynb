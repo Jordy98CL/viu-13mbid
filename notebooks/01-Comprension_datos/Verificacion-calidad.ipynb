{
 "cells": [
  {
   "cell_type": "markdown",
   "metadata": {},
   "source": [
    "## Máster en Big Data y Data Science\n",
    "\n",
    "### Metodologías de gestión y diseño de proyectos de big data\n",
    "\n",
    "#### AP1 - Verificación de la calidad de los datos\n",
    "#### Autor: Jordy Carlos Carrión Loján\n",
    "---\n",
    "\n",
    "En esta libreta se realiza una verificación de calidad de datos con base en los planteado en el Anexo SP4. \n",
    "\n",
    "---"
   ]
  },
  {
   "cell_type": "code",
   "execution_count": 1,
   "metadata": {},
   "outputs": [],
   "source": [
    "#Se importan las librerias a utilizar\n",
    "\n",
    "import pandas as pd"
   ]
  },
  {
   "cell_type": "markdown",
   "metadata": {},
   "source": [
    "----\n",
    "\n",
    "##### Lectura de los datasets"
   ]
  },
  {
   "cell_type": "code",
   "execution_count": 2,
   "metadata": {},
   "outputs": [
    {
     "data": {
      "text/html": [
       "<div>\n",
       "<style scoped>\n",
       "    .dataframe tbody tr th:only-of-type {\n",
       "        vertical-align: middle;\n",
       "    }\n",
       "\n",
       "    .dataframe tbody tr th {\n",
       "        vertical-align: top;\n",
       "    }\n",
       "\n",
       "    .dataframe thead th {\n",
       "        text-align: right;\n",
       "    }\n",
       "</style>\n",
       "<table border=\"1\" class=\"dataframe\">\n",
       "  <thead>\n",
       "    <tr style=\"text-align: right;\">\n",
       "      <th></th>\n",
       "      <th>id_cliente</th>\n",
       "      <th>edad</th>\n",
       "      <th>importe_solicitado</th>\n",
       "      <th>duracion_credito</th>\n",
       "      <th>antiguedad_empleado</th>\n",
       "      <th>situacion_vivienda</th>\n",
       "      <th>ingresos</th>\n",
       "      <th>objetivo_credito</th>\n",
       "      <th>pct_ingreso</th>\n",
       "      <th>tasa_interes</th>\n",
       "      <th>estado_credito</th>\n",
       "      <th>falta_pago</th>\n",
       "    </tr>\n",
       "  </thead>\n",
       "  <tbody>\n",
       "    <tr>\n",
       "      <th>0</th>\n",
       "      <td>713061558.0</td>\n",
       "      <td>22</td>\n",
       "      <td>35000</td>\n",
       "      <td>3</td>\n",
       "      <td>123.0</td>\n",
       "      <td>ALQUILER</td>\n",
       "      <td>59000</td>\n",
       "      <td>PERSONAL</td>\n",
       "      <td>0.59</td>\n",
       "      <td>16.02</td>\n",
       "      <td>1</td>\n",
       "      <td>Y</td>\n",
       "    </tr>\n",
       "  </tbody>\n",
       "</table>\n",
       "</div>"
      ],
      "text/plain": [
       "    id_cliente  edad  importe_solicitado  duracion_credito  \\\n",
       "0  713061558.0    22               35000                 3   \n",
       "\n",
       "   antiguedad_empleado situacion_vivienda  ingresos objetivo_credito  \\\n",
       "0                123.0           ALQUILER     59000         PERSONAL   \n",
       "\n",
       "   pct_ingreso  tasa_interes  estado_credito falta_pago  \n",
       "0         0.59         16.02               1          Y  "
      ]
     },
     "metadata": {},
     "output_type": "display_data"
    },
    {
     "data": {
      "text/html": [
       "<div>\n",
       "<style scoped>\n",
       "    .dataframe tbody tr th:only-of-type {\n",
       "        vertical-align: middle;\n",
       "    }\n",
       "\n",
       "    .dataframe tbody tr th {\n",
       "        vertical-align: top;\n",
       "    }\n",
       "\n",
       "    .dataframe thead th {\n",
       "        text-align: right;\n",
       "    }\n",
       "</style>\n",
       "<table border=\"1\" class=\"dataframe\">\n",
       "  <thead>\n",
       "    <tr style=\"text-align: right;\">\n",
       "      <th></th>\n",
       "      <th>id_cliente</th>\n",
       "      <th>antiguedad_cliente</th>\n",
       "      <th>estado_civil</th>\n",
       "      <th>estado_cliente</th>\n",
       "      <th>gastos_ult_12m</th>\n",
       "      <th>genero</th>\n",
       "      <th>limite_credito_tc</th>\n",
       "      <th>nivel_educativo</th>\n",
       "      <th>nivel_tarjeta</th>\n",
       "      <th>operaciones_ult_12m</th>\n",
       "      <th>personas_a_cargo</th>\n",
       "    </tr>\n",
       "  </thead>\n",
       "  <tbody>\n",
       "    <tr>\n",
       "      <th>0</th>\n",
       "      <td>713061558.0</td>\n",
       "      <td>36.0</td>\n",
       "      <td>CASADO</td>\n",
       "      <td>ACTIVO</td>\n",
       "      <td>1088.0</td>\n",
       "      <td>M</td>\n",
       "      <td>4010.0</td>\n",
       "      <td>UNIVERSITARIO_COMPLETO</td>\n",
       "      <td>Blue</td>\n",
       "      <td>24.0</td>\n",
       "      <td>2.0</td>\n",
       "    </tr>\n",
       "  </tbody>\n",
       "</table>\n",
       "</div>"
      ],
      "text/plain": [
       "    id_cliente  antiguedad_cliente estado_civil estado_cliente  \\\n",
       "0  713061558.0                36.0       CASADO         ACTIVO   \n",
       "\n",
       "   gastos_ult_12m genero  limite_credito_tc         nivel_educativo  \\\n",
       "0          1088.0      M             4010.0  UNIVERSITARIO_COMPLETO   \n",
       "\n",
       "  nivel_tarjeta  operaciones_ult_12m  personas_a_cargo  \n",
       "0          Blue                 24.0               2.0  "
      ]
     },
     "metadata": {},
     "output_type": "display_data"
    }
   ],
   "source": [
    "df_creditos = pd.read_csv(\"../../data/processed/datos_creditos_cal.csv\", sep=\";\")\n",
    "display(df_creditos.head(1))\n",
    "\n",
    "df_tarjetas = pd.read_csv(\"../../data/processed/datos_tarjetas_cal.csv\", sep=\";\")\n",
    "display(df_tarjetas.head(1))"
   ]
  },
  {
   "cell_type": "markdown",
   "metadata": {},
   "source": [
    "---\n",
    "#### Verificación de calidad de datos\n",
    "\n",
    "**Análisis a realizar**\n",
    "\n",
    "1. Evaluación de valores nulos (filas y columnas)\n",
    "2. Evaluación de formato válido\n",
    "3. Valores ajustados en rangos (ver anexos)\n",
    "4. Claves únicas\n",
    "5. Integridad referencial\n",
    "6. Cumplimiento de reglas en valores"
   ]
  },
  {
   "cell_type": "code",
   "execution_count": 3,
   "metadata": {},
   "outputs": [
    {
     "name": "stdout",
     "output_type": "stream",
     "text": [
      "Cantidad de filas de df_creditos: 10127\n",
      "Cantidad de filas de df_tarjetas: 10127\n"
     ]
    }
   ],
   "source": [
    "# Establecimiento de los umbrales de aceptación\n",
    "\n",
    "FORMATEO_VALORES = 0.1\n",
    "RANGOS_VALORES = 0.0\n",
    "INTEGRIDAD_REF = 0.1\n",
    "REGLAS_VALORES = 0.1\n",
    "\n",
    "# Valores globales\n",
    "\n",
    "cantidad_filas_creditos = df_creditos.shape[0]\n",
    "cantidad_filas_tarjetas = df_tarjetas.shape[0]\n",
    "print(\"Cantidad de filas de df_creditos:\", cantidad_filas_creditos)\n",
    "print(\"Cantidad de filas de df_tarjetas:\", cantidad_filas_tarjetas)"
   ]
  },
  {
   "cell_type": "markdown",
   "metadata": {},
   "source": [
    "## Dimensión: completitud\n",
    "\n",
    "### (1a) Filas"
   ]
  },
  {
   "cell_type": "code",
   "execution_count": 4,
   "metadata": {},
   "outputs": [
    {
     "name": "stdout",
     "output_type": "stream",
     "text": [
      "Cantidad de filas que tienen valores nulos por atributo:\n",
      "id_cliente               0\n",
      "edad                     0\n",
      "importe_solicitado       0\n",
      "duracion_credito         0\n",
      "antiguedad_empleado    337\n",
      "situacion_vivienda       0\n",
      "ingresos                 0\n",
      "objetivo_credito         0\n",
      "pct_ingreso              0\n",
      "tasa_interes           912\n",
      "estado_credito           0\n",
      "falta_pago               0\n",
      "dtype: int64\n"
     ]
    }
   ],
   "source": [
    "# Se obtienen las cantidades de valores nulos por columna\n",
    "\n",
    "nulos_x_columna = df_creditos.isna().sum()\n",
    "\n",
    "print(f\"Cantidad de filas que tienen valores nulos por atributo:\\n{nulos_x_columna}\")"
   ]
  },
  {
   "cell_type": "markdown",
   "metadata": {},
   "source": [
    "Este comando cuenta la cantidad total de valores nulos en el DataFrame df_creditos"
   ]
  },
  {
   "cell_type": "code",
   "execution_count": 5,
   "metadata": {},
   "outputs": [
    {
     "data": {
      "text/plain": [
       "1249"
      ]
     },
     "execution_count": 5,
     "metadata": {},
     "output_type": "execute_result"
    }
   ],
   "source": [
    "df_creditos.isnull().sum(axis=1).sum()\n"
   ]
  },
  {
   "cell_type": "markdown",
   "metadata": {},
   "source": [
    "Este otro comando cuenta la cantidad de filas que contienen al menos un valor nulo en el DataFrame."
   ]
  },
  {
   "cell_type": "code",
   "execution_count": 6,
   "metadata": {},
   "outputs": [
    {
     "data": {
      "text/plain": [
       "1225"
      ]
     },
     "execution_count": 6,
     "metadata": {},
     "output_type": "execute_result"
    }
   ],
   "source": [
    "df_creditos.isnull().any(axis=1).sum()"
   ]
  },
  {
   "cell_type": "code",
   "execution_count": 7,
   "metadata": {},
   "outputs": [
    {
     "name": "stdout",
     "output_type": "stream",
     "text": [
      "Filas que incumplen el umbral de nulos en columnas [completitud_f]:\n",
      "0 (0.0)%\n"
     ]
    }
   ],
   "source": [
    "# De cualquier manera se establece el cálculo a realizar\n",
    "\n",
    "cantidad_columnas = len(df_creditos.axes[1])\n",
    "\n",
    "df_creditos['completitud_fila'] = (df_creditos.isnull().sum(axis=1) / cantidad_columnas)\n",
    "\n",
    "problemas = df_creditos[df_creditos['completitud_fila'] >= 0.2]\n",
    "\n",
    "completitud_f = problemas.shape[0]\n",
    "\n",
    "print(f\"Filas que incumplen el umbral de nulos en columnas [completitud_f]:\")\n",
    "print(f\"{completitud_f} ({round((completitud_f  / cantidad_filas_creditos) * 100, 2)})%\")"
   ]
  },
  {
   "cell_type": "markdown",
   "metadata": {},
   "source": [
    "### (1b) Dataset"
   ]
  },
  {
   "cell_type": "code",
   "execution_count": 8,
   "metadata": {},
   "outputs": [
    {
     "name": "stdout",
     "output_type": "stream",
     "text": [
      "Filas que presentan nulos en el dataset [completitud_d]:\n",
      "1225 (12.1)%\n"
     ]
    }
   ],
   "source": [
    "completitud_d = df_creditos.isnull().any(axis=1).sum()\n",
    "\n",
    "print(f\"Filas que presentan nulos en el dataset [completitud_d]:\")\n",
    "print(f\"{completitud_d} ({round((completitud_d  / cantidad_filas_creditos) * 100, 2)})%\")"
   ]
  },
  {
   "cell_type": "markdown",
   "metadata": {},
   "source": [
    "----\n",
    "\n",
    "## Dimensión: exactitud\n",
    "\n",
    "### (2) Formato válido"
   ]
  },
  {
   "cell_type": "code",
   "execution_count": 9,
   "metadata": {},
   "outputs": [],
   "source": [
    "# No se encuentran atributos con formato específico"
   ]
  },
  {
   "cell_type": "markdown",
   "metadata": {},
   "source": [
    "----\n",
    "\n",
    "## Dimensión: exactitud\n",
    "\n",
    "### (3) Valores ajustados en dataset datos_creditos"
   ]
  },
  {
   "cell_type": "markdown",
   "metadata": {},
   "source": [
    "Atributo: **edad**"
   ]
  },
  {
   "cell_type": "code",
   "execution_count": 10,
   "metadata": {},
   "outputs": [
    {
     "data": {
      "text/plain": [
       "0"
      ]
     },
     "execution_count": 10,
     "metadata": {},
     "output_type": "execute_result"
    }
   ],
   "source": [
    "df_creditos['edad'].isnull().sum()"
   ]
  },
  {
   "cell_type": "code",
   "execution_count": 11,
   "metadata": {},
   "outputs": [
    {
     "name": "stdout",
     "output_type": "stream",
     "text": [
      "Distribución inicial del atributo: \n",
      "edad\n",
      "22     2228\n",
      "23     2190\n",
      "24     1926\n",
      "25     1646\n",
      "26     1328\n",
      "21      799\n",
      "20        6\n",
      "144       2\n",
      "123       2\n",
      "Name: count, dtype: int64\n",
      "\n",
      "No existen filas con valores nulos para este atributo.\n",
      "\n",
      "Se visualizan las filas con errores de rango:\n"
     ]
    },
    {
     "data": {
      "text/html": [
       "<div>\n",
       "<style scoped>\n",
       "    .dataframe tbody tr th:only-of-type {\n",
       "        vertical-align: middle;\n",
       "    }\n",
       "\n",
       "    .dataframe tbody tr th {\n",
       "        vertical-align: top;\n",
       "    }\n",
       "\n",
       "    .dataframe thead th {\n",
       "        text-align: right;\n",
       "    }\n",
       "</style>\n",
       "<table border=\"1\" class=\"dataframe\">\n",
       "  <thead>\n",
       "    <tr style=\"text-align: right;\">\n",
       "      <th></th>\n",
       "      <th>id_cliente</th>\n",
       "      <th>edad</th>\n",
       "      <th>importe_solicitado</th>\n",
       "      <th>duracion_credito</th>\n",
       "      <th>antiguedad_empleado</th>\n",
       "      <th>situacion_vivienda</th>\n",
       "      <th>ingresos</th>\n",
       "      <th>objetivo_credito</th>\n",
       "      <th>pct_ingreso</th>\n",
       "      <th>tasa_interes</th>\n",
       "      <th>estado_credito</th>\n",
       "      <th>falta_pago</th>\n",
       "      <th>completitud_fila</th>\n",
       "    </tr>\n",
       "  </thead>\n",
       "  <tbody>\n",
       "    <tr>\n",
       "      <th>81</th>\n",
       "      <td>715623483.0</td>\n",
       "      <td>144</td>\n",
       "      <td>4800</td>\n",
       "      <td>3</td>\n",
       "      <td>4.0</td>\n",
       "      <td>ALQUILER</td>\n",
       "      <td>250000</td>\n",
       "      <td>INVERSIONES</td>\n",
       "      <td>0.02</td>\n",
       "      <td>13.57</td>\n",
       "      <td>0</td>\n",
       "      <td>N</td>\n",
       "      <td>0.000000</td>\n",
       "    </tr>\n",
       "    <tr>\n",
       "      <th>183</th>\n",
       "      <td>815500983.0</td>\n",
       "      <td>144</td>\n",
       "      <td>6000</td>\n",
       "      <td>2</td>\n",
       "      <td>4.0</td>\n",
       "      <td>HIPOTECA</td>\n",
       "      <td>200000</td>\n",
       "      <td>EDUCACIÓN</td>\n",
       "      <td>0.03</td>\n",
       "      <td>11.86</td>\n",
       "      <td>0</td>\n",
       "      <td>N</td>\n",
       "      <td>0.000000</td>\n",
       "    </tr>\n",
       "    <tr>\n",
       "      <th>575</th>\n",
       "      <td>717956283.0</td>\n",
       "      <td>123</td>\n",
       "      <td>20400</td>\n",
       "      <td>3</td>\n",
       "      <td>2.0</td>\n",
       "      <td>ALQUILER</td>\n",
       "      <td>80004</td>\n",
       "      <td>EDUCACIÓN</td>\n",
       "      <td>0.25</td>\n",
       "      <td>10.25</td>\n",
       "      <td>0</td>\n",
       "      <td>N</td>\n",
       "      <td>0.000000</td>\n",
       "    </tr>\n",
       "    <tr>\n",
       "      <th>747</th>\n",
       "      <td>712881483.0</td>\n",
       "      <td>123</td>\n",
       "      <td>20000</td>\n",
       "      <td>4</td>\n",
       "      <td>7.0</td>\n",
       "      <td>ALQUILER</td>\n",
       "      <td>78000</td>\n",
       "      <td>INVERSIONES</td>\n",
       "      <td>0.26</td>\n",
       "      <td>NaN</td>\n",
       "      <td>0</td>\n",
       "      <td>N</td>\n",
       "      <td>0.083333</td>\n",
       "    </tr>\n",
       "  </tbody>\n",
       "</table>\n",
       "</div>"
      ],
      "text/plain": [
       "      id_cliente  edad  importe_solicitado  duracion_credito  \\\n",
       "81   715623483.0   144                4800                 3   \n",
       "183  815500983.0   144                6000                 2   \n",
       "575  717956283.0   123               20400                 3   \n",
       "747  712881483.0   123               20000                 4   \n",
       "\n",
       "     antiguedad_empleado situacion_vivienda  ingresos objetivo_credito  \\\n",
       "81                   4.0           ALQUILER    250000      INVERSIONES   \n",
       "183                  4.0           HIPOTECA    200000        EDUCACIÓN   \n",
       "575                  2.0           ALQUILER     80004        EDUCACIÓN   \n",
       "747                  7.0           ALQUILER     78000      INVERSIONES   \n",
       "\n",
       "     pct_ingreso  tasa_interes  estado_credito falta_pago  completitud_fila  \n",
       "81          0.02         13.57               0          N          0.000000  \n",
       "183         0.03         11.86               0          N          0.000000  \n",
       "575         0.25         10.25               0          N          0.000000  \n",
       "747         0.26           NaN               0          N          0.083333  "
      ]
     },
     "metadata": {},
     "output_type": "display_data"
    },
    {
     "name": "stdout",
     "output_type": "stream",
     "text": [
      "Cantidad detectada: 4\n"
     ]
    }
   ],
   "source": [
    "#Verificar que los valores de cada atributo se encuentren dentro de los listados anexos\n",
    "\n",
    "#Atributo: edad\n",
    "\n",
    "valores = pd.value_counts(df_creditos['edad']) #Conteo de ocurrencias por valor (not-null)\n",
    "print(f\"Distribución inicial del atributo: \\n{valores}\\n\")\n",
    "\n",
    "cantidad_nulos = len(df_creditos['edad']) - df_creditos['edad'].count() # Conteo de nulos\n",
    "\n",
    "if cantidad_nulos > 0:\n",
    "    print(f\"Cantidad de nulos en el atributo: {cantidad_nulos}\\n\") # Impresión de la cantidad de nulos\n",
    "else:\n",
    "    print(\"No existen filas con valores nulos para este atributo.\\n\")\n",
    "\n",
    "\n",
    "# Se identifica y cuenta a los valores que no cumplen la condición definida\n",
    "\n",
    "resultado = df_creditos[df_creditos['edad'] > 90]\n",
    "\n",
    "print(\"Se visualizan las filas con errores de rango:\")\n",
    "display(resultado) # Para visualizar las tuplas con valores nulos o erróneos\n",
    "\n",
    "print(f\"Cantidad detectada: {resultado.shape[0]}\")"
   ]
  },
  {
   "cell_type": "code",
   "execution_count": 12,
   "metadata": {},
   "outputs": [
    {
     "name": "stdout",
     "output_type": "stream",
     "text": [
      "Cantidad de filas con valores fuera de rango en atributo edad: 4\n",
      "Porcentaje de filas con errores de rango de valores (atributo edad): 0.04 %\n",
      "Evaluación: no cumplimiento\n"
     ]
    }
   ],
   "source": [
    "def calcular_rangos_valores_edad():\n",
    "    edad_valores_fuera_rango = resultado.shape[0] + cantidad_nulos\n",
    "    print(f\"Cantidad de filas con valores fuera de rango en atributo edad: {edad_valores_fuera_rango}\")\n",
    "    \n",
    "    indicador = (edad_valores_fuera_rango / cantidad_filas_creditos)\n",
    "    print(f\"Porcentaje de filas con errores de rango de valores (atributo edad): {round(indicador * 100, 2)} %\")\n",
    "\n",
    "    if (indicador > RANGOS_VALORES):\n",
    "        print('Evaluación: no cumplimiento')\n",
    "    else:\n",
    "        print('Evaluación: ok')\n",
    "\n",
    "calcular_rangos_valores_edad()"
   ]
  },
  {
   "cell_type": "markdown",
   "metadata": {},
   "source": [
    "Se procesa el atributo: **situacion_vivienda**\n"
   ]
  },
  {
   "cell_type": "code",
   "execution_count": 13,
   "metadata": {},
   "outputs": [
    {
     "name": "stdout",
     "output_type": "stream",
     "text": [
      "Distribución inicial del atributo: \n",
      "situacion_vivienda\n",
      "ALQUILER    6125\n",
      "HIPOTECA    3223\n",
      "PROPIA       741\n",
      "OTROS         38\n",
      "Name: count, dtype: int64\n",
      "\n",
      "No existen filas con valores nulos para este atributo.\n",
      "\n",
      "Se visualizan las filas con errores de rango:\n"
     ]
    },
    {
     "data": {
      "text/html": [
       "<div>\n",
       "<style scoped>\n",
       "    .dataframe tbody tr th:only-of-type {\n",
       "        vertical-align: middle;\n",
       "    }\n",
       "\n",
       "    .dataframe tbody tr th {\n",
       "        vertical-align: top;\n",
       "    }\n",
       "\n",
       "    .dataframe thead th {\n",
       "        text-align: right;\n",
       "    }\n",
       "</style>\n",
       "<table border=\"1\" class=\"dataframe\">\n",
       "  <thead>\n",
       "    <tr style=\"text-align: right;\">\n",
       "      <th></th>\n",
       "      <th>id_cliente</th>\n",
       "      <th>edad</th>\n",
       "      <th>importe_solicitado</th>\n",
       "      <th>duracion_credito</th>\n",
       "      <th>antiguedad_empleado</th>\n",
       "      <th>situacion_vivienda</th>\n",
       "      <th>ingresos</th>\n",
       "      <th>objetivo_credito</th>\n",
       "      <th>pct_ingreso</th>\n",
       "      <th>tasa_interes</th>\n",
       "      <th>estado_credito</th>\n",
       "      <th>falta_pago</th>\n",
       "      <th>completitud_fila</th>\n",
       "      <th>situacion_vivienda_ok</th>\n",
       "    </tr>\n",
       "  </thead>\n",
       "  <tbody>\n",
       "  </tbody>\n",
       "</table>\n",
       "</div>"
      ],
      "text/plain": [
       "Empty DataFrame\n",
       "Columns: [id_cliente, edad, importe_solicitado, duracion_credito, antiguedad_empleado, situacion_vivienda, ingresos, objetivo_credito, pct_ingreso, tasa_interes, estado_credito, falta_pago, completitud_fila, situacion_vivienda_ok]\n",
       "Index: []"
      ]
     },
     "metadata": {},
     "output_type": "display_data"
    },
    {
     "name": "stdout",
     "output_type": "stream",
     "text": [
      "Cantidad detectada: 0\n"
     ]
    }
   ],
   "source": [
    "#Verificar que los valores de cada atributo se encuentren dentro de los listados anexos\n",
    "\n",
    "#Atributo: situacion_vivienda\n",
    "\n",
    "valores = pd.value_counts(df_creditos['situacion_vivienda']) #Conteo de ocurrencias por valor (not-null)\n",
    "print(f\"Distribución inicial del atributo: \\n{valores}\\n\")\n",
    "\n",
    "cantidad_nulos = len(df_creditos['situacion_vivienda']) - df_creditos['situacion_vivienda'].count() # Conteo de nulos\n",
    "\n",
    "if cantidad_nulos > 0:\n",
    "    print(f\"Cantidad de nulos en el atributo: {cantidad_nulos}\\n\") # Impresión de la cantidad de nulos\n",
    "else:\n",
    "    print(\"No existen filas con valores nulos para este atributo.\\n\")\n",
    "\n",
    "\n",
    "# Se identifica y cuenta a los valores que no cumplen la condición definida\n",
    "    \n",
    "valores_validos = 'ALQUILER|PROPIA|HIPOTECA|OTROS' # Se define una re de los valores validos según el anexo\n",
    "\n",
    "df_creditos['situacion_vivienda_ok'] = df_creditos['situacion_vivienda'].astype(str).str.match(valores_validos)\n",
    "\n",
    "print(\"Se visualizan las filas con errores de rango:\")\n",
    "display(df_creditos[df_creditos['situacion_vivienda_ok'] == False]) # Para visualizar las tuplas con valores nulos o erróneos\n",
    "\n",
    "# Se identifica y cuenta a los valores que no cumplen la condición definida\n",
    "\n",
    "resultado = df_creditos[df_creditos['situacion_vivienda_ok'] == False] \n",
    "print(f\"Cantidad detectada: {resultado.shape[0]}\")"
   ]
  },
  {
   "cell_type": "code",
   "execution_count": 14,
   "metadata": {},
   "outputs": [
    {
     "name": "stdout",
     "output_type": "stream",
     "text": [
      "Cantidad de filas con valores fuera de rango en atributo situacion_vivienda: 0\n",
      "Porcentaje de filas con errores de rango de valores (atributo situacion_vivienda): 0.0 %\n",
      "Evaluación: ok\n"
     ]
    }
   ],
   "source": [
    "def calcular_rangos_valores_situacion_vivienda():\n",
    "    situacion_vivienda_valores_fuera_rango = resultado.shape[0] + cantidad_nulos\n",
    "    print(f\"Cantidad de filas con valores fuera de rango en atributo situacion_vivienda: {situacion_vivienda_valores_fuera_rango}\")\n",
    "    \n",
    "    indicador = (situacion_vivienda_valores_fuera_rango / cantidad_filas_creditos)\n",
    "    print(f\"Porcentaje de filas con errores de rango de valores (atributo situacion_vivienda): {round(indicador * 100, 2)} %\")\n",
    "\n",
    "    if (indicador > RANGOS_VALORES):\n",
    "        print('Evaluación: no cumplimiento')\n",
    "    else:\n",
    "        print('Evaluación: ok')\n",
    "\n",
    "calcular_rangos_valores_situacion_vivienda()"
   ]
  },
  {
   "cell_type": "markdown",
   "metadata": {},
   "source": [
    "Se procesa el atributo: **objetivo_credito**"
   ]
  },
  {
   "cell_type": "code",
   "execution_count": 15,
   "metadata": {},
   "outputs": [
    {
     "data": {
      "text/plain": [
       "array(['PERSONAL', 'EDUCACIÓN', 'SALUD', 'INVERSIONES', 'MEJORAS_HOGAR',\n",
       "       'PAGO_DEUDAS'], dtype=object)"
      ]
     },
     "execution_count": 15,
     "metadata": {},
     "output_type": "execute_result"
    }
   ],
   "source": [
    "df_creditos['objetivo_credito'].unique()"
   ]
  },
  {
   "cell_type": "code",
   "execution_count": 16,
   "metadata": {},
   "outputs": [
    {
     "name": "stdout",
     "output_type": "stream",
     "text": [
      "Distribución inicial del atributo: \n",
      "objetivo_credito\n",
      "EDUCACIÓN        2328\n",
      "SALUD            1853\n",
      "INVERSIONES      1753\n",
      "PAGO_DEUDAS      1673\n",
      "PERSONAL         1643\n",
      "MEJORAS_HOGAR     877\n",
      "Name: count, dtype: int64\n",
      "\n",
      "No existen filas con valores nulos para este atributo.\n",
      "\n",
      "Se visualizan las filas con errores de rango:\n"
     ]
    },
    {
     "data": {
      "text/html": [
       "<div>\n",
       "<style scoped>\n",
       "    .dataframe tbody tr th:only-of-type {\n",
       "        vertical-align: middle;\n",
       "    }\n",
       "\n",
       "    .dataframe tbody tr th {\n",
       "        vertical-align: top;\n",
       "    }\n",
       "\n",
       "    .dataframe thead th {\n",
       "        text-align: right;\n",
       "    }\n",
       "</style>\n",
       "<table border=\"1\" class=\"dataframe\">\n",
       "  <thead>\n",
       "    <tr style=\"text-align: right;\">\n",
       "      <th></th>\n",
       "      <th>id_cliente</th>\n",
       "      <th>edad</th>\n",
       "      <th>importe_solicitado</th>\n",
       "      <th>duracion_credito</th>\n",
       "      <th>antiguedad_empleado</th>\n",
       "      <th>situacion_vivienda</th>\n",
       "      <th>ingresos</th>\n",
       "      <th>objetivo_credito</th>\n",
       "      <th>pct_ingreso</th>\n",
       "      <th>tasa_interes</th>\n",
       "      <th>estado_credito</th>\n",
       "      <th>falta_pago</th>\n",
       "      <th>completitud_fila</th>\n",
       "      <th>situacion_vivienda_ok</th>\n",
       "      <th>objetivo_credito_ok</th>\n",
       "    </tr>\n",
       "  </thead>\n",
       "  <tbody>\n",
       "  </tbody>\n",
       "</table>\n",
       "</div>"
      ],
      "text/plain": [
       "Empty DataFrame\n",
       "Columns: [id_cliente, edad, importe_solicitado, duracion_credito, antiguedad_empleado, situacion_vivienda, ingresos, objetivo_credito, pct_ingreso, tasa_interes, estado_credito, falta_pago, completitud_fila, situacion_vivienda_ok, objetivo_credito_ok]\n",
       "Index: []"
      ]
     },
     "metadata": {},
     "output_type": "display_data"
    },
    {
     "name": "stdout",
     "output_type": "stream",
     "text": [
      "Cantidad detectada: 0\n"
     ]
    }
   ],
   "source": [
    "#Verificar que los valores de cada atributo se encuentren dentro de los listados anexos\n",
    "\n",
    "#Atributo: objetivo_credito\n",
    "\n",
    "valores = pd.value_counts(df_creditos['objetivo_credito']) #Conteo de ocurrencias por valor (not-null)\n",
    "print(f\"Distribución inicial del atributo: \\n{valores}\\n\")\n",
    "\n",
    "cantidad_nulos = len(df_creditos['objetivo_credito']) - df_creditos['objetivo_credito'].count() # Conteo de nulos\n",
    "\n",
    "if cantidad_nulos > 0:\n",
    "    print(f\"Cantidad de nulos en el atributo: {cantidad_nulos}\\n\") # Impresión de la cantidad de nulos\n",
    "else:\n",
    "    print(\"No existen filas con valores nulos para este atributo.\\n\")\n",
    "\n",
    "\n",
    "# Se identifica y cuenta a los valores que no cumplen la condición definida\n",
    "    \n",
    "valores_validos = 'PERSONAL|EDUCACIÓN|SALUD|INVERSIONES|MEJORAS_HOGAR|PAGO_DEUDAS' # Se define una re de los valores validos según el anexo\n",
    "\n",
    "df_creditos['objetivo_credito_ok'] = df_creditos['objetivo_credito'].astype(str).str.match(valores_validos)\n",
    "\n",
    "print(\"Se visualizan las filas con errores de rango:\")\n",
    "display(df_creditos[df_creditos['objetivo_credito_ok'] == False]) # Para visualizar las tuplas con valores nulos o erróneos\n",
    "\n",
    "# Se identifica y cuenta a los valores que no cumplen la condición definida\n",
    "\n",
    "resultado = df_creditos[df_creditos['objetivo_credito_ok'] == False] \n",
    "print(f\"Cantidad detectada: {resultado.shape[0]}\")"
   ]
  },
  {
   "cell_type": "code",
   "execution_count": 17,
   "metadata": {},
   "outputs": [
    {
     "name": "stdout",
     "output_type": "stream",
     "text": [
      "Cantidad de filas con valores fuera de rango en atributo objetivo_credito: 0\n",
      "Porcentaje de filas con errores de rango de valores (atributo objetivo_credito): 0.0 %\n",
      "Evaluación: ok\n"
     ]
    }
   ],
   "source": [
    "def calcular_rangos_valores_objetivo_credito():\n",
    "    objetivo_credito_valores_fuera_rango = resultado.shape[0] + cantidad_nulos\n",
    "    print(f\"Cantidad de filas con valores fuera de rango en atributo objetivo_credito: {objetivo_credito_valores_fuera_rango}\")\n",
    "    \n",
    "    indicador = (objetivo_credito_valores_fuera_rango / cantidad_filas_creditos)\n",
    "    print(f\"Porcentaje de filas con errores de rango de valores (atributo objetivo_credito): {round(indicador * 100, 2)} %\")\n",
    "\n",
    "    if (indicador > RANGOS_VALORES):\n",
    "        print('Evaluación: no cumplimiento')\n",
    "    else:\n",
    "        print('Evaluación: ok')\n",
    "\n",
    "calcular_rangos_valores_objetivo_credito()"
   ]
  },
  {
   "cell_type": "markdown",
   "metadata": {},
   "source": [
    "Se procesa el atributo: **estado_credito**"
   ]
  },
  {
   "cell_type": "code",
   "execution_count": 18,
   "metadata": {},
   "outputs": [
    {
     "data": {
      "text/plain": [
       "array([1, 0], dtype=int64)"
      ]
     },
     "execution_count": 18,
     "metadata": {},
     "output_type": "execute_result"
    }
   ],
   "source": [
    "df_creditos['estado_credito'].unique()"
   ]
  },
  {
   "cell_type": "code",
   "execution_count": 19,
   "metadata": {},
   "outputs": [
    {
     "name": "stdout",
     "output_type": "stream",
     "text": [
      "Distribución inicial del atributo: \n",
      "estado_credito\n",
      "0    7635\n",
      "1    2492\n",
      "Name: count, dtype: int64\n",
      "\n",
      "No existen filas con valores nulos para este atributo.\n",
      "\n",
      "Se visualizan las filas con valores distintos de 0 o 1 en la columna 'estado_credito':\n"
     ]
    },
    {
     "data": {
      "text/html": [
       "<div>\n",
       "<style scoped>\n",
       "    .dataframe tbody tr th:only-of-type {\n",
       "        vertical-align: middle;\n",
       "    }\n",
       "\n",
       "    .dataframe tbody tr th {\n",
       "        vertical-align: top;\n",
       "    }\n",
       "\n",
       "    .dataframe thead th {\n",
       "        text-align: right;\n",
       "    }\n",
       "</style>\n",
       "<table border=\"1\" class=\"dataframe\">\n",
       "  <thead>\n",
       "    <tr style=\"text-align: right;\">\n",
       "      <th></th>\n",
       "      <th>id_cliente</th>\n",
       "      <th>edad</th>\n",
       "      <th>importe_solicitado</th>\n",
       "      <th>duracion_credito</th>\n",
       "      <th>antiguedad_empleado</th>\n",
       "      <th>situacion_vivienda</th>\n",
       "      <th>ingresos</th>\n",
       "      <th>objetivo_credito</th>\n",
       "      <th>pct_ingreso</th>\n",
       "      <th>tasa_interes</th>\n",
       "      <th>estado_credito</th>\n",
       "      <th>falta_pago</th>\n",
       "      <th>completitud_fila</th>\n",
       "      <th>situacion_vivienda_ok</th>\n",
       "      <th>objetivo_credito_ok</th>\n",
       "    </tr>\n",
       "  </thead>\n",
       "  <tbody>\n",
       "  </tbody>\n",
       "</table>\n",
       "</div>"
      ],
      "text/plain": [
       "Empty DataFrame\n",
       "Columns: [id_cliente, edad, importe_solicitado, duracion_credito, antiguedad_empleado, situacion_vivienda, ingresos, objetivo_credito, pct_ingreso, tasa_interes, estado_credito, falta_pago, completitud_fila, situacion_vivienda_ok, objetivo_credito_ok]\n",
       "Index: []"
      ]
     },
     "metadata": {},
     "output_type": "display_data"
    },
    {
     "name": "stdout",
     "output_type": "stream",
     "text": [
      "Cantidad de filas encontradas: 0\n"
     ]
    }
   ],
   "source": [
    "#Verificar que los valores de cada atributo se encuentren dentro de los listados anexos\n",
    "\n",
    "#Atributo: estado_credito\n",
    "# 0 El crédito aún no se ha cancelado.\n",
    "# 1 El crédito se ha cancelado.\n",
    "\n",
    "valores = pd.value_counts(df_creditos['estado_credito']) #Conteo de ocurrencias por valor (not-null)\n",
    "print(f\"Distribución inicial del atributo: \\n{valores}\\n\")\n",
    "\n",
    "cantidad_nulos = len(df_creditos['estado_credito']) - df_creditos['estado_credito'].count() # Conteo de nulos\n",
    "\n",
    "if cantidad_nulos > 0:\n",
    "    print(f\"Cantidad de nulos en el atributo: {cantidad_nulos}\\n\") # Impresión de la cantidad de nulos\n",
    "else:\n",
    "    print(\"No existen filas con valores nulos para este atributo.\\n\")\n",
    "\n",
    "# Se identifica y cuenta a los valores que son distintos de 0 o 1\n",
    "\n",
    "resultado = df_creditos[(df_creditos['estado_credito'] != 0) & (df_creditos['estado_credito'] != 1)]\n",
    "\n",
    "print(\"Se visualizan las filas con valores distintos de 0 o 1 en la columna 'estado_credito':\")\n",
    "display(resultado)  # Para visualizar las tuplas con valores distintos de 0 o 1\n",
    "\n",
    "print(f\"Cantidad de filas encontradas: {resultado.shape[0]}\")\n"
   ]
  },
  {
   "cell_type": "code",
   "execution_count": 20,
   "metadata": {},
   "outputs": [
    {
     "name": "stdout",
     "output_type": "stream",
     "text": [
      "Cantidad de filas con valores fuera de rango en atributo estado_credito: 0\n",
      "Porcentaje de filas con errores de rango de valores (estado_credito): 0.0 %\n",
      "Evaluación: ok\n"
     ]
    }
   ],
   "source": [
    "def calcular_rangos_valores_estado_credito():\n",
    "    estado_credito_valores_fuera_rango = resultado.shape[0] + cantidad_nulos\n",
    "    print(f\"Cantidad de filas con valores fuera de rango en atributo estado_credito: {estado_credito_valores_fuera_rango}\")\n",
    "    \n",
    "    indicador = (estado_credito_valores_fuera_rango / cantidad_filas_creditos)\n",
    "    print(f\"Porcentaje de filas con errores de rango de valores (estado_credito): {round(indicador * 100, 2)} %\")\n",
    "\n",
    "    if (indicador > RANGOS_VALORES):\n",
    "        print('Evaluación: no cumplimiento')\n",
    "    else:\n",
    "        print('Evaluación: ok')\n",
    "\n",
    "calcular_rangos_valores_estado_credito()"
   ]
  },
  {
   "cell_type": "markdown",
   "metadata": {},
   "source": [
    "Se procesa el atributo: **falta_pago**"
   ]
  },
  {
   "cell_type": "code",
   "execution_count": 21,
   "metadata": {},
   "outputs": [
    {
     "data": {
      "text/plain": [
       "array(['Y', 'N'], dtype=object)"
      ]
     },
     "execution_count": 21,
     "metadata": {},
     "output_type": "execute_result"
    }
   ],
   "source": [
    "df_creditos['falta_pago'].unique()"
   ]
  },
  {
   "cell_type": "code",
   "execution_count": 22,
   "metadata": {},
   "outputs": [
    {
     "name": "stdout",
     "output_type": "stream",
     "text": [
      "Distribución inicial del atributo: \n",
      "falta_pago\n",
      "N    8359\n",
      "Y    1768\n",
      "Name: count, dtype: int64\n",
      "\n",
      "No existen filas con valores nulos para este atributo.\n",
      "\n",
      "Se visualizan las filas con errores de rango:\n"
     ]
    },
    {
     "data": {
      "text/html": [
       "<div>\n",
       "<style scoped>\n",
       "    .dataframe tbody tr th:only-of-type {\n",
       "        vertical-align: middle;\n",
       "    }\n",
       "\n",
       "    .dataframe tbody tr th {\n",
       "        vertical-align: top;\n",
       "    }\n",
       "\n",
       "    .dataframe thead th {\n",
       "        text-align: right;\n",
       "    }\n",
       "</style>\n",
       "<table border=\"1\" class=\"dataframe\">\n",
       "  <thead>\n",
       "    <tr style=\"text-align: right;\">\n",
       "      <th></th>\n",
       "      <th>id_cliente</th>\n",
       "      <th>edad</th>\n",
       "      <th>importe_solicitado</th>\n",
       "      <th>duracion_credito</th>\n",
       "      <th>antiguedad_empleado</th>\n",
       "      <th>situacion_vivienda</th>\n",
       "      <th>ingresos</th>\n",
       "      <th>objetivo_credito</th>\n",
       "      <th>pct_ingreso</th>\n",
       "      <th>tasa_interes</th>\n",
       "      <th>estado_credito</th>\n",
       "      <th>falta_pago</th>\n",
       "      <th>completitud_fila</th>\n",
       "      <th>situacion_vivienda_ok</th>\n",
       "      <th>objetivo_credito_ok</th>\n",
       "      <th>falta_pago_ok</th>\n",
       "    </tr>\n",
       "  </thead>\n",
       "  <tbody>\n",
       "  </tbody>\n",
       "</table>\n",
       "</div>"
      ],
      "text/plain": [
       "Empty DataFrame\n",
       "Columns: [id_cliente, edad, importe_solicitado, duracion_credito, antiguedad_empleado, situacion_vivienda, ingresos, objetivo_credito, pct_ingreso, tasa_interes, estado_credito, falta_pago, completitud_fila, situacion_vivienda_ok, objetivo_credito_ok, falta_pago_ok]\n",
       "Index: []"
      ]
     },
     "metadata": {},
     "output_type": "display_data"
    },
    {
     "name": "stdout",
     "output_type": "stream",
     "text": [
      "Cantidad detectada: 0\n"
     ]
    }
   ],
   "source": [
    "#Verificar que los valores de cada atributo se encuentren dentro de los listados anexos\n",
    "\n",
    "#Atributo: falta_pago\n",
    "# Y El crédito ha estado en mora en algún momento.\n",
    "# N El crédito no ha entrado en mora.\n",
    "\n",
    "valores = pd.value_counts(df_creditos['falta_pago']) #Conteo de ocurrencias por valor (not-null)\n",
    "print(f\"Distribución inicial del atributo: \\n{valores}\\n\")\n",
    "\n",
    "cantidad_nulos = len(df_creditos['falta_pago']) - df_creditos['falta_pago'].count() # Conteo de nulos\n",
    "\n",
    "if cantidad_nulos > 0:\n",
    "    print(f\"Cantidad de nulos en el atributo: {cantidad_nulos}\\n\") # Impresión de la cantidad de nulos\n",
    "else:\n",
    "    print(\"No existen filas con valores nulos para este atributo.\\n\")\n",
    "\n",
    "\n",
    "# Se identifica y cuenta a los valores que no cumplen la condición definida\n",
    "    \n",
    "valores_validos = 'Y|N' # Se define una re de los valores validos \n",
    "\n",
    "df_creditos['falta_pago_ok'] = df_creditos['falta_pago'].astype(str).str.match(valores_validos)\n",
    "\n",
    "print(\"Se visualizan las filas con errores de rango:\")\n",
    "display(df_creditos[df_creditos['falta_pago_ok'] == False]) # Para visualizar las tuplas con valores nulos o erróneos\n",
    "\n",
    "# Se identifica y cuenta a los valores que no cumplen la condición definida\n",
    "\n",
    "resultado = df_creditos[df_creditos['falta_pago_ok'] == False] \n",
    "print(f\"Cantidad detectada: {resultado.shape[0]}\")"
   ]
  },
  {
   "cell_type": "code",
   "execution_count": 23,
   "metadata": {},
   "outputs": [
    {
     "name": "stdout",
     "output_type": "stream",
     "text": [
      "Cantidad de filas con valores fuera de rango en atributo falta_pago: 0\n",
      "Porcentaje de filas con errores de rango de valores (atributo falta_pago): 0.0 %\n",
      "Evaluación: ok\n"
     ]
    }
   ],
   "source": [
    "def calcular_rangos_valores_falta_pago():\n",
    "    falta_pago_valores_fuera_rango = resultado.shape[0] + cantidad_nulos\n",
    "    print(f\"Cantidad de filas con valores fuera de rango en atributo falta_pago: {falta_pago_valores_fuera_rango}\")\n",
    "    \n",
    "    indicador = (falta_pago_valores_fuera_rango / cantidad_filas_creditos)\n",
    "    print(f\"Porcentaje de filas con errores de rango de valores (atributo falta_pago): {round(indicador * 100, 2)} %\")\n",
    "\n",
    "    if (indicador > RANGOS_VALORES):\n",
    "        print('Evaluación: no cumplimiento')\n",
    "    else:\n",
    "        print('Evaluación: ok')\n",
    "\n",
    "calcular_rangos_valores_falta_pago()"
   ]
  },
  {
   "cell_type": "markdown",
   "metadata": {},
   "source": [
    "Se procesa el atributo: **duracion_credito**"
   ]
  },
  {
   "cell_type": "code",
   "execution_count": 24,
   "metadata": {},
   "outputs": [
    {
     "data": {
      "text/plain": [
       "array([3, 2, 4], dtype=int64)"
      ]
     },
     "execution_count": 24,
     "metadata": {},
     "output_type": "execute_result"
    }
   ],
   "source": [
    "df_creditos['duracion_credito'].unique()"
   ]
  },
  {
   "cell_type": "code",
   "execution_count": 25,
   "metadata": {},
   "outputs": [
    {
     "name": "stdout",
     "output_type": "stream",
     "text": [
      "Distribución inicial del atributo: \n",
      "duracion_credito\n",
      "2    3404\n",
      "3    3364\n",
      "4    3359\n",
      "Name: count, dtype: int64\n",
      "\n",
      "No existen filas con valores nulos para este atributo.\n",
      "\n",
      "Se visualizan las filas con errores de rango:\n"
     ]
    },
    {
     "data": {
      "text/html": [
       "<div>\n",
       "<style scoped>\n",
       "    .dataframe tbody tr th:only-of-type {\n",
       "        vertical-align: middle;\n",
       "    }\n",
       "\n",
       "    .dataframe tbody tr th {\n",
       "        vertical-align: top;\n",
       "    }\n",
       "\n",
       "    .dataframe thead th {\n",
       "        text-align: right;\n",
       "    }\n",
       "</style>\n",
       "<table border=\"1\" class=\"dataframe\">\n",
       "  <thead>\n",
       "    <tr style=\"text-align: right;\">\n",
       "      <th></th>\n",
       "      <th>id_cliente</th>\n",
       "      <th>edad</th>\n",
       "      <th>importe_solicitado</th>\n",
       "      <th>duracion_credito</th>\n",
       "      <th>antiguedad_empleado</th>\n",
       "      <th>situacion_vivienda</th>\n",
       "      <th>ingresos</th>\n",
       "      <th>objetivo_credito</th>\n",
       "      <th>pct_ingreso</th>\n",
       "      <th>tasa_interes</th>\n",
       "      <th>estado_credito</th>\n",
       "      <th>falta_pago</th>\n",
       "      <th>completitud_fila</th>\n",
       "      <th>situacion_vivienda_ok</th>\n",
       "      <th>objetivo_credito_ok</th>\n",
       "      <th>falta_pago_ok</th>\n",
       "    </tr>\n",
       "  </thead>\n",
       "  <tbody>\n",
       "  </tbody>\n",
       "</table>\n",
       "</div>"
      ],
      "text/plain": [
       "Empty DataFrame\n",
       "Columns: [id_cliente, edad, importe_solicitado, duracion_credito, antiguedad_empleado, situacion_vivienda, ingresos, objetivo_credito, pct_ingreso, tasa_interes, estado_credito, falta_pago, completitud_fila, situacion_vivienda_ok, objetivo_credito_ok, falta_pago_ok]\n",
       "Index: []"
      ]
     },
     "metadata": {},
     "output_type": "display_data"
    },
    {
     "name": "stdout",
     "output_type": "stream",
     "text": [
      "Cantidad detectada: 0\n"
     ]
    }
   ],
   "source": [
    "#Verificar que los valores de cada atributo se encuentren dentro de los listados anexos\n",
    "\n",
    "#Atributo: duracion_credito\n",
    "# Tiempo en el que se distribuyen los pagos del crédito (en años). Por ejemplo, se establece que el tiempo máximo no debe superar los 10 años.\n",
    "valores = pd.value_counts(df_creditos['duracion_credito']) #Conteo de ocurrencias por valor (not-null)\n",
    "print(f\"Distribución inicial del atributo: \\n{valores}\\n\")\n",
    "\n",
    "cantidad_nulos = len(df_creditos['duracion_credito']) - df_creditos['duracion_credito'].count() # Conteo de nulos\n",
    "\n",
    "if cantidad_nulos > 0:\n",
    "    print(f\"Cantidad de nulos en el atributo: {cantidad_nulos}\\n\") # Impresión de la cantidad de nulos\n",
    "else:\n",
    "    print(\"No existen filas con valores nulos para este atributo.\\n\")\n",
    "\n",
    "\n",
    "# Se identifica y cuenta a los valores que no cumplen la condición definida\n",
    "\n",
    "resultado = df_creditos[df_creditos['duracion_credito'] > 10]\n",
    "\n",
    "print(\"Se visualizan las filas con errores de rango:\")\n",
    "display(resultado) # Para visualizar las tuplas con valores nulos o erróneos\n",
    "\n",
    "print(f\"Cantidad detectada: {resultado.shape[0]}\")"
   ]
  },
  {
   "cell_type": "code",
   "execution_count": 26,
   "metadata": {},
   "outputs": [
    {
     "name": "stdout",
     "output_type": "stream",
     "text": [
      "Cantidad de filas con valores fuera de rango en atributo duracion_credito: 0\n",
      "Porcentaje de filas con errores de rango de valores (atributo duracion_credito): 0.0 %\n",
      "Evaluación: ok\n"
     ]
    }
   ],
   "source": [
    "def calcular_rangos_valores_duracion_credito():\n",
    "    duracion_credito_fuera_rango = resultado.shape[0] + cantidad_nulos\n",
    "    print(f\"Cantidad de filas con valores fuera de rango en atributo duracion_credito: {duracion_credito_fuera_rango}\")\n",
    "    \n",
    "    indicador = (duracion_credito_fuera_rango / cantidad_filas_creditos)\n",
    "    print(f\"Porcentaje de filas con errores de rango de valores (atributo duracion_credito): {round(indicador * 100, 2)} %\")\n",
    "\n",
    "    if (indicador > RANGOS_VALORES):\n",
    "        print('Evaluación: no cumplimiento')\n",
    "    else:\n",
    "        print('Evaluación: ok')\n",
    "\n",
    "calcular_rangos_valores_duracion_credito()"
   ]
  },
  {
   "cell_type": "markdown",
   "metadata": {},
   "source": [
    "## Dimensión: exactitud\n",
    "\n",
    "### (3.1) Valores ajustados en dataset datos_tarjetas"
   ]
  },
  {
   "cell_type": "markdown",
   "metadata": {},
   "source": [
    "Se procesa el atributo: **estado_civil**"
   ]
  },
  {
   "cell_type": "code",
   "execution_count": 27,
   "metadata": {},
   "outputs": [
    {
     "data": {
      "text/plain": [
       "array(['CASADO', 'SOLTERO', 'DESCONOCIDO', 'DIVORCIADO'], dtype=object)"
      ]
     },
     "execution_count": 27,
     "metadata": {},
     "output_type": "execute_result"
    }
   ],
   "source": [
    "df_tarjetas['estado_civil'].unique()"
   ]
  },
  {
   "cell_type": "code",
   "execution_count": 28,
   "metadata": {},
   "outputs": [
    {
     "name": "stdout",
     "output_type": "stream",
     "text": [
      "Distribución inicial del atributo: \n",
      "estado_civil\n",
      "CASADO         4687\n",
      "SOLTERO        3943\n",
      "DESCONOCIDO     749\n",
      "DIVORCIADO      748\n",
      "Name: count, dtype: int64\n",
      "\n",
      "No existen filas con valores nulos para este atributo.\n",
      "\n",
      "Se visualizan las filas con errores de rango:\n"
     ]
    },
    {
     "data": {
      "text/html": [
       "<div>\n",
       "<style scoped>\n",
       "    .dataframe tbody tr th:only-of-type {\n",
       "        vertical-align: middle;\n",
       "    }\n",
       "\n",
       "    .dataframe tbody tr th {\n",
       "        vertical-align: top;\n",
       "    }\n",
       "\n",
       "    .dataframe thead th {\n",
       "        text-align: right;\n",
       "    }\n",
       "</style>\n",
       "<table border=\"1\" class=\"dataframe\">\n",
       "  <thead>\n",
       "    <tr style=\"text-align: right;\">\n",
       "      <th></th>\n",
       "      <th>id_cliente</th>\n",
       "      <th>antiguedad_cliente</th>\n",
       "      <th>estado_civil</th>\n",
       "      <th>estado_cliente</th>\n",
       "      <th>gastos_ult_12m</th>\n",
       "      <th>genero</th>\n",
       "      <th>limite_credito_tc</th>\n",
       "      <th>nivel_educativo</th>\n",
       "      <th>nivel_tarjeta</th>\n",
       "      <th>operaciones_ult_12m</th>\n",
       "      <th>personas_a_cargo</th>\n",
       "      <th>estado_civil_ok</th>\n",
       "    </tr>\n",
       "  </thead>\n",
       "  <tbody>\n",
       "  </tbody>\n",
       "</table>\n",
       "</div>"
      ],
      "text/plain": [
       "Empty DataFrame\n",
       "Columns: [id_cliente, antiguedad_cliente, estado_civil, estado_cliente, gastos_ult_12m, genero, limite_credito_tc, nivel_educativo, nivel_tarjeta, operaciones_ult_12m, personas_a_cargo, estado_civil_ok]\n",
       "Index: []"
      ]
     },
     "metadata": {},
     "output_type": "display_data"
    },
    {
     "name": "stdout",
     "output_type": "stream",
     "text": [
      "Cantidad detectada: 0\n"
     ]
    }
   ],
   "source": [
    "#Verificar que los valores de cada atributo se encuentren dentro de los listados anexos\n",
    "\n",
    "#Atributo: estado_civil\n",
    "\n",
    "valores = pd.value_counts(df_tarjetas['estado_civil']) #Conteo de ocurrencias por valor (not-null)\n",
    "print(f\"Distribución inicial del atributo: \\n{valores}\\n\")\n",
    "\n",
    "cantidad_nulos = len(df_tarjetas['estado_civil']) - df_tarjetas['estado_civil'].count() # Conteo de nulos\n",
    "\n",
    "if cantidad_nulos > 0:\n",
    "    print(f\"Cantidad de nulos en el atributo: {cantidad_nulos}\\n\") # Impresión de la cantidad de nulos\n",
    "else:\n",
    "    print(\"No existen filas con valores nulos para este atributo.\\n\")\n",
    "\n",
    "\n",
    "# Se identifica y cuenta a los valores que no cumplen la condición definida\n",
    "    \n",
    "valores_validos = 'CASADO|SOLTERO|DIVORCIADO|DESCONOCIDO' # Se define una re de los valores validos \n",
    "\n",
    "df_tarjetas['estado_civil_ok'] = df_tarjetas['estado_civil'].astype(str).str.match(valores_validos)\n",
    "\n",
    "print(\"Se visualizan las filas con errores de rango:\")\n",
    "display(df_tarjetas[df_tarjetas['estado_civil_ok'] == False]) # Para visualizar las tuplas con valores nulos o erróneos\n",
    "\n",
    "# Se identifica y cuenta a los valores que no cumplen la condición definida\n",
    "\n",
    "resultado = df_tarjetas[df_tarjetas['estado_civil_ok'] == False] \n",
    "print(f\"Cantidad detectada: {resultado.shape[0]}\")"
   ]
  },
  {
   "cell_type": "code",
   "execution_count": 29,
   "metadata": {},
   "outputs": [
    {
     "name": "stdout",
     "output_type": "stream",
     "text": [
      "Cantidad de filas con valores fuera de rango en atributo estado_civil: 0\n",
      "Porcentaje de filas con errores de rango de valores (atributo estado_civil): 0.0 %\n",
      "Evaluación: ok\n"
     ]
    }
   ],
   "source": [
    "def calcular_rangos_valores_estado_civil():\n",
    "    estado_civil_valores_fuera_rango = resultado.shape[0] + cantidad_nulos\n",
    "    print(f\"Cantidad de filas con valores fuera de rango en atributo estado_civil: {estado_civil_valores_fuera_rango}\")\n",
    "    \n",
    "    indicador = (estado_civil_valores_fuera_rango / cantidad_filas_creditos)\n",
    "    print(f\"Porcentaje de filas con errores de rango de valores (atributo estado_civil): {round(indicador * 100, 2)} %\")\n",
    "\n",
    "    if (indicador > RANGOS_VALORES):\n",
    "        print('Evaluación: no cumplimiento')\n",
    "    else:\n",
    "        print('Evaluación: ok')\n",
    "\n",
    "calcular_rangos_valores_estado_civil()"
   ]
  },
  {
   "cell_type": "markdown",
   "metadata": {},
   "source": [
    "Se procesa el atributo: **estado_cliente**"
   ]
  },
  {
   "cell_type": "code",
   "execution_count": 30,
   "metadata": {},
   "outputs": [
    {
     "data": {
      "text/plain": [
       "array(['ACTIVO', 'PASIVO'], dtype=object)"
      ]
     },
     "execution_count": 30,
     "metadata": {},
     "output_type": "execute_result"
    }
   ],
   "source": [
    "df_tarjetas['estado_cliente'].unique()"
   ]
  },
  {
   "cell_type": "code",
   "execution_count": 31,
   "metadata": {},
   "outputs": [
    {
     "name": "stdout",
     "output_type": "stream",
     "text": [
      "Distribución inicial del atributo: \n",
      "estado_cliente\n",
      "ACTIVO    8500\n",
      "PASIVO    1627\n",
      "Name: count, dtype: int64\n",
      "\n",
      "No existen filas con valores nulos para este atributo.\n",
      "\n",
      "Se visualizan las filas con errores de rango:\n"
     ]
    },
    {
     "data": {
      "text/html": [
       "<div>\n",
       "<style scoped>\n",
       "    .dataframe tbody tr th:only-of-type {\n",
       "        vertical-align: middle;\n",
       "    }\n",
       "\n",
       "    .dataframe tbody tr th {\n",
       "        vertical-align: top;\n",
       "    }\n",
       "\n",
       "    .dataframe thead th {\n",
       "        text-align: right;\n",
       "    }\n",
       "</style>\n",
       "<table border=\"1\" class=\"dataframe\">\n",
       "  <thead>\n",
       "    <tr style=\"text-align: right;\">\n",
       "      <th></th>\n",
       "      <th>id_cliente</th>\n",
       "      <th>antiguedad_cliente</th>\n",
       "      <th>estado_civil</th>\n",
       "      <th>estado_cliente</th>\n",
       "      <th>gastos_ult_12m</th>\n",
       "      <th>genero</th>\n",
       "      <th>limite_credito_tc</th>\n",
       "      <th>nivel_educativo</th>\n",
       "      <th>nivel_tarjeta</th>\n",
       "      <th>operaciones_ult_12m</th>\n",
       "      <th>personas_a_cargo</th>\n",
       "      <th>estado_civil_ok</th>\n",
       "      <th>estado_cliente_ok</th>\n",
       "    </tr>\n",
       "  </thead>\n",
       "  <tbody>\n",
       "  </tbody>\n",
       "</table>\n",
       "</div>"
      ],
      "text/plain": [
       "Empty DataFrame\n",
       "Columns: [id_cliente, antiguedad_cliente, estado_civil, estado_cliente, gastos_ult_12m, genero, limite_credito_tc, nivel_educativo, nivel_tarjeta, operaciones_ult_12m, personas_a_cargo, estado_civil_ok, estado_cliente_ok]\n",
       "Index: []"
      ]
     },
     "metadata": {},
     "output_type": "display_data"
    },
    {
     "name": "stdout",
     "output_type": "stream",
     "text": [
      "Cantidad detectada: 0\n"
     ]
    }
   ],
   "source": [
    "#Verificar que los valores de cada atributo se encuentren dentro de los listados anexos\n",
    "\n",
    "#Atributo: estado_cliente\n",
    "\n",
    "valores = pd.value_counts(df_tarjetas['estado_cliente']) #Conteo de ocurrencias por valor (not-null)\n",
    "print(f\"Distribución inicial del atributo: \\n{valores}\\n\")\n",
    "\n",
    "cantidad_nulos = len(df_tarjetas['estado_cliente']) - df_tarjetas['estado_cliente'].count() # Conteo de nulos\n",
    "\n",
    "if cantidad_nulos > 0:\n",
    "    print(f\"Cantidad de nulos en el atributo: {cantidad_nulos}\\n\") # Impresión de la cantidad de nulos\n",
    "else:\n",
    "    print(\"No existen filas con valores nulos para este atributo.\\n\")\n",
    "\n",
    "\n",
    "# Se identifica y cuenta a los valores que no cumplen la condición definida\n",
    "    \n",
    "valores_validos = 'ACTIVO|PASIVO' # Se define una re de los valores validos \n",
    "\n",
    "df_tarjetas['estado_cliente_ok'] = df_tarjetas['estado_cliente'].astype(str).str.match(valores_validos)\n",
    "\n",
    "print(\"Se visualizan las filas con errores de rango:\")\n",
    "display(df_tarjetas[df_tarjetas['estado_cliente_ok'] == False]) # Para visualizar las tuplas con valores nulos o erróneos\n",
    "\n",
    "# Se identifica y cuenta a los valores que no cumplen la condición definida\n",
    "\n",
    "resultado = df_tarjetas[df_tarjetas['estado_cliente_ok'] == False] \n",
    "print(f\"Cantidad detectada: {resultado.shape[0]}\")"
   ]
  },
  {
   "cell_type": "code",
   "execution_count": 32,
   "metadata": {},
   "outputs": [
    {
     "name": "stdout",
     "output_type": "stream",
     "text": [
      "Cantidad de filas con valores fuera de rango en atributo estado_cliente: 0\n",
      "Porcentaje de filas con errores de rango de valores (atributo estado_cliente): 0.0 %\n",
      "Evaluación: ok\n"
     ]
    }
   ],
   "source": [
    "def calcular_rangos_valores_estado_cliente():\n",
    "    estado_cliente_valores_fuera_rango = resultado.shape[0] + cantidad_nulos\n",
    "    print(f\"Cantidad de filas con valores fuera de rango en atributo estado_cliente: {estado_cliente_valores_fuera_rango}\")\n",
    "    \n",
    "    indicador = (estado_cliente_valores_fuera_rango / cantidad_filas_creditos)\n",
    "    print(f\"Porcentaje de filas con errores de rango de valores (atributo estado_cliente): {round(indicador * 100, 2)} %\")\n",
    "\n",
    "    if (indicador > RANGOS_VALORES):\n",
    "        print('Evaluación: no cumplimiento')\n",
    "    else:\n",
    "        print('Evaluación: ok')\n",
    "\n",
    "calcular_rangos_valores_estado_cliente()"
   ]
  },
  {
   "cell_type": "markdown",
   "metadata": {},
   "source": [
    "Se procesa el atributo: **nivel_tarjeta**"
   ]
  },
  {
   "cell_type": "code",
   "execution_count": 33,
   "metadata": {},
   "outputs": [
    {
     "data": {
      "text/plain": [
       "array(['Blue', 'Gold', 'Silver', 'Platinum'], dtype=object)"
      ]
     },
     "execution_count": 33,
     "metadata": {},
     "output_type": "execute_result"
    }
   ],
   "source": [
    "df_tarjetas['nivel_tarjeta'].unique()"
   ]
  },
  {
   "cell_type": "code",
   "execution_count": 34,
   "metadata": {},
   "outputs": [
    {
     "name": "stdout",
     "output_type": "stream",
     "text": [
      "Distribución inicial del atributo: \n",
      "nivel_tarjeta\n",
      "Blue        9436\n",
      "Silver       555\n",
      "Gold         116\n",
      "Platinum      20\n",
      "Name: count, dtype: int64\n",
      "\n",
      "No existen filas con valores nulos para este atributo.\n",
      "\n",
      "Se visualizan las filas con errores de rango:\n"
     ]
    },
    {
     "data": {
      "text/html": [
       "<div>\n",
       "<style scoped>\n",
       "    .dataframe tbody tr th:only-of-type {\n",
       "        vertical-align: middle;\n",
       "    }\n",
       "\n",
       "    .dataframe tbody tr th {\n",
       "        vertical-align: top;\n",
       "    }\n",
       "\n",
       "    .dataframe thead th {\n",
       "        text-align: right;\n",
       "    }\n",
       "</style>\n",
       "<table border=\"1\" class=\"dataframe\">\n",
       "  <thead>\n",
       "    <tr style=\"text-align: right;\">\n",
       "      <th></th>\n",
       "      <th>id_cliente</th>\n",
       "      <th>antiguedad_cliente</th>\n",
       "      <th>estado_civil</th>\n",
       "      <th>estado_cliente</th>\n",
       "      <th>gastos_ult_12m</th>\n",
       "      <th>genero</th>\n",
       "      <th>limite_credito_tc</th>\n",
       "      <th>nivel_educativo</th>\n",
       "      <th>nivel_tarjeta</th>\n",
       "      <th>operaciones_ult_12m</th>\n",
       "      <th>personas_a_cargo</th>\n",
       "      <th>estado_civil_ok</th>\n",
       "      <th>estado_cliente_ok</th>\n",
       "      <th>nivel_tarjeta_ok</th>\n",
       "    </tr>\n",
       "  </thead>\n",
       "  <tbody>\n",
       "  </tbody>\n",
       "</table>\n",
       "</div>"
      ],
      "text/plain": [
       "Empty DataFrame\n",
       "Columns: [id_cliente, antiguedad_cliente, estado_civil, estado_cliente, gastos_ult_12m, genero, limite_credito_tc, nivel_educativo, nivel_tarjeta, operaciones_ult_12m, personas_a_cargo, estado_civil_ok, estado_cliente_ok, nivel_tarjeta_ok]\n",
       "Index: []"
      ]
     },
     "metadata": {},
     "output_type": "display_data"
    },
    {
     "name": "stdout",
     "output_type": "stream",
     "text": [
      "Cantidad detectada: 0\n"
     ]
    }
   ],
   "source": [
    "#Verificar que los valores de cada atributo se encuentren dentro de los listados anexos\n",
    "\n",
    "#Atributo: nivel_tarjeta\n",
    "'''\n",
    "“Blue” El producto es del nivel básico.\n",
    "“Gold” El producto es del nivel medio.\n",
    "“Silver” El producto es del nivel avanzado.\n",
    "“Platinum” El producto es del nivel más alto otorgado por la entidad.\n",
    "'''\n",
    "\n",
    "valores = pd.value_counts(df_tarjetas['nivel_tarjeta']) #Conteo de ocurrencias por valor (not-null)\n",
    "print(f\"Distribución inicial del atributo: \\n{valores}\\n\")\n",
    "\n",
    "cantidad_nulos = len(df_tarjetas['nivel_tarjeta']) - df_tarjetas['nivel_tarjeta'].count() # Conteo de nulos\n",
    "\n",
    "if cantidad_nulos > 0:\n",
    "    print(f\"Cantidad de nulos en el atributo: {cantidad_nulos}\\n\") # Impresión de la cantidad de nulos\n",
    "else:\n",
    "    print(\"No existen filas con valores nulos para este atributo.\\n\")\n",
    "\n",
    "\n",
    "# Se identifica y cuenta a los valores que no cumplen la condición definida\n",
    "    \n",
    "valores_validos = 'Blue|Silver|Gold|Platinum' # Se define una re de los valores validos \n",
    "\n",
    "df_tarjetas['nivel_tarjeta_ok'] = df_tarjetas['nivel_tarjeta'].astype(str).str.match(valores_validos)\n",
    "\n",
    "print(\"Se visualizan las filas con errores de rango:\")\n",
    "display(df_tarjetas[df_tarjetas['nivel_tarjeta_ok'] == False]) # Para visualizar las tuplas con valores nulos o erróneos\n",
    "\n",
    "# Se identifica y cuenta a los valores que no cumplen la condición definida\n",
    "\n",
    "resultado = df_tarjetas[df_tarjetas['nivel_tarjeta_ok'] == False] \n",
    "print(f\"Cantidad detectada: {resultado.shape[0]}\")"
   ]
  },
  {
   "cell_type": "code",
   "execution_count": 35,
   "metadata": {},
   "outputs": [
    {
     "name": "stdout",
     "output_type": "stream",
     "text": [
      "Cantidad de filas con valores fuera de rango en atributo nivel_tarjeta: 0\n",
      "Porcentaje de filas con errores de rango de valores (atributo nivel_tarjeta): 0.0 %\n",
      "Evaluación: ok\n"
     ]
    }
   ],
   "source": [
    "def calcular_rangos_valores_nivel_tarjeta():\n",
    "    nivel_tarjeta_valores_fuera_rango = resultado.shape[0] + cantidad_nulos\n",
    "    print(f\"Cantidad de filas con valores fuera de rango en atributo nivel_tarjeta: {nivel_tarjeta_valores_fuera_rango}\")\n",
    "    \n",
    "    indicador = (nivel_tarjeta_valores_fuera_rango / cantidad_filas_creditos)\n",
    "    print(f\"Porcentaje de filas con errores de rango de valores (atributo nivel_tarjeta): {round(indicador * 100, 2)} %\")\n",
    "\n",
    "    if (indicador > RANGOS_VALORES):\n",
    "        print('Evaluación: no cumplimiento')\n",
    "    else:\n",
    "        print('Evaluación: ok')\n",
    "\n",
    "calcular_rangos_valores_nivel_tarjeta()"
   ]
  },
  {
   "cell_type": "markdown",
   "metadata": {},
   "source": [
    "---\n",
    "\n",
    "## Dimensión: consistencia\n",
    "\n",
    "### (4) Claves únicas\n",
    "\n",
    "Dataset: **datos_creditos**"
   ]
  },
  {
   "cell_type": "code",
   "execution_count": 36,
   "metadata": {},
   "outputs": [
    {
     "name": "stdout",
     "output_type": "stream",
     "text": [
      "Dataset: creditos\n",
      "Antes del análisis de duplicados: 10127 - Despues del filtrado de duplicados: 10127\n",
      "No se detectaron claves duplicadas\n"
     ]
    }
   ],
   "source": [
    "#Se obtiene el valor de la cantidad de filas actual\n",
    "cant_antes = df_creditos.shape[0] \n",
    "\n",
    "# Se ordena el dataset según el atributo que se desee evaluar (requerido para el paso siguiente)\n",
    "df_creditos.sort_values(\"id_cliente\", inplace=True)\n",
    "\n",
    "# Se detectan y eliminan los duplicados en un atributo dejando la última ocurrencia\n",
    "df_creditos.drop_duplicates(subset =\"id_cliente\", keep = 'last', inplace = True)\n",
    "\n",
    "# Se obtiene el valor posterior a la operación\n",
    "cant_despues = df_creditos.shape[0]\n",
    "\n",
    "# Se imprimen ambos valores\n",
    "print('Dataset: creditos')\n",
    "print(f\"Antes del análisis de duplicados: {cant_antes} - Despues del filtrado de duplicados: {cant_despues}\")\n",
    "if cant_antes > cant_despues:\n",
    "    diferencia = cant_antes - cant_despues\n",
    "    pct_diferencia = ((cant_antes - cant_despues) / cant_antes) * 100\n",
    "    print(f\"Se detectaron claves duplicadas en {diferencia} fila(s) un {round(pct_diferencia, 2)}%.\")\n",
    "else:\n",
    "    print(\"No se detectaron claves duplicadas\")"
   ]
  },
  {
   "cell_type": "markdown",
   "metadata": {},
   "source": [
    "Dataset: **datos_tarjetas**"
   ]
  },
  {
   "cell_type": "code",
   "execution_count": 37,
   "metadata": {},
   "outputs": [
    {
     "name": "stdout",
     "output_type": "stream",
     "text": [
      "Dataset: tarjetas\n",
      "Antes del análisis de duplicados: 10127 - Despues del filtrado de duplicados: 10127\n",
      "No se detectaron claves duplicadas\n"
     ]
    }
   ],
   "source": [
    "# Se obtiene el valor de la cantidad de filas actual\n",
    "cant_antes = df_tarjetas.shape[0]  \n",
    "\n",
    "# Se ordena el dataset según el atributo que se desee evaluar (requerido para el paso siguiente)\n",
    "df_tarjetas.sort_values(\"id_cliente\", inplace=True)\n",
    "\n",
    "# Se detectan y eliminan los duplicados en un atributo dejando la última ocurrencia\n",
    "df_tarjetas.drop_duplicates(subset =\"id_cliente\", keep = 'last', inplace = True)\n",
    "\n",
    "# Se obtiene el valor posterior a la operación\n",
    "cant_despues = df_tarjetas.shape[0]\n",
    "\n",
    "#Se imprimen ambos valores\n",
    "print('Dataset: tarjetas')\n",
    "print(f\"Antes del análisis de duplicados: {cant_antes} - Despues del filtrado de duplicados: {cant_despues}\")\n",
    "if cant_antes > cant_despues:\n",
    "    diferencia = cant_antes - cant_despues\n",
    "    pct_diferencia = ((cant_antes - cant_despues) / cant_antes) * 100\n",
    "    print(f\"Se detectaron claves duplicadas en {diferencia} fila(s) un {round(pct_diferencia, 2)}%.\")\n",
    "else:\n",
    "    print(\"No se detectaron claves duplicadas\")"
   ]
  },
  {
   "cell_type": "markdown",
   "metadata": {},
   "source": [
    "### (5) Integridad referencial"
   ]
  },
  {
   "cell_type": "code",
   "execution_count": 38,
   "metadata": {},
   "outputs": [
    {
     "name": "stdout",
     "output_type": "stream",
     "text": [
      "Datos de créditos: 10127 - Coincidencias con datos de tarjetas: 10127\n",
      "\n",
      "Se visualiza el dataset resultante:\n"
     ]
    },
    {
     "data": {
      "text/html": [
       "<div>\n",
       "<style scoped>\n",
       "    .dataframe tbody tr th:only-of-type {\n",
       "        vertical-align: middle;\n",
       "    }\n",
       "\n",
       "    .dataframe tbody tr th {\n",
       "        vertical-align: top;\n",
       "    }\n",
       "\n",
       "    .dataframe thead th {\n",
       "        text-align: right;\n",
       "    }\n",
       "</style>\n",
       "<table border=\"1\" class=\"dataframe\">\n",
       "  <thead>\n",
       "    <tr style=\"text-align: right;\">\n",
       "      <th></th>\n",
       "      <th>id_cliente</th>\n",
       "      <th>edad</th>\n",
       "      <th>importe_solicitado</th>\n",
       "      <th>duracion_credito</th>\n",
       "      <th>antiguedad_empleado</th>\n",
       "      <th>situacion_vivienda</th>\n",
       "      <th>ingresos</th>\n",
       "      <th>objetivo_credito</th>\n",
       "      <th>pct_ingreso</th>\n",
       "      <th>tasa_interes</th>\n",
       "      <th>...</th>\n",
       "      <th>gastos_ult_12m</th>\n",
       "      <th>genero</th>\n",
       "      <th>limite_credito_tc</th>\n",
       "      <th>nivel_educativo</th>\n",
       "      <th>nivel_tarjeta</th>\n",
       "      <th>operaciones_ult_12m</th>\n",
       "      <th>personas_a_cargo</th>\n",
       "      <th>estado_civil_ok</th>\n",
       "      <th>estado_cliente_ok</th>\n",
       "      <th>nivel_tarjeta_ok</th>\n",
       "    </tr>\n",
       "  </thead>\n",
       "  <tbody>\n",
       "    <tr>\n",
       "      <th>0</th>\n",
       "      <td>708082083.0</td>\n",
       "      <td>24</td>\n",
       "      <td>11000</td>\n",
       "      <td>3</td>\n",
       "      <td>5.0</td>\n",
       "      <td>HIPOTECA</td>\n",
       "      <td>64800</td>\n",
       "      <td>INVERSIONES</td>\n",
       "      <td>0.17</td>\n",
       "      <td>5.79</td>\n",
       "      <td>...</td>\n",
       "      <td>15149.0</td>\n",
       "      <td>F</td>\n",
       "      <td>3544.0</td>\n",
       "      <td>SECUNDARIO_COMPLETO</td>\n",
       "      <td>Blue</td>\n",
       "      <td>111.0</td>\n",
       "      <td>3.0</td>\n",
       "      <td>True</td>\n",
       "      <td>True</td>\n",
       "      <td>True</td>\n",
       "    </tr>\n",
       "    <tr>\n",
       "      <th>1</th>\n",
       "      <td>708083283.0</td>\n",
       "      <td>24</td>\n",
       "      <td>1500</td>\n",
       "      <td>2</td>\n",
       "      <td>0.0</td>\n",
       "      <td>ALQUILER</td>\n",
       "      <td>30996</td>\n",
       "      <td>MEJORAS_HOGAR</td>\n",
       "      <td>0.05</td>\n",
       "      <td>15.99</td>\n",
       "      <td>...</td>\n",
       "      <td>992.0</td>\n",
       "      <td>M</td>\n",
       "      <td>3421.0</td>\n",
       "      <td>DESCONOCIDO</td>\n",
       "      <td>Blue</td>\n",
       "      <td>21.0</td>\n",
       "      <td>0.0</td>\n",
       "      <td>True</td>\n",
       "      <td>True</td>\n",
       "      <td>True</td>\n",
       "    </tr>\n",
       "    <tr>\n",
       "      <th>2</th>\n",
       "      <td>708084558.0</td>\n",
       "      <td>23</td>\n",
       "      <td>10000</td>\n",
       "      <td>2</td>\n",
       "      <td>7.0</td>\n",
       "      <td>OTROS</td>\n",
       "      <td>40104</td>\n",
       "      <td>EDUCACIÓN</td>\n",
       "      <td>0.25</td>\n",
       "      <td>12.72</td>\n",
       "      <td>...</td>\n",
       "      <td>1447.0</td>\n",
       "      <td>M</td>\n",
       "      <td>8258.0</td>\n",
       "      <td>POSGRADO_COMPLETO</td>\n",
       "      <td>Blue</td>\n",
       "      <td>23.0</td>\n",
       "      <td>3.0</td>\n",
       "      <td>True</td>\n",
       "      <td>True</td>\n",
       "      <td>True</td>\n",
       "    </tr>\n",
       "    <tr>\n",
       "      <th>3</th>\n",
       "      <td>708085458.0</td>\n",
       "      <td>25</td>\n",
       "      <td>6000</td>\n",
       "      <td>4</td>\n",
       "      <td>2.0</td>\n",
       "      <td>ALQUILER</td>\n",
       "      <td>23198</td>\n",
       "      <td>INVERSIONES</td>\n",
       "      <td>0.26</td>\n",
       "      <td>8.00</td>\n",
       "      <td>...</td>\n",
       "      <td>3940.0</td>\n",
       "      <td>F</td>\n",
       "      <td>1438.3</td>\n",
       "      <td>UNIVERSITARIO_INCOMPLETO</td>\n",
       "      <td>Blue</td>\n",
       "      <td>82.0</td>\n",
       "      <td>2.0</td>\n",
       "      <td>True</td>\n",
       "      <td>True</td>\n",
       "      <td>True</td>\n",
       "    </tr>\n",
       "    <tr>\n",
       "      <th>4</th>\n",
       "      <td>708086958.0</td>\n",
       "      <td>26</td>\n",
       "      <td>10000</td>\n",
       "      <td>2</td>\n",
       "      <td>0.0</td>\n",
       "      <td>HIPOTECA</td>\n",
       "      <td>50000</td>\n",
       "      <td>EDUCACIÓN</td>\n",
       "      <td>0.20</td>\n",
       "      <td>7.74</td>\n",
       "      <td>...</td>\n",
       "      <td>4369.0</td>\n",
       "      <td>F</td>\n",
       "      <td>3128.0</td>\n",
       "      <td>UNIVERSITARIO_INCOMPLETO</td>\n",
       "      <td>Blue</td>\n",
       "      <td>59.0</td>\n",
       "      <td>2.0</td>\n",
       "      <td>True</td>\n",
       "      <td>True</td>\n",
       "      <td>True</td>\n",
       "    </tr>\n",
       "  </tbody>\n",
       "</table>\n",
       "<p>5 rows × 29 columns</p>\n",
       "</div>"
      ],
      "text/plain": [
       "    id_cliente  edad  importe_solicitado  duracion_credito  \\\n",
       "0  708082083.0    24               11000                 3   \n",
       "1  708083283.0    24                1500                 2   \n",
       "2  708084558.0    23               10000                 2   \n",
       "3  708085458.0    25                6000                 4   \n",
       "4  708086958.0    26               10000                 2   \n",
       "\n",
       "   antiguedad_empleado situacion_vivienda  ingresos objetivo_credito  \\\n",
       "0                  5.0           HIPOTECA     64800      INVERSIONES   \n",
       "1                  0.0           ALQUILER     30996    MEJORAS_HOGAR   \n",
       "2                  7.0              OTROS     40104        EDUCACIÓN   \n",
       "3                  2.0           ALQUILER     23198      INVERSIONES   \n",
       "4                  0.0           HIPOTECA     50000        EDUCACIÓN   \n",
       "\n",
       "   pct_ingreso  tasa_interes  ...  gastos_ult_12m genero  limite_credito_tc  \\\n",
       "0         0.17          5.79  ...         15149.0      F             3544.0   \n",
       "1         0.05         15.99  ...           992.0      M             3421.0   \n",
       "2         0.25         12.72  ...          1447.0      M             8258.0   \n",
       "3         0.26          8.00  ...          3940.0      F             1438.3   \n",
       "4         0.20          7.74  ...          4369.0      F             3128.0   \n",
       "\n",
       "            nivel_educativo  nivel_tarjeta  operaciones_ult_12m  \\\n",
       "0       SECUNDARIO_COMPLETO           Blue                111.0   \n",
       "1               DESCONOCIDO           Blue                 21.0   \n",
       "2         POSGRADO_COMPLETO           Blue                 23.0   \n",
       "3  UNIVERSITARIO_INCOMPLETO           Blue                 82.0   \n",
       "4  UNIVERSITARIO_INCOMPLETO           Blue                 59.0   \n",
       "\n",
       "   personas_a_cargo estado_civil_ok estado_cliente_ok  nivel_tarjeta_ok  \n",
       "0               3.0            True              True              True  \n",
       "1               0.0            True              True              True  \n",
       "2               3.0            True              True              True  \n",
       "3               2.0            True              True              True  \n",
       "4               2.0            True              True              True  \n",
       "\n",
       "[5 rows x 29 columns]"
      ]
     },
     "metadata": {},
     "output_type": "display_data"
    },
    {
     "name": "stdout",
     "output_type": "stream",
     "text": [
      "Reporte general:\n",
      " - Filas del dataset creditos (inicial): 10127\n",
      " - Filas del dataset tarjetas (inicial): 10127\n",
      " - Errores detectados en la operación de unión: 0 \n",
      " - Filas del dataset unificado: 10127\n"
     ]
    }
   ],
   "source": [
    "# Las uniones se hacen de a pares - revisar nombres de atributos\n",
    "\n",
    "df_integrado = pd.merge(df_creditos, df_tarjetas, on='id_cliente', how='inner')\n",
    "coincidencias = df_integrado.shape[0]\n",
    "\n",
    "print(f\"Datos de créditos: {cantidad_filas_creditos} - Coincidencias con datos de tarjetas: {coincidencias}\")\n",
    "\n",
    "print(\"\\nSe visualiza el dataset resultante:\")\n",
    "display(df_integrado.head(5))\n",
    "\n",
    "print(f\"Reporte general:\\n \\\n",
    "- Filas del dataset creditos (inicial): {cantidad_filas_creditos}\\n \\\n",
    "- Filas del dataset tarjetas (inicial): {cantidad_filas_tarjetas}\\n \\\n",
    "- Errores detectados en la operación de unión: {abs(coincidencias - cantidad_filas_creditos)} \\n \\\n",
    "- Filas del dataset unificado: {df_integrado.shape[0]}\")"
   ]
  },
  {
   "cell_type": "code",
   "execution_count": 39,
   "metadata": {},
   "outputs": [
    {
     "name": "stdout",
     "output_type": "stream",
     "text": [
      "Casos de problemas de integridad referencial: 0\n",
      "Porcentaje de filas con problemas de integridad referencial: 0.0 %\n",
      "Evaluación: ok\n"
     ]
    }
   ],
   "source": [
    "def calcular_integridad_referencial():\n",
    "    cant_problemas = cantidad_filas_creditos - df_integrado.shape[0] # Se calcula sobre el inicio (foco)\n",
    "    print(f\"Casos de problemas de integridad referencial: {cant_problemas}\")\n",
    "\n",
    "    indicador = (cant_problemas / cantidad_filas_creditos)\n",
    "    print(f\"Porcentaje de filas con problemas de integridad referencial: {round(indicador * 100, 2)} %\")\n",
    "\n",
    "    if (indicador > INTEGRIDAD_REF):\n",
    "        print('Evaluación: no cumplimiento')\n",
    "    else:\n",
    "        print('Evaluación: ok')\n",
    "        \n",
    "calcular_integridad_referencial()"
   ]
  },
  {
   "cell_type": "markdown",
   "metadata": {},
   "source": [
    "---\n",
    "\n",
    "## Dimensión exactitud (bis)\n",
    "### (6) Reglas en valores\n",
    "\n",
    "Regla 1: Para aquellos casos en que los créditos constituyan un porcentaje de los ingresos del cliente mayor al 50% sus ingresos deberán ser mayores a 20.000."
   ]
  },
  {
   "cell_type": "code",
   "execution_count": 40,
   "metadata": {},
   "outputs": [
    {
     "name": "stdout",
     "output_type": "stream",
     "text": [
      "Se visualizan las tuplas que no cumplen con la regla:\n",
      "\n"
     ]
    },
    {
     "data": {
      "text/html": [
       "<div>\n",
       "<style scoped>\n",
       "    .dataframe tbody tr th:only-of-type {\n",
       "        vertical-align: middle;\n",
       "    }\n",
       "\n",
       "    .dataframe tbody tr th {\n",
       "        vertical-align: top;\n",
       "    }\n",
       "\n",
       "    .dataframe thead th {\n",
       "        text-align: right;\n",
       "    }\n",
       "</style>\n",
       "<table border=\"1\" class=\"dataframe\">\n",
       "  <thead>\n",
       "    <tr style=\"text-align: right;\">\n",
       "      <th></th>\n",
       "      <th>id_cliente</th>\n",
       "      <th>edad</th>\n",
       "      <th>importe_solicitado</th>\n",
       "      <th>duracion_credito</th>\n",
       "      <th>antiguedad_empleado</th>\n",
       "      <th>situacion_vivienda</th>\n",
       "      <th>ingresos</th>\n",
       "      <th>objetivo_credito</th>\n",
       "      <th>pct_ingreso</th>\n",
       "      <th>tasa_interes</th>\n",
       "      <th>...</th>\n",
       "      <th>genero</th>\n",
       "      <th>limite_credito_tc</th>\n",
       "      <th>nivel_educativo</th>\n",
       "      <th>nivel_tarjeta</th>\n",
       "      <th>operaciones_ult_12m</th>\n",
       "      <th>personas_a_cargo</th>\n",
       "      <th>estado_civil_ok</th>\n",
       "      <th>estado_cliente_ok</th>\n",
       "      <th>nivel_tarjeta_ok</th>\n",
       "      <th>regla_pct_ingresos</th>\n",
       "    </tr>\n",
       "  </thead>\n",
       "  <tbody>\n",
       "    <tr>\n",
       "      <th>466</th>\n",
       "      <td>709040508.0</td>\n",
       "      <td>21</td>\n",
       "      <td>15000</td>\n",
       "      <td>2</td>\n",
       "      <td>0.0</td>\n",
       "      <td>HIPOTECA</td>\n",
       "      <td>19500</td>\n",
       "      <td>EDUCACIÓN</td>\n",
       "      <td>0.77</td>\n",
       "      <td>9.64</td>\n",
       "      <td>...</td>\n",
       "      <td>M</td>\n",
       "      <td>19802.0</td>\n",
       "      <td>UNIVERSITARIO_INCOMPLETO</td>\n",
       "      <td>Blue</td>\n",
       "      <td>58.0</td>\n",
       "      <td>4.0</td>\n",
       "      <td>True</td>\n",
       "      <td>True</td>\n",
       "      <td>True</td>\n",
       "      <td>err</td>\n",
       "    </tr>\n",
       "    <tr>\n",
       "      <th>1550</th>\n",
       "      <td>711232608.0</td>\n",
       "      <td>21</td>\n",
       "      <td>8000</td>\n",
       "      <td>4</td>\n",
       "      <td>3.0</td>\n",
       "      <td>ALQUILER</td>\n",
       "      <td>15500</td>\n",
       "      <td>MEJORAS_HOGAR</td>\n",
       "      <td>0.52</td>\n",
       "      <td>7.51</td>\n",
       "      <td>...</td>\n",
       "      <td>F</td>\n",
       "      <td>1636.0</td>\n",
       "      <td>SECUNDARIO_COMPLETO</td>\n",
       "      <td>Blue</td>\n",
       "      <td>35.0</td>\n",
       "      <td>5.0</td>\n",
       "      <td>True</td>\n",
       "      <td>True</td>\n",
       "      <td>True</td>\n",
       "      <td>err</td>\n",
       "    </tr>\n",
       "    <tr>\n",
       "      <th>1900</th>\n",
       "      <td>711864783.0</td>\n",
       "      <td>24</td>\n",
       "      <td>10000</td>\n",
       "      <td>2</td>\n",
       "      <td>0.0</td>\n",
       "      <td>HIPOTECA</td>\n",
       "      <td>18000</td>\n",
       "      <td>PAGO_DEUDAS</td>\n",
       "      <td>0.56</td>\n",
       "      <td>12.18</td>\n",
       "      <td>...</td>\n",
       "      <td>M</td>\n",
       "      <td>2201.0</td>\n",
       "      <td>UNIVERSITARIO_INCOMPLETO</td>\n",
       "      <td>Blue</td>\n",
       "      <td>32.0</td>\n",
       "      <td>1.0</td>\n",
       "      <td>True</td>\n",
       "      <td>True</td>\n",
       "      <td>True</td>\n",
       "      <td>err</td>\n",
       "    </tr>\n",
       "    <tr>\n",
       "      <th>2573</th>\n",
       "      <td>713115483.0</td>\n",
       "      <td>22</td>\n",
       "      <td>7000</td>\n",
       "      <td>2</td>\n",
       "      <td>0.0</td>\n",
       "      <td>ALQUILER</td>\n",
       "      <td>10000</td>\n",
       "      <td>MEJORAS_HOGAR</td>\n",
       "      <td>0.70</td>\n",
       "      <td>12.21</td>\n",
       "      <td>...</td>\n",
       "      <td>F</td>\n",
       "      <td>1684.0</td>\n",
       "      <td>UNIVERSITARIO_INCOMPLETO</td>\n",
       "      <td>Blue</td>\n",
       "      <td>45.0</td>\n",
       "      <td>3.0</td>\n",
       "      <td>True</td>\n",
       "      <td>True</td>\n",
       "      <td>True</td>\n",
       "      <td>err</td>\n",
       "    </tr>\n",
       "    <tr>\n",
       "      <th>2809</th>\n",
       "      <td>713555133.0</td>\n",
       "      <td>22</td>\n",
       "      <td>8000</td>\n",
       "      <td>4</td>\n",
       "      <td>3.0</td>\n",
       "      <td>ALQUILER</td>\n",
       "      <td>14400</td>\n",
       "      <td>MEJORAS_HOGAR</td>\n",
       "      <td>0.56</td>\n",
       "      <td>9.99</td>\n",
       "      <td>...</td>\n",
       "      <td>F</td>\n",
       "      <td>1667.0</td>\n",
       "      <td>SECUNDARIO_COMPLETO</td>\n",
       "      <td>Blue</td>\n",
       "      <td>40.0</td>\n",
       "      <td>3.0</td>\n",
       "      <td>True</td>\n",
       "      <td>True</td>\n",
       "      <td>True</td>\n",
       "      <td>err</td>\n",
       "    </tr>\n",
       "  </tbody>\n",
       "</table>\n",
       "<p>5 rows × 30 columns</p>\n",
       "</div>"
      ],
      "text/plain": [
       "       id_cliente  edad  importe_solicitado  duracion_credito  \\\n",
       "466   709040508.0    21               15000                 2   \n",
       "1550  711232608.0    21                8000                 4   \n",
       "1900  711864783.0    24               10000                 2   \n",
       "2573  713115483.0    22                7000                 2   \n",
       "2809  713555133.0    22                8000                 4   \n",
       "\n",
       "      antiguedad_empleado situacion_vivienda  ingresos objetivo_credito  \\\n",
       "466                   0.0           HIPOTECA     19500        EDUCACIÓN   \n",
       "1550                  3.0           ALQUILER     15500    MEJORAS_HOGAR   \n",
       "1900                  0.0           HIPOTECA     18000      PAGO_DEUDAS   \n",
       "2573                  0.0           ALQUILER     10000    MEJORAS_HOGAR   \n",
       "2809                  3.0           ALQUILER     14400    MEJORAS_HOGAR   \n",
       "\n",
       "      pct_ingreso  tasa_interes  ...  genero limite_credito_tc  \\\n",
       "466          0.77          9.64  ...       M           19802.0   \n",
       "1550         0.52          7.51  ...       F            1636.0   \n",
       "1900         0.56         12.18  ...       M            2201.0   \n",
       "2573         0.70         12.21  ...       F            1684.0   \n",
       "2809         0.56          9.99  ...       F            1667.0   \n",
       "\n",
       "               nivel_educativo  nivel_tarjeta  operaciones_ult_12m  \\\n",
       "466   UNIVERSITARIO_INCOMPLETO           Blue                 58.0   \n",
       "1550       SECUNDARIO_COMPLETO           Blue                 35.0   \n",
       "1900  UNIVERSITARIO_INCOMPLETO           Blue                 32.0   \n",
       "2573  UNIVERSITARIO_INCOMPLETO           Blue                 45.0   \n",
       "2809       SECUNDARIO_COMPLETO           Blue                 40.0   \n",
       "\n",
       "      personas_a_cargo  estado_civil_ok estado_cliente_ok nivel_tarjeta_ok  \\\n",
       "466                4.0             True              True             True   \n",
       "1550               5.0             True              True             True   \n",
       "1900               1.0             True              True             True   \n",
       "2573               3.0             True              True             True   \n",
       "2809               3.0             True              True             True   \n",
       "\n",
       "      regla_pct_ingresos  \n",
       "466                  err  \n",
       "1550                 err  \n",
       "1900                 err  \n",
       "2573                 err  \n",
       "2809                 err  \n",
       "\n",
       "[5 rows x 30 columns]"
      ]
     },
     "metadata": {},
     "output_type": "display_data"
    },
    {
     "name": "stdout",
     "output_type": "stream",
     "text": [
      "Cantidad de filas que no cumplen la regla: 15\n",
      "Porcentaje de filas con incumplimiento de la Regla 1: 0.15 %\n"
     ]
    }
   ],
   "source": [
    "#Se puede definir una función para aplicar los cálculos\n",
    "def regla_pct_ingresos_credito(row):\n",
    "    pct_ingreso = row.pct_ingreso\n",
    "    ingresos = row.ingresos\n",
    "    \n",
    "    if pct_ingreso > 0.5 and ingresos <= 20000:\n",
    "        # Es un error, no cumple la regla definida\n",
    "        return 'err'\n",
    "    else:\n",
    "        return 'ok'\n",
    "\n",
    "\n",
    "# Se aplica la función para todos los elementos del dataset\n",
    "regla_pct_ingresos = df_integrado.apply(lambda row: regla_pct_ingresos_credito(row), axis=1).rename(\"regla_pct_ingresos\")\n",
    "\n",
    "# Se unen los resultados al dataset inicial\n",
    "df_resultado = pd.concat([df_integrado, regla_pct_ingresos], axis=1)  \n",
    "\n",
    "# Se visualizan los datos\n",
    "print(\"Se visualizan las tuplas que no cumplen con la regla:\\n\")\n",
    "display(df_resultado[df_resultado.regla_pct_ingresos == 'err'].head())\n",
    "\n",
    "\n",
    "# Se verifica la cantidad de elementos\n",
    "aux = df_resultado[df_resultado.regla_pct_ingresos == 'err']\n",
    "print(f\"Cantidad de filas que no cumplen la regla: {aux.shape[0]}\")\n",
    "\n",
    "indicador = (aux.shape[0] / cantidad_filas_creditos)\n",
    "print(f\"Porcentaje de filas con incumplimiento de la Regla 1: {round(indicador * 100, 2)} %\")\n"
   ]
  },
  {
   "cell_type": "markdown",
   "metadata": {},
   "source": [
    "Regla 2: Para aquellos créditos cuya duración sea la mínima permitida el porcentaje de los ingresos del cliente (con respecto al importe solicitado) no podrá exceder el 60% salvo en los casos en los que sea propietario de su vivienda."
   ]
  },
  {
   "cell_type": "code",
   "execution_count": 42,
   "metadata": {},
   "outputs": [
    {
     "name": "stdout",
     "output_type": "stream",
     "text": [
      "Se visualizan las tuplas que no cumplen con la Regla 2:\n",
      "\n"
     ]
    },
    {
     "data": {
      "text/html": [
       "<div>\n",
       "<style scoped>\n",
       "    .dataframe tbody tr th:only-of-type {\n",
       "        vertical-align: middle;\n",
       "    }\n",
       "\n",
       "    .dataframe tbody tr th {\n",
       "        vertical-align: top;\n",
       "    }\n",
       "\n",
       "    .dataframe thead th {\n",
       "        text-align: right;\n",
       "    }\n",
       "</style>\n",
       "<table border=\"1\" class=\"dataframe\">\n",
       "  <thead>\n",
       "    <tr style=\"text-align: right;\">\n",
       "      <th></th>\n",
       "      <th>id_cliente</th>\n",
       "      <th>edad</th>\n",
       "      <th>importe_solicitado</th>\n",
       "      <th>duracion_credito</th>\n",
       "      <th>antiguedad_empleado</th>\n",
       "      <th>situacion_vivienda</th>\n",
       "      <th>ingresos</th>\n",
       "      <th>objetivo_credito</th>\n",
       "      <th>pct_ingreso</th>\n",
       "      <th>tasa_interes</th>\n",
       "      <th>...</th>\n",
       "      <th>genero</th>\n",
       "      <th>limite_credito_tc</th>\n",
       "      <th>nivel_educativo</th>\n",
       "      <th>nivel_tarjeta</th>\n",
       "      <th>operaciones_ult_12m</th>\n",
       "      <th>personas_a_cargo</th>\n",
       "      <th>estado_civil_ok</th>\n",
       "      <th>estado_cliente_ok</th>\n",
       "      <th>nivel_tarjeta_ok</th>\n",
       "      <th>regla_duracion_credito</th>\n",
       "    </tr>\n",
       "  </thead>\n",
       "  <tbody>\n",
       "    <tr>\n",
       "      <th>466</th>\n",
       "      <td>709040508.0</td>\n",
       "      <td>21</td>\n",
       "      <td>15000</td>\n",
       "      <td>2</td>\n",
       "      <td>0.0</td>\n",
       "      <td>HIPOTECA</td>\n",
       "      <td>19500</td>\n",
       "      <td>EDUCACIÓN</td>\n",
       "      <td>0.77</td>\n",
       "      <td>9.64</td>\n",
       "      <td>...</td>\n",
       "      <td>M</td>\n",
       "      <td>19802.0</td>\n",
       "      <td>UNIVERSITARIO_INCOMPLETO</td>\n",
       "      <td>Blue</td>\n",
       "      <td>58.0</td>\n",
       "      <td>4.0</td>\n",
       "      <td>True</td>\n",
       "      <td>True</td>\n",
       "      <td>True</td>\n",
       "      <td>err</td>\n",
       "    </tr>\n",
       "    <tr>\n",
       "      <th>541</th>\n",
       "      <td>709186983.0</td>\n",
       "      <td>23</td>\n",
       "      <td>20000</td>\n",
       "      <td>2</td>\n",
       "      <td>1.0</td>\n",
       "      <td>ALQUILER</td>\n",
       "      <td>32900</td>\n",
       "      <td>EDUCACIÓN</td>\n",
       "      <td>0.61</td>\n",
       "      <td>16.00</td>\n",
       "      <td>...</td>\n",
       "      <td>M</td>\n",
       "      <td>8714.0</td>\n",
       "      <td>UNIVERSITARIO_INCOMPLETO</td>\n",
       "      <td>Blue</td>\n",
       "      <td>38.0</td>\n",
       "      <td>4.0</td>\n",
       "      <td>True</td>\n",
       "      <td>True</td>\n",
       "      <td>True</td>\n",
       "      <td>err</td>\n",
       "    </tr>\n",
       "    <tr>\n",
       "      <th>1646</th>\n",
       "      <td>711399408.0</td>\n",
       "      <td>24</td>\n",
       "      <td>29100</td>\n",
       "      <td>2</td>\n",
       "      <td>8.0</td>\n",
       "      <td>HIPOTECA</td>\n",
       "      <td>46000</td>\n",
       "      <td>PERSONAL</td>\n",
       "      <td>0.63</td>\n",
       "      <td>12.99</td>\n",
       "      <td>...</td>\n",
       "      <td>F</td>\n",
       "      <td>12373.0</td>\n",
       "      <td>UNIVERSITARIO_COMPLETO</td>\n",
       "      <td>Blue</td>\n",
       "      <td>40.0</td>\n",
       "      <td>2.0</td>\n",
       "      <td>True</td>\n",
       "      <td>True</td>\n",
       "      <td>True</td>\n",
       "      <td>err</td>\n",
       "    </tr>\n",
       "    <tr>\n",
       "      <th>2573</th>\n",
       "      <td>713115483.0</td>\n",
       "      <td>22</td>\n",
       "      <td>7000</td>\n",
       "      <td>2</td>\n",
       "      <td>0.0</td>\n",
       "      <td>ALQUILER</td>\n",
       "      <td>10000</td>\n",
       "      <td>MEJORAS_HOGAR</td>\n",
       "      <td>0.70</td>\n",
       "      <td>12.21</td>\n",
       "      <td>...</td>\n",
       "      <td>F</td>\n",
       "      <td>1684.0</td>\n",
       "      <td>UNIVERSITARIO_INCOMPLETO</td>\n",
       "      <td>Blue</td>\n",
       "      <td>45.0</td>\n",
       "      <td>3.0</td>\n",
       "      <td>True</td>\n",
       "      <td>True</td>\n",
       "      <td>True</td>\n",
       "      <td>err</td>\n",
       "    </tr>\n",
       "    <tr>\n",
       "      <th>3041</th>\n",
       "      <td>713962233.0</td>\n",
       "      <td>22</td>\n",
       "      <td>30000</td>\n",
       "      <td>2</td>\n",
       "      <td>1.0</td>\n",
       "      <td>ALQUILER</td>\n",
       "      <td>48000</td>\n",
       "      <td>EDUCACIÓN</td>\n",
       "      <td>0.63</td>\n",
       "      <td>18.39</td>\n",
       "      <td>...</td>\n",
       "      <td>F</td>\n",
       "      <td>3035.0</td>\n",
       "      <td>UNIVERSITARIO_COMPLETO</td>\n",
       "      <td>Blue</td>\n",
       "      <td>37.0</td>\n",
       "      <td>3.0</td>\n",
       "      <td>True</td>\n",
       "      <td>True</td>\n",
       "      <td>True</td>\n",
       "      <td>err</td>\n",
       "    </tr>\n",
       "  </tbody>\n",
       "</table>\n",
       "<p>5 rows × 30 columns</p>\n",
       "</div>"
      ],
      "text/plain": [
       "       id_cliente  edad  importe_solicitado  duracion_credito  \\\n",
       "466   709040508.0    21               15000                 2   \n",
       "541   709186983.0    23               20000                 2   \n",
       "1646  711399408.0    24               29100                 2   \n",
       "2573  713115483.0    22                7000                 2   \n",
       "3041  713962233.0    22               30000                 2   \n",
       "\n",
       "      antiguedad_empleado situacion_vivienda  ingresos objetivo_credito  \\\n",
       "466                   0.0           HIPOTECA     19500        EDUCACIÓN   \n",
       "541                   1.0           ALQUILER     32900        EDUCACIÓN   \n",
       "1646                  8.0           HIPOTECA     46000         PERSONAL   \n",
       "2573                  0.0           ALQUILER     10000    MEJORAS_HOGAR   \n",
       "3041                  1.0           ALQUILER     48000        EDUCACIÓN   \n",
       "\n",
       "      pct_ingreso  tasa_interes  ...  genero limite_credito_tc  \\\n",
       "466          0.77          9.64  ...       M           19802.0   \n",
       "541          0.61         16.00  ...       M            8714.0   \n",
       "1646         0.63         12.99  ...       F           12373.0   \n",
       "2573         0.70         12.21  ...       F            1684.0   \n",
       "3041         0.63         18.39  ...       F            3035.0   \n",
       "\n",
       "               nivel_educativo  nivel_tarjeta  operaciones_ult_12m  \\\n",
       "466   UNIVERSITARIO_INCOMPLETO           Blue                 58.0   \n",
       "541   UNIVERSITARIO_INCOMPLETO           Blue                 38.0   \n",
       "1646    UNIVERSITARIO_COMPLETO           Blue                 40.0   \n",
       "2573  UNIVERSITARIO_INCOMPLETO           Blue                 45.0   \n",
       "3041    UNIVERSITARIO_COMPLETO           Blue                 37.0   \n",
       "\n",
       "      personas_a_cargo  estado_civil_ok estado_cliente_ok nivel_tarjeta_ok  \\\n",
       "466                4.0             True              True             True   \n",
       "541                4.0             True              True             True   \n",
       "1646               2.0             True              True             True   \n",
       "2573               3.0             True              True             True   \n",
       "3041               3.0             True              True             True   \n",
       "\n",
       "      regla_duracion_credito  \n",
       "466                      err  \n",
       "541                      err  \n",
       "1646                     err  \n",
       "2573                     err  \n",
       "3041                     err  \n",
       "\n",
       "[5 rows x 30 columns]"
      ]
     },
     "metadata": {},
     "output_type": "display_data"
    },
    {
     "name": "stdout",
     "output_type": "stream",
     "text": [
      "Cantidad de filas que no cumplen la Regla 2: 7\n",
      "Porcentaje de filas con incumplimiento de la Regla 2: 0.07 %\n"
     ]
    }
   ],
   "source": [
    "# Se define una función para aplicar los cálculos de la Regla 2\n",
    "def regla_duracion_credito(row):\n",
    "    duracion_credito = row.duracion_credito\n",
    "    pct_ingreso = row.pct_ingreso\n",
    "    situacion_vivienda = row.situacion_vivienda\n",
    "    \n",
    "    if duracion_credito == df_integrado['duracion_credito'].min() and pct_ingreso > 0.6 and situacion_vivienda != 'PROPIA':\n",
    "        # Es un error, no cumple la regla definida\n",
    "        return 'err'\n",
    "    else:\n",
    "        return 'ok'\n",
    "\n",
    "# Se aplica la función para todos los elementos del dataset\n",
    "regla_duracion_credito_resultado = df_integrado.apply(lambda row: regla_duracion_credito(row), axis=1).rename(\"regla_duracion_credito\")\n",
    "\n",
    "# Se unen los resultados al dataset inicial\n",
    "df_resultado = pd.concat([df_integrado, regla_duracion_credito_resultado], axis=1)  \n",
    "\n",
    "# Se visualizan los datos que no cumplen con la regla\n",
    "print(\"Se visualizan las tuplas que no cumplen con la Regla 2:\\n\")\n",
    "display(df_resultado[df_resultado.regla_duracion_credito == 'err'].head())\n",
    "\n",
    "# Se verifica la cantidad de elementos que no cumplen la regla\n",
    "aux_regla_duracion_credito = df_resultado[df_resultado.regla_duracion_credito == 'err']\n",
    "print(f\"Cantidad de filas que no cumplen la Regla 2: {aux_regla_duracion_credito.shape[0]}\")\n",
    "\n",
    "# Se calcula el porcentaje de filas que no cumplen la regla respecto al total de créditos\n",
    "porcentaje_regla_duracion_credito = (aux_regla_duracion_credito.shape[0] / df_integrado.shape[0]) * 100\n",
    "print(f\"Porcentaje de filas con incumplimiento de la Regla 2: {round(porcentaje_regla_duracion_credito, 2)} %\")\n"
   ]
  },
  {
   "cell_type": "code",
   "execution_count": 43,
   "metadata": {},
   "outputs": [
    {
     "data": {
      "text/html": [
       "<div>\n",
       "<style scoped>\n",
       "    .dataframe tbody tr th:only-of-type {\n",
       "        vertical-align: middle;\n",
       "    }\n",
       "\n",
       "    .dataframe tbody tr th {\n",
       "        vertical-align: top;\n",
       "    }\n",
       "\n",
       "    .dataframe thead th {\n",
       "        text-align: right;\n",
       "    }\n",
       "</style>\n",
       "<table border=\"1\" class=\"dataframe\">\n",
       "  <thead>\n",
       "    <tr style=\"text-align: right;\">\n",
       "      <th></th>\n",
       "      <th>id_cliente</th>\n",
       "      <th>edad</th>\n",
       "      <th>importe_solicitado</th>\n",
       "      <th>duracion_credito</th>\n",
       "      <th>antiguedad_empleado</th>\n",
       "      <th>situacion_vivienda</th>\n",
       "      <th>ingresos</th>\n",
       "      <th>objetivo_credito</th>\n",
       "      <th>pct_ingreso</th>\n",
       "      <th>tasa_interes</th>\n",
       "      <th>...</th>\n",
       "      <th>gastos_ult_12m</th>\n",
       "      <th>genero</th>\n",
       "      <th>limite_credito_tc</th>\n",
       "      <th>nivel_educativo</th>\n",
       "      <th>nivel_tarjeta</th>\n",
       "      <th>operaciones_ult_12m</th>\n",
       "      <th>personas_a_cargo</th>\n",
       "      <th>estado_civil_ok</th>\n",
       "      <th>estado_cliente_ok</th>\n",
       "      <th>nivel_tarjeta_ok</th>\n",
       "    </tr>\n",
       "  </thead>\n",
       "  <tbody>\n",
       "    <tr>\n",
       "      <th>0</th>\n",
       "      <td>708082083.0</td>\n",
       "      <td>24</td>\n",
       "      <td>11000</td>\n",
       "      <td>3</td>\n",
       "      <td>5.0</td>\n",
       "      <td>HIPOTECA</td>\n",
       "      <td>64800</td>\n",
       "      <td>INVERSIONES</td>\n",
       "      <td>0.17</td>\n",
       "      <td>5.79</td>\n",
       "      <td>...</td>\n",
       "      <td>15149.0</td>\n",
       "      <td>F</td>\n",
       "      <td>3544.0</td>\n",
       "      <td>SECUNDARIO_COMPLETO</td>\n",
       "      <td>Blue</td>\n",
       "      <td>111.0</td>\n",
       "      <td>3.0</td>\n",
       "      <td>True</td>\n",
       "      <td>True</td>\n",
       "      <td>True</td>\n",
       "    </tr>\n",
       "    <tr>\n",
       "      <th>1</th>\n",
       "      <td>708083283.0</td>\n",
       "      <td>24</td>\n",
       "      <td>1500</td>\n",
       "      <td>2</td>\n",
       "      <td>0.0</td>\n",
       "      <td>ALQUILER</td>\n",
       "      <td>30996</td>\n",
       "      <td>MEJORAS_HOGAR</td>\n",
       "      <td>0.05</td>\n",
       "      <td>15.99</td>\n",
       "      <td>...</td>\n",
       "      <td>992.0</td>\n",
       "      <td>M</td>\n",
       "      <td>3421.0</td>\n",
       "      <td>DESCONOCIDO</td>\n",
       "      <td>Blue</td>\n",
       "      <td>21.0</td>\n",
       "      <td>0.0</td>\n",
       "      <td>True</td>\n",
       "      <td>True</td>\n",
       "      <td>True</td>\n",
       "    </tr>\n",
       "    <tr>\n",
       "      <th>2</th>\n",
       "      <td>708084558.0</td>\n",
       "      <td>23</td>\n",
       "      <td>10000</td>\n",
       "      <td>2</td>\n",
       "      <td>7.0</td>\n",
       "      <td>OTROS</td>\n",
       "      <td>40104</td>\n",
       "      <td>EDUCACIÓN</td>\n",
       "      <td>0.25</td>\n",
       "      <td>12.72</td>\n",
       "      <td>...</td>\n",
       "      <td>1447.0</td>\n",
       "      <td>M</td>\n",
       "      <td>8258.0</td>\n",
       "      <td>POSGRADO_COMPLETO</td>\n",
       "      <td>Blue</td>\n",
       "      <td>23.0</td>\n",
       "      <td>3.0</td>\n",
       "      <td>True</td>\n",
       "      <td>True</td>\n",
       "      <td>True</td>\n",
       "    </tr>\n",
       "    <tr>\n",
       "      <th>3</th>\n",
       "      <td>708085458.0</td>\n",
       "      <td>25</td>\n",
       "      <td>6000</td>\n",
       "      <td>4</td>\n",
       "      <td>2.0</td>\n",
       "      <td>ALQUILER</td>\n",
       "      <td>23198</td>\n",
       "      <td>INVERSIONES</td>\n",
       "      <td>0.26</td>\n",
       "      <td>8.00</td>\n",
       "      <td>...</td>\n",
       "      <td>3940.0</td>\n",
       "      <td>F</td>\n",
       "      <td>1438.3</td>\n",
       "      <td>UNIVERSITARIO_INCOMPLETO</td>\n",
       "      <td>Blue</td>\n",
       "      <td>82.0</td>\n",
       "      <td>2.0</td>\n",
       "      <td>True</td>\n",
       "      <td>True</td>\n",
       "      <td>True</td>\n",
       "    </tr>\n",
       "    <tr>\n",
       "      <th>4</th>\n",
       "      <td>708086958.0</td>\n",
       "      <td>26</td>\n",
       "      <td>10000</td>\n",
       "      <td>2</td>\n",
       "      <td>0.0</td>\n",
       "      <td>HIPOTECA</td>\n",
       "      <td>50000</td>\n",
       "      <td>EDUCACIÓN</td>\n",
       "      <td>0.20</td>\n",
       "      <td>7.74</td>\n",
       "      <td>...</td>\n",
       "      <td>4369.0</td>\n",
       "      <td>F</td>\n",
       "      <td>3128.0</td>\n",
       "      <td>UNIVERSITARIO_INCOMPLETO</td>\n",
       "      <td>Blue</td>\n",
       "      <td>59.0</td>\n",
       "      <td>2.0</td>\n",
       "      <td>True</td>\n",
       "      <td>True</td>\n",
       "      <td>True</td>\n",
       "    </tr>\n",
       "  </tbody>\n",
       "</table>\n",
       "<p>5 rows × 29 columns</p>\n",
       "</div>"
      ],
      "text/plain": [
       "    id_cliente  edad  importe_solicitado  duracion_credito  \\\n",
       "0  708082083.0    24               11000                 3   \n",
       "1  708083283.0    24                1500                 2   \n",
       "2  708084558.0    23               10000                 2   \n",
       "3  708085458.0    25                6000                 4   \n",
       "4  708086958.0    26               10000                 2   \n",
       "\n",
       "   antiguedad_empleado situacion_vivienda  ingresos objetivo_credito  \\\n",
       "0                  5.0           HIPOTECA     64800      INVERSIONES   \n",
       "1                  0.0           ALQUILER     30996    MEJORAS_HOGAR   \n",
       "2                  7.0              OTROS     40104        EDUCACIÓN   \n",
       "3                  2.0           ALQUILER     23198      INVERSIONES   \n",
       "4                  0.0           HIPOTECA     50000        EDUCACIÓN   \n",
       "\n",
       "   pct_ingreso  tasa_interes  ...  gastos_ult_12m genero  limite_credito_tc  \\\n",
       "0         0.17          5.79  ...         15149.0      F             3544.0   \n",
       "1         0.05         15.99  ...           992.0      M             3421.0   \n",
       "2         0.25         12.72  ...          1447.0      M             8258.0   \n",
       "3         0.26          8.00  ...          3940.0      F             1438.3   \n",
       "4         0.20          7.74  ...          4369.0      F             3128.0   \n",
       "\n",
       "            nivel_educativo  nivel_tarjeta  operaciones_ult_12m  \\\n",
       "0       SECUNDARIO_COMPLETO           Blue                111.0   \n",
       "1               DESCONOCIDO           Blue                 21.0   \n",
       "2         POSGRADO_COMPLETO           Blue                 23.0   \n",
       "3  UNIVERSITARIO_INCOMPLETO           Blue                 82.0   \n",
       "4  UNIVERSITARIO_INCOMPLETO           Blue                 59.0   \n",
       "\n",
       "   personas_a_cargo estado_civil_ok estado_cliente_ok  nivel_tarjeta_ok  \n",
       "0               3.0            True              True              True  \n",
       "1               0.0            True              True              True  \n",
       "2               3.0            True              True              True  \n",
       "3               2.0            True              True              True  \n",
       "4               2.0            True              True              True  \n",
       "\n",
       "[5 rows x 29 columns]"
      ]
     },
     "execution_count": 43,
     "metadata": {},
     "output_type": "execute_result"
    }
   ],
   "source": [
    "df_integrado.head()"
   ]
  },
  {
   "cell_type": "code",
   "execution_count": 44,
   "metadata": {},
   "outputs": [
    {
     "data": {
      "text/html": [
       "<div>\n",
       "<style scoped>\n",
       "    .dataframe tbody tr th:only-of-type {\n",
       "        vertical-align: middle;\n",
       "    }\n",
       "\n",
       "    .dataframe tbody tr th {\n",
       "        vertical-align: top;\n",
       "    }\n",
       "\n",
       "    .dataframe thead th {\n",
       "        text-align: right;\n",
       "    }\n",
       "</style>\n",
       "<table border=\"1\" class=\"dataframe\">\n",
       "  <thead>\n",
       "    <tr style=\"text-align: right;\">\n",
       "      <th></th>\n",
       "      <th>id_cliente</th>\n",
       "      <th>edad</th>\n",
       "      <th>importe_solicitado</th>\n",
       "      <th>duracion_credito</th>\n",
       "      <th>antiguedad_empleado</th>\n",
       "      <th>situacion_vivienda</th>\n",
       "      <th>ingresos</th>\n",
       "      <th>objetivo_credito</th>\n",
       "      <th>pct_ingreso</th>\n",
       "      <th>tasa_interes</th>\n",
       "      <th>estado_credito</th>\n",
       "      <th>falta_pago</th>\n",
       "      <th>completitud_fila</th>\n",
       "      <th>situacion_vivienda_ok</th>\n",
       "      <th>objetivo_credito_ok</th>\n",
       "      <th>falta_pago_ok</th>\n",
       "    </tr>\n",
       "  </thead>\n",
       "  <tbody>\n",
       "    <tr>\n",
       "      <th>9818</th>\n",
       "      <td>708082083.0</td>\n",
       "      <td>24</td>\n",
       "      <td>11000</td>\n",
       "      <td>3</td>\n",
       "      <td>5.0</td>\n",
       "      <td>HIPOTECA</td>\n",
       "      <td>64800</td>\n",
       "      <td>INVERSIONES</td>\n",
       "      <td>0.17</td>\n",
       "      <td>5.79</td>\n",
       "      <td>0</td>\n",
       "      <td>N</td>\n",
       "      <td>0.0</td>\n",
       "      <td>True</td>\n",
       "      <td>True</td>\n",
       "      <td>True</td>\n",
       "    </tr>\n",
       "    <tr>\n",
       "      <th>1590</th>\n",
       "      <td>708083283.0</td>\n",
       "      <td>24</td>\n",
       "      <td>1500</td>\n",
       "      <td>2</td>\n",
       "      <td>0.0</td>\n",
       "      <td>ALQUILER</td>\n",
       "      <td>30996</td>\n",
       "      <td>MEJORAS_HOGAR</td>\n",
       "      <td>0.05</td>\n",
       "      <td>15.99</td>\n",
       "      <td>1</td>\n",
       "      <td>Y</td>\n",
       "      <td>0.0</td>\n",
       "      <td>True</td>\n",
       "      <td>True</td>\n",
       "      <td>True</td>\n",
       "    </tr>\n",
       "    <tr>\n",
       "      <th>4419</th>\n",
       "      <td>708084558.0</td>\n",
       "      <td>23</td>\n",
       "      <td>10000</td>\n",
       "      <td>2</td>\n",
       "      <td>7.0</td>\n",
       "      <td>OTROS</td>\n",
       "      <td>40104</td>\n",
       "      <td>EDUCACIÓN</td>\n",
       "      <td>0.25</td>\n",
       "      <td>12.72</td>\n",
       "      <td>0</td>\n",
       "      <td>Y</td>\n",
       "      <td>0.0</td>\n",
       "      <td>True</td>\n",
       "      <td>True</td>\n",
       "      <td>True</td>\n",
       "    </tr>\n",
       "    <tr>\n",
       "      <th>6148</th>\n",
       "      <td>708085458.0</td>\n",
       "      <td>25</td>\n",
       "      <td>6000</td>\n",
       "      <td>4</td>\n",
       "      <td>2.0</td>\n",
       "      <td>ALQUILER</td>\n",
       "      <td>23198</td>\n",
       "      <td>INVERSIONES</td>\n",
       "      <td>0.26</td>\n",
       "      <td>8.00</td>\n",
       "      <td>0</td>\n",
       "      <td>N</td>\n",
       "      <td>0.0</td>\n",
       "      <td>True</td>\n",
       "      <td>True</td>\n",
       "      <td>True</td>\n",
       "    </tr>\n",
       "    <tr>\n",
       "      <th>6784</th>\n",
       "      <td>708086958.0</td>\n",
       "      <td>26</td>\n",
       "      <td>10000</td>\n",
       "      <td>2</td>\n",
       "      <td>0.0</td>\n",
       "      <td>HIPOTECA</td>\n",
       "      <td>50000</td>\n",
       "      <td>EDUCACIÓN</td>\n",
       "      <td>0.20</td>\n",
       "      <td>7.74</td>\n",
       "      <td>0</td>\n",
       "      <td>N</td>\n",
       "      <td>0.0</td>\n",
       "      <td>True</td>\n",
       "      <td>True</td>\n",
       "      <td>True</td>\n",
       "    </tr>\n",
       "  </tbody>\n",
       "</table>\n",
       "</div>"
      ],
      "text/plain": [
       "       id_cliente  edad  importe_solicitado  duracion_credito  \\\n",
       "9818  708082083.0    24               11000                 3   \n",
       "1590  708083283.0    24                1500                 2   \n",
       "4419  708084558.0    23               10000                 2   \n",
       "6148  708085458.0    25                6000                 4   \n",
       "6784  708086958.0    26               10000                 2   \n",
       "\n",
       "      antiguedad_empleado situacion_vivienda  ingresos objetivo_credito  \\\n",
       "9818                  5.0           HIPOTECA     64800      INVERSIONES   \n",
       "1590                  0.0           ALQUILER     30996    MEJORAS_HOGAR   \n",
       "4419                  7.0              OTROS     40104        EDUCACIÓN   \n",
       "6148                  2.0           ALQUILER     23198      INVERSIONES   \n",
       "6784                  0.0           HIPOTECA     50000        EDUCACIÓN   \n",
       "\n",
       "      pct_ingreso  tasa_interes  estado_credito falta_pago  completitud_fila  \\\n",
       "9818         0.17          5.79               0          N               0.0   \n",
       "1590         0.05         15.99               1          Y               0.0   \n",
       "4419         0.25         12.72               0          Y               0.0   \n",
       "6148         0.26          8.00               0          N               0.0   \n",
       "6784         0.20          7.74               0          N               0.0   \n",
       "\n",
       "      situacion_vivienda_ok  objetivo_credito_ok  falta_pago_ok  \n",
       "9818                   True                 True           True  \n",
       "1590                   True                 True           True  \n",
       "4419                   True                 True           True  \n",
       "6148                   True                 True           True  \n",
       "6784                   True                 True           True  "
      ]
     },
     "execution_count": 44,
     "metadata": {},
     "output_type": "execute_result"
    }
   ],
   "source": [
    "df_creditos.head()"
   ]
  },
  {
   "cell_type": "code",
   "execution_count": 45,
   "metadata": {},
   "outputs": [
    {
     "data": {
      "text/html": [
       "<div>\n",
       "<style scoped>\n",
       "    .dataframe tbody tr th:only-of-type {\n",
       "        vertical-align: middle;\n",
       "    }\n",
       "\n",
       "    .dataframe tbody tr th {\n",
       "        vertical-align: top;\n",
       "    }\n",
       "\n",
       "    .dataframe thead th {\n",
       "        text-align: right;\n",
       "    }\n",
       "</style>\n",
       "<table border=\"1\" class=\"dataframe\">\n",
       "  <thead>\n",
       "    <tr style=\"text-align: right;\">\n",
       "      <th></th>\n",
       "      <th>id_cliente</th>\n",
       "      <th>antiguedad_cliente</th>\n",
       "      <th>estado_civil</th>\n",
       "      <th>estado_cliente</th>\n",
       "      <th>gastos_ult_12m</th>\n",
       "      <th>genero</th>\n",
       "      <th>limite_credito_tc</th>\n",
       "      <th>nivel_educativo</th>\n",
       "      <th>nivel_tarjeta</th>\n",
       "      <th>operaciones_ult_12m</th>\n",
       "      <th>personas_a_cargo</th>\n",
       "      <th>estado_civil_ok</th>\n",
       "      <th>estado_cliente_ok</th>\n",
       "      <th>nivel_tarjeta_ok</th>\n",
       "    </tr>\n",
       "  </thead>\n",
       "  <tbody>\n",
       "    <tr>\n",
       "      <th>9818</th>\n",
       "      <td>708082083.0</td>\n",
       "      <td>36.0</td>\n",
       "      <td>CASADO</td>\n",
       "      <td>ACTIVO</td>\n",
       "      <td>15149.0</td>\n",
       "      <td>F</td>\n",
       "      <td>3544.0</td>\n",
       "      <td>SECUNDARIO_COMPLETO</td>\n",
       "      <td>Blue</td>\n",
       "      <td>111.0</td>\n",
       "      <td>3.0</td>\n",
       "      <td>True</td>\n",
       "      <td>True</td>\n",
       "      <td>True</td>\n",
       "    </tr>\n",
       "    <tr>\n",
       "      <th>1590</th>\n",
       "      <td>708083283.0</td>\n",
       "      <td>45.0</td>\n",
       "      <td>SOLTERO</td>\n",
       "      <td>PASIVO</td>\n",
       "      <td>992.0</td>\n",
       "      <td>M</td>\n",
       "      <td>3421.0</td>\n",
       "      <td>DESCONOCIDO</td>\n",
       "      <td>Blue</td>\n",
       "      <td>21.0</td>\n",
       "      <td>0.0</td>\n",
       "      <td>True</td>\n",
       "      <td>True</td>\n",
       "      <td>True</td>\n",
       "    </tr>\n",
       "    <tr>\n",
       "      <th>4419</th>\n",
       "      <td>708084558.0</td>\n",
       "      <td>38.0</td>\n",
       "      <td>DIVORCIADO</td>\n",
       "      <td>PASIVO</td>\n",
       "      <td>1447.0</td>\n",
       "      <td>M</td>\n",
       "      <td>8258.0</td>\n",
       "      <td>POSGRADO_COMPLETO</td>\n",
       "      <td>Blue</td>\n",
       "      <td>23.0</td>\n",
       "      <td>3.0</td>\n",
       "      <td>True</td>\n",
       "      <td>True</td>\n",
       "      <td>True</td>\n",
       "    </tr>\n",
       "    <tr>\n",
       "      <th>6148</th>\n",
       "      <td>708085458.0</td>\n",
       "      <td>24.0</td>\n",
       "      <td>SOLTERO</td>\n",
       "      <td>ACTIVO</td>\n",
       "      <td>3940.0</td>\n",
       "      <td>F</td>\n",
       "      <td>1438.3</td>\n",
       "      <td>UNIVERSITARIO_INCOMPLETO</td>\n",
       "      <td>Blue</td>\n",
       "      <td>82.0</td>\n",
       "      <td>2.0</td>\n",
       "      <td>True</td>\n",
       "      <td>True</td>\n",
       "      <td>True</td>\n",
       "    </tr>\n",
       "    <tr>\n",
       "      <th>6784</th>\n",
       "      <td>708086958.0</td>\n",
       "      <td>41.0</td>\n",
       "      <td>CASADO</td>\n",
       "      <td>ACTIVO</td>\n",
       "      <td>4369.0</td>\n",
       "      <td>F</td>\n",
       "      <td>3128.0</td>\n",
       "      <td>UNIVERSITARIO_INCOMPLETO</td>\n",
       "      <td>Blue</td>\n",
       "      <td>59.0</td>\n",
       "      <td>2.0</td>\n",
       "      <td>True</td>\n",
       "      <td>True</td>\n",
       "      <td>True</td>\n",
       "    </tr>\n",
       "  </tbody>\n",
       "</table>\n",
       "</div>"
      ],
      "text/plain": [
       "       id_cliente  antiguedad_cliente estado_civil estado_cliente  \\\n",
       "9818  708082083.0                36.0       CASADO         ACTIVO   \n",
       "1590  708083283.0                45.0      SOLTERO         PASIVO   \n",
       "4419  708084558.0                38.0   DIVORCIADO         PASIVO   \n",
       "6148  708085458.0                24.0      SOLTERO         ACTIVO   \n",
       "6784  708086958.0                41.0       CASADO         ACTIVO   \n",
       "\n",
       "      gastos_ult_12m genero  limite_credito_tc           nivel_educativo  \\\n",
       "9818         15149.0      F             3544.0       SECUNDARIO_COMPLETO   \n",
       "1590           992.0      M             3421.0               DESCONOCIDO   \n",
       "4419          1447.0      M             8258.0         POSGRADO_COMPLETO   \n",
       "6148          3940.0      F             1438.3  UNIVERSITARIO_INCOMPLETO   \n",
       "6784          4369.0      F             3128.0  UNIVERSITARIO_INCOMPLETO   \n",
       "\n",
       "     nivel_tarjeta  operaciones_ult_12m  personas_a_cargo  estado_civil_ok  \\\n",
       "9818          Blue                111.0               3.0             True   \n",
       "1590          Blue                 21.0               0.0             True   \n",
       "4419          Blue                 23.0               3.0             True   \n",
       "6148          Blue                 82.0               2.0             True   \n",
       "6784          Blue                 59.0               2.0             True   \n",
       "\n",
       "      estado_cliente_ok  nivel_tarjeta_ok  \n",
       "9818               True              True  \n",
       "1590               True              True  \n",
       "4419               True              True  \n",
       "6148               True              True  \n",
       "6784               True              True  "
      ]
     },
     "execution_count": 45,
     "metadata": {},
     "output_type": "execute_result"
    }
   ],
   "source": [
    "df_tarjetas.head()"
   ]
  },
  {
   "cell_type": "code",
   "execution_count": 46,
   "metadata": {},
   "outputs": [],
   "source": [
    "df_creditos.to_csv(\"../../data/processed/datos_creditos_mc.csv\", sep=\";\", index=False)"
   ]
  },
  {
   "cell_type": "code",
   "execution_count": 47,
   "metadata": {},
   "outputs": [],
   "source": [
    "df_tarjetas.to_csv(\"../../data/processed/datos_tarjetas_mc.csv\", sep=\";\", index=False)\n",
    "df_resultado.to_csv(\"../../data/processed/datos_integrados.csv\", sep=\";\", index=False)"
   ]
  }
 ],
 "metadata": {
  "kernelspec": {
   "display_name": "data",
   "language": "python",
   "name": "python3"
  },
  "language_info": {
   "codemirror_mode": {
    "name": "ipython",
    "version": 3
   },
   "file_extension": ".py",
   "mimetype": "text/x-python",
   "name": "python",
   "nbconvert_exporter": "python",
   "pygments_lexer": "ipython3",
   "version": "3.11.5"
  }
 },
 "nbformat": 4,
 "nbformat_minor": 2
}
